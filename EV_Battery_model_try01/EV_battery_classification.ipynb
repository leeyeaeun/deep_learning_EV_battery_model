{
 "cells": [
  {
   "cell_type": "code",
   "execution_count": 2,
   "id": "00a2eeec",
   "metadata": {},
   "outputs": [],
   "source": [
    "import pandas as pd\n",
    "from sklearn.model_selection import train_test_split\n",
    "from sklearn.preprocessing import StandardScaler\n",
    "from sklearn.metrics import classification_report, confusion_matrix, accuracy_score\n",
    "import torch\n",
    "import torch.nn as nn\n",
    "from torch.utils.data import TensorDataset, DataLoader"
   ]
  },
  {
   "cell_type": "code",
   "execution_count": 3,
   "id": "f2d57231",
   "metadata": {},
   "outputs": [
    {
     "data": {
      "text/html": [
       "<div>\n",
       "<style scoped>\n",
       "    .dataframe tbody tr th:only-of-type {\n",
       "        vertical-align: middle;\n",
       "    }\n",
       "\n",
       "    .dataframe tbody tr th {\n",
       "        vertical-align: top;\n",
       "    }\n",
       "\n",
       "    .dataframe thead th {\n",
       "        text-align: right;\n",
       "    }\n",
       "</style>\n",
       "<table border=\"1\" class=\"dataframe\">\n",
       "  <thead>\n",
       "    <tr style=\"text-align: right;\">\n",
       "      <th></th>\n",
       "      <th>SoC</th>\n",
       "      <th>Temperature</th>\n",
       "      <th>Voltage</th>\n",
       "      <th>Label</th>\n",
       "    </tr>\n",
       "  </thead>\n",
       "  <tbody>\n",
       "    <tr>\n",
       "      <th>0</th>\n",
       "      <td>100.000000</td>\n",
       "      <td>298.150000</td>\n",
       "      <td>4.014300</td>\n",
       "      <td>0</td>\n",
       "    </tr>\n",
       "    <tr>\n",
       "      <th>1</th>\n",
       "      <td>99.173138</td>\n",
       "      <td>298.849283</td>\n",
       "      <td>3.916820</td>\n",
       "      <td>0</td>\n",
       "    </tr>\n",
       "    <tr>\n",
       "      <th>2</th>\n",
       "      <td>98.346276</td>\n",
       "      <td>299.665201</td>\n",
       "      <td>3.887562</td>\n",
       "      <td>0</td>\n",
       "    </tr>\n",
       "    <tr>\n",
       "      <th>3</th>\n",
       "      <td>97.519413</td>\n",
       "      <td>300.497825</td>\n",
       "      <td>3.877287</td>\n",
       "      <td>0</td>\n",
       "    </tr>\n",
       "    <tr>\n",
       "      <th>4</th>\n",
       "      <td>96.692551</td>\n",
       "      <td>301.327592</td>\n",
       "      <td>3.870545</td>\n",
       "      <td>0</td>\n",
       "    </tr>\n",
       "  </tbody>\n",
       "</table>\n",
       "</div>"
      ],
      "text/plain": [
       "          SoC  Temperature   Voltage  Label\n",
       "0  100.000000   298.150000  4.014300      0\n",
       "1   99.173138   298.849283  3.916820      0\n",
       "2   98.346276   299.665201  3.887562      0\n",
       "3   97.519413   300.497825  3.877287      0\n",
       "4   96.692551   301.327592  3.870545      0"
      ]
     },
     "execution_count": 3,
     "metadata": {},
     "output_type": "execute_result"
    }
   ],
   "source": [
    "df = pd.read_excel('multiple_battery_data.xlsx', engine='openpyxl')\n",
    "df.head()"
   ]
  },
  {
   "cell_type": "code",
   "execution_count": 4,
   "id": "5aad9830",
   "metadata": {},
   "outputs": [
    {
     "name": "stdout",
     "output_type": "stream",
     "text": [
      "       count  percent(%)\n",
      "Label                   \n",
      "0        424       36.81\n",
      "1        364       31.60\n",
      "2        364       31.60\n"
     ]
    }
   ],
   "source": [
    "import pandas as pd\n",
    "import matplotlib.pyplot as plt\n",
    "\n",
    "counts = df['Label'].value_counts().sort_index()\n",
    "percent = df['Label'].value_counts(normalize=True).sort_index() * 100\n",
    "\n",
    "dist_df = pd.DataFrame({\n",
    "    'count': counts,\n",
    "    'percent(%)': percent.round(2)\n",
    "})\n",
    "print(dist_df)\n"
   ]
  },
  {
   "cell_type": "code",
   "execution_count": 5,
   "id": "62086cab",
   "metadata": {},
   "outputs": [
    {
     "data": {
      "image/png": "[encoded data removed]",
      "text/plain": [
       "<Figure size 600x400 with 1 Axes>"
      ]
     },
     "metadata": {},
     "output_type": "display_data"
    }
   ],
   "source": [
    "plt.figure(figsize=(6,4))\n",
    "dist_df['count'].plot(kind='bar')\n",
    "plt.xlabel('Label (0=Normal, 1=Over Discharge, 2=Short Circuit)')\n",
    "plt.ylabel('Number of Samples')\n",
    "plt.title('Label Distribution')\n",
    "plt.xticks(rotation=0)\n",
    "plt.tight_layout()\n",
    "plt.show()"
   ]
  },
  {
   "cell_type": "code",
   "execution_count": 6,
   "id": "da834cd3",
   "metadata": {},
   "outputs": [
    {
     "data": {
      "text/html": [
       "<div>\n",
       "<style scoped>\n",
       "    .dataframe tbody tr th:only-of-type {\n",
       "        vertical-align: middle;\n",
       "    }\n",
       "\n",
       "    .dataframe tbody tr th {\n",
       "        vertical-align: top;\n",
       "    }\n",
       "\n",
       "    .dataframe thead th {\n",
       "        text-align: right;\n",
       "    }\n",
       "</style>\n",
       "<table border=\"1\" class=\"dataframe\">\n",
       "  <thead>\n",
       "    <tr style=\"text-align: right;\">\n",
       "      <th></th>\n",
       "      <th>SoC</th>\n",
       "      <th>Temperature</th>\n",
       "      <th>Voltage</th>\n",
       "      <th>Label</th>\n",
       "    </tr>\n",
       "  </thead>\n",
       "  <tbody>\n",
       "    <tr>\n",
       "      <th>0</th>\n",
       "      <td>100.000000</td>\n",
       "      <td>298.150000</td>\n",
       "      <td>4.014300</td>\n",
       "      <td>0</td>\n",
       "    </tr>\n",
       "    <tr>\n",
       "      <th>1</th>\n",
       "      <td>99.173138</td>\n",
       "      <td>298.849283</td>\n",
       "      <td>3.916820</td>\n",
       "      <td>0</td>\n",
       "    </tr>\n",
       "    <tr>\n",
       "      <th>2</th>\n",
       "      <td>98.346276</td>\n",
       "      <td>299.665201</td>\n",
       "      <td>3.887562</td>\n",
       "      <td>0</td>\n",
       "    </tr>\n",
       "    <tr>\n",
       "      <th>3</th>\n",
       "      <td>97.519413</td>\n",
       "      <td>300.497825</td>\n",
       "      <td>3.877287</td>\n",
       "      <td>0</td>\n",
       "    </tr>\n",
       "    <tr>\n",
       "      <th>4</th>\n",
       "      <td>96.692551</td>\n",
       "      <td>301.327592</td>\n",
       "      <td>3.870545</td>\n",
       "      <td>0</td>\n",
       "    </tr>\n",
       "  </tbody>\n",
       "</table>\n",
       "</div>"
      ],
      "text/plain": [
       "          SoC  Temperature   Voltage  Label\n",
       "0  100.000000   298.150000  4.014300      0\n",
       "1   99.173138   298.849283  3.916820      0\n",
       "2   98.346276   299.665201  3.887562      0\n",
       "3   97.519413   300.497825  3.877287      0\n",
       "4   96.692551   301.327592  3.870545      0"
      ]
     },
     "execution_count": 6,
     "metadata": {},
     "output_type": "execute_result"
    }
   ],
   "source": [
    "df.head()"
   ]
  },
  {
   "cell_type": "code",
   "execution_count": 7,
   "id": "3477a463",
   "metadata": {},
   "outputs": [],
   "source": [
    "X = df[['SoC', 'Temperature', 'Voltage']].values.astype('float32')\n",
    "y = df['Label'].values.astype('int64')\n",
    "\n",
    "# 80/10/10 train/val/test 분할 \n",
    "X_train, X_tmp, y_train, y_tmp = train_test_split(\n",
    "    X, y, test_size=0.2, random_state=42, stratify=y\n",
    ")\n",
    "X_val, X_test, y_val, y_test = train_test_split(\n",
    "    X_tmp, y_tmp, test_size=0.5, random_state=42, stratify=y_tmp\n",
    ")\n",
    "\n",
    "scaler = StandardScaler()\n",
    "X_train = scaler.fit_transform(X_train)\n",
    "X_val   = scaler.transform(X_val)\n",
    "X_test  = scaler.transform(X_test)"
   ]
  },
  {
   "cell_type": "code",
   "execution_count": 8,
   "id": "9ad028b9",
   "metadata": {},
   "outputs": [],
   "source": [
    "batch_size = 128\n",
    "train_ds = TensorDataset(torch.from_numpy(X_train), torch.from_numpy(y_train))\n",
    "val_ds   = TensorDataset(torch.from_numpy(X_val),   torch.from_numpy(y_val))\n",
    "test_ds  = TensorDataset(torch.from_numpy(X_test),  torch.from_numpy(y_test))\n",
    "\n",
    "train_loader = DataLoader(train_ds, batch_size=batch_size, shuffle=True)\n",
    "val_loader   = DataLoader(val_ds,   batch_size=batch_size)\n",
    "test_loader  = DataLoader(test_ds,  batch_size=batch_size)"
   ]
  },
  {
   "cell_type": "code",
   "execution_count": 44,
   "id": "6fd8beff",
   "metadata": {},
   "outputs": [],
   "source": [
    "class BatteryNet(nn.Module):\n",
    "    def __init__(self, input_dim, hidden1=64, hidden2=32, num_classes=3,dropout=0.1):\n",
    "        super().__init__()\n",
    "        self.model = nn.Sequential(\n",
    "            nn.Linear(input_dim, hidden1),\n",
    "            nn.ReLU(),\n",
    "            nn.Dropout(dropout),\n",
    "            nn.Linear(hidden1, hidden2),\n",
    "            nn.ReLU(),\n",
    "            nn.Linear(hidden2, num_classes)\n",
    "        )\n",
    "    def forward(self, x):\n",
    "        return self.model(x)\n",
    "\n",
    "device = torch.device('cuda' if torch.cuda.is_available() else 'cpu')\n",
    "model = BatteryNet(input_dim=3).to(device)"
   ]
  },
  {
   "cell_type": "code",
   "execution_count": 38,
   "id": "e93ac0a4",
   "metadata": {},
   "outputs": [],
   "source": [
    "criterion = nn.CrossEntropyLoss()\n",
    "optimizer = torch.optim.Adam(model.parameters(), lr=1e-3)"
   ]
  },
  {
   "cell_type": "code",
   "execution_count": 39,
   "id": "0cd1898e",
   "metadata": {},
   "outputs": [],
   "source": [
    "from tqdm import tqdm"
   ]
  },
  {
   "cell_type": "code",
   "execution_count": 47,
   "id": "9670ff6d",
   "metadata": {},
   "outputs": [
    {
     "name": "stderr",
     "output_type": "stream",
     "text": []
    },
    {
     "name": "stdout",
     "output_type": "stream",
     "text": [
      "Best config: 0.001 0.2 Val Acc: 0.7652173913043478\n"
     ]
    },
    {
     "data": {
      "text/plain": [
       "<All keys matched successfully>"
      ]
     },
     "execution_count": 47,
     "metadata": {},
     "output_type": "execute_result"
    }
   ],
   "source": [
    "num_epochs = 100\n",
    "patience    = 10  \n",
    "\n",
    "best_overall = {'val_acc': 0.0}\n",
    "\n",
    "for lr in [1e-4, 3e-4, 1e-3]:\n",
    "    for drop_p in [0.2, 0.4, 0.6]:\n",
    "        # 하이퍼파라미터마다 새로 초기화\n",
    "        model = BatteryNet(input_dim = 3, dropout=drop_p).to(device)\n",
    "        optimizer = torch.optim.AdamW(model.parameters(), lr=lr)\n",
    "        best_val_acc = 0.0\n",
    "        best_state   = None\n",
    "        counter      = 0\n",
    "\n",
    "        for epoch in tqdm(range(1, num_epochs+1), leave=False, desc=f\"LR={lr}, Drop={drop_p}\"):\n",
    "            # --- Training ---\n",
    "            model.train()\n",
    "            total_loss = 0\n",
    "            for xb, yb in train_loader:\n",
    "                xb, yb = xb.to(device), yb.to(device)\n",
    "                optimizer.zero_grad()\n",
    "                loss = criterion(model(xb), yb)\n",
    "                loss.backward()\n",
    "                optimizer.step()\n",
    "                total_loss += loss.item()\n",
    "            avg_loss = total_loss / len(train_loader)\n",
    "\n",
    "            # --- Validation ---\n",
    "            model.eval()\n",
    "            correct = 0\n",
    "            with torch.no_grad():\n",
    "                for xb, yb in val_loader:\n",
    "                    xb, yb = xb.to(device), yb.to(device)\n",
    "                    preds = model(xb).argmax(dim=1)\n",
    "                    correct += (preds == yb).sum().item()\n",
    "            val_acc = correct / len(val_ds)\n",
    "\n",
    "            # 최적 모델 저장 & 얼리스톱\n",
    "            if val_acc > best_val_acc:\n",
    "                best_val_acc = val_acc\n",
    "                best_state   = model.state_dict()\n",
    "                counter = 0\n",
    "            else:\n",
    "                counter += 1\n",
    "            if counter >= patience:\n",
    "                break\n",
    "\n",
    "        # 이 하이퍼파라미터 조합의 최고 성능을 전체와 비교\n",
    "        if best_val_acc > best_overall['val_acc']:\n",
    "            best_overall.update({\n",
    "                'val_acc': best_val_acc,\n",
    "                'lr': lr,\n",
    "                'dropout': drop_p,\n",
    "                'state': best_state\n",
    "            })\n",
    "\n",
    "\n",
    "print(\"Best config:\", best_overall['lr'], best_overall['dropout'], \n",
    "      \"Val Acc:\", best_overall['val_acc'])\n",
    "model.load_state_dict(best_overall['state'])"
   ]
  },
  {
   "cell_type": "code",
   "execution_count": 48,
   "id": "98c28b5d",
   "metadata": {},
   "outputs": [
    {
     "name": "stdout",
     "output_type": "stream",
     "text": [
      "\n",
      "Test Accuracy: 0.8017241379310345\n",
      "\n",
      "Classification Report:\n",
      "                     precision    recall  f1-score   support\n",
      "\n",
      "             Normal       0.68      0.88      0.77        43\n",
      "      Voltage Fault       0.79      0.51      0.62        37\n",
      "Short Circuit Fault       1.00      1.00      1.00        36\n",
      "\n",
      "           accuracy                           0.80       116\n",
      "          macro avg       0.82      0.80      0.80       116\n",
      "       weighted avg       0.81      0.80      0.79       116\n",
      "\n",
      "\n",
      "Confusion Matrix:\n",
      "[[38  5  0]\n",
      " [18 19  0]\n",
      " [ 0  0 36]]\n"
     ]
    }
   ],
   "source": [
    "model.eval()\n",
    "all_preds, all_labels = [], []\n",
    "with torch.no_grad():\n",
    "    for xb, yb in test_loader:\n",
    "        xb = xb.to(device)\n",
    "        preds = model(xb).argmax(dim=1).cpu().numpy()\n",
    "        all_preds.extend(preds)\n",
    "        all_labels.extend(yb.numpy())\n",
    "\n",
    "print(\"\\nTest Accuracy:\", accuracy_score(all_labels, all_preds))\n",
    "print(\"\\nClassification Report:\")\n",
    "print(classification_report(all_labels, all_preds, target_names=['Normal','Voltage Fault','Short Circuit Fault']))\n",
    "print(\"\\nConfusion Matrix:\")\n",
    "print(confusion_matrix(all_labels, all_preds))"
   ]
  },
  {
   "cell_type": "code",
   "execution_count": 14,
   "id": "f41fefae",
   "metadata": {},
   "outputs": [
    {
     "data": {
      "text/plain": [
       "['scaler.pkl']"
      ]
     },
     "execution_count": 14,
     "metadata": {},
     "output_type": "execute_result"
    }
   ],
   "source": [
    "torch.save(model.state_dict(), 'battery_fault_model.pth')\n",
    "import joblib\n",
    "joblib.dump(scaler, 'scaler.pkl')"
   ]
  },
  {
   "cell_type": "code",
   "execution_count": 15,
   "id": "7c70b688",
   "metadata": {},
   "outputs": [],
   "source": [
    "from sklearn.preprocessing import label_binarize\n",
    "from sklearn.metrics import roc_curve, auc\n",
    "import numpy as np"
   ]
  },
  {
   "cell_type": "code",
   "execution_count": 49,
   "id": "b618d386",
   "metadata": {},
   "outputs": [
    {
     "data": {
      "image/png": "[encoded data removed]",
      "text/plain": [
       "<Figure size 640x480 with 1 Axes>"
      ]
     },
     "metadata": {},
     "output_type": "display_data"
    }
   ],
   "source": [
    "model.eval()\n",
    "all_scores = []\n",
    "all_labels = []\n",
    "with torch.no_grad():\n",
    "    for xb, yb in test_loader:\n",
    "        xb = xb.to(device)\n",
    "        logits = model(xb)\n",
    "        probs = nn.Softmax(dim=1)(logits).cpu().numpy()\n",
    "        all_scores.append(probs)\n",
    "        all_labels.append(yb.numpy())\n",
    "y_score = np.vstack(all_scores)\n",
    "y_true = np.concatenate(all_labels)\n",
    "\n",
    "# 2) 다중 클래스용 이진화\n",
    "y_true_bin = label_binarize(y_true, classes=[0, 1, 2])\n",
    "\n",
    "# 3) 클래스별 ROC 곡선 및 AUC 계산\n",
    "fpr = {}\n",
    "tpr = {}\n",
    "roc_auc = {}\n",
    "for i in range(3):\n",
    "    fpr[i], tpr[i], _ = roc_curve(y_true_bin[:, i], y_score[:, i])\n",
    "    roc_auc[i] = auc(fpr[i], tpr[i])\n",
    "\n",
    "# 4) ROC 곡선 그리기\n",
    "plt.figure()\n",
    "for i in range(3):\n",
    "    plt.plot(fpr[i], tpr[i], label=f'Class {i} (AUC = {roc_auc[i]:.2f})')\n",
    "plt.plot([0, 1], [0, 1], linestyle='--')\n",
    "plt.xlabel('False Positive Rate')\n",
    "plt.ylabel('True Positive Rate')\n",
    "plt.title('Multi-class ROC Curve')\n",
    "plt.legend()\n",
    "plt.tight_layout()\n",
    "plt.show()"
   ]
  },
  {
   "cell_type": "code",
   "execution_count": 17,
   "id": "5bd9bc11",
   "metadata": {},
   "outputs": [],
   "source": [
    "import pytorch_lightning as pl\n",
    "from torchmetrics import Accuracy\n",
    "from pytorch_lightning.callbacks import EarlyStopping, LearningRateMonitor\n",
    "import torch.nn.functional as F"
   ]
  },
  {
   "cell_type": "code",
   "execution_count": 18,
   "id": "4dc88c11",
   "metadata": {},
   "outputs": [],
   "source": [
    "from torchmetrics import Accuracy, ConfusionMatrix, Precision, Recall, AUROC, F1Score\n",
    "from pytorch_lightning.loggers import TensorBoardLogger\n",
    "import matplotlib.pyplot as plt\n",
    "import seaborn as sns"
   ]
  },
  {
   "cell_type": "code",
   "execution_count": 29,
   "id": "1e7c9156",
   "metadata": {},
   "outputs": [
    {
     "name": "stderr",
     "output_type": "stream",
     "text": [
      "Using default `ModelCheckpoint`. Consider installing `litmodels` package to enable `LitModelCheckpoint` for automatic upload to the Lightning model registry.\n",
      "GPU available: True (cuda), used: True\n",
      "TPU available: False, using: 0 TPU cores\n",
      "HPU available: False, using: 0 HPUs\n"
     ]
    },
    {
     "name": "stderr",
     "output_type": "stream",
     "text": [
      "LOCAL_RANK: 0 - CUDA_VISIBLE_DEVICES: [0]\n",
      "Loading `train_dataloader` to estimate number of stepping batches.\n",
      "\n",
      "  | Name     | Type               | Params | Mode \n",
      "--------------------------------------------------------\n",
      "0 | fc_in    | Linear             | 512    | train\n",
      "1 | bn_in    | BatchNorm1d        | 256    | train\n",
      "2 | res1     | ResidualBlock      | 33.5 K | train\n",
      "3 | drop     | Dropout            | 0      | train\n",
      "4 | res2     | ResidualBlock      | 33.5 K | train\n",
      "5 | fc_out   | Linear             | 387    | train\n",
      "6 | accuracy | MulticlassAccuracy | 0      | train\n",
      "--------------------------------------------------------\n",
      "68.2 K    Trainable params\n",
      "0         Non-trainable params\n",
      "68.2 K    Total params\n",
      "0.273     Total estimated model params size (MB)\n",
      "15        Modules in train mode\n",
      "0         Modules in eval mode\n"
     ]
    },
    {
     "name": "stdout",
     "output_type": "stream",
     "text": [
      "Epoch 7: 100%|██████████| 15/15 [00:00<00:00, 29.01it/s, v_num=2, train_loss=0.498, train_acc=0.760, val_loss=0.504, val_acc=0.757]"
     ]
    },
    {
     "name": "stderr",
     "output_type": "stream",
     "text": [
      "LOCAL_RANK: 0 - CUDA_VISIBLE_DEVICES: [0]\n"
     ]
    },
    {
     "name": "stdout",
     "output_type": "stream",
     "text": [
      "\n",
      "Testing DataLoader 0: 100%|██████████| 2/2 [00:00<00:00, 107.56it/s]\n",
      "────────────────────────────────────────────────────────────────────────────────────────────────────────────────────────\n",
      "       Test metric             DataLoader 0\n",
      "────────────────────────────────────────────────────────────────────────────────────────────────────────────────────────\n",
      "        test_acc            0.8103448152542114\n",
      "────────────────────────────────────────────────────────────────────────────────────────────────────────────────────────\n"
     ]
    },
    {
     "data": {
      "text/plain": [
       "[{'test_acc': 0.8103448152542114}]"
      ]
     },
     "execution_count": 29,
     "metadata": {},
     "output_type": "execute_result"
    }
   ],
   "source": [
    "X_tr, X_tmp, y_tr, y_tmp = train_test_split(X, y, test_size=0.2, stratify=y, random_state=42)\n",
    "X_val, X_te, y_val, y_te = train_test_split(X_tmp, y_tmp, test_size=0.5, stratify=y_tmp, random_state=42)\n",
    "\n",
    "scaler = StandardScaler()\n",
    "X_tr = scaler.fit_transform(X_tr)\n",
    "X_val = scaler.transform(X_val)\n",
    "X_te = scaler.transform(X_te)\n",
    "\n",
    "train_ds = TensorDataset(torch.from_numpy(X_tr), torch.from_numpy(y_tr))\n",
    "val_ds   = TensorDataset(torch.from_numpy(X_val), torch.from_numpy(y_val))\n",
    "test_ds  = TensorDataset(torch.from_numpy(X_te), torch.from_numpy(y_te))\n",
    "\n",
    "class ResidualBlock(nn.Module):\n",
    "    def __init__(self, dim):\n",
    "        super().__init__()\n",
    "        self.fc1 = nn.Linear(dim, dim)\n",
    "        self.bn1 = nn.BatchNorm1d(dim)\n",
    "        self.fc2 = nn.Linear(dim, dim)\n",
    "        self.bn2 = nn.BatchNorm1d(dim)\n",
    "\n",
    "    def forward(self, x):\n",
    "        identity = x\n",
    "        out = F.relu(self.bn1(self.fc1(x)))\n",
    "        out = self.bn2(self.fc2(out))\n",
    "        return F.relu(out + identity)\n",
    "\n",
    "class BatteryClassifier(pl.LightningModule):\n",
    "    def __init__(self, input_dim=3, num_classes=3, lr=1e-3):\n",
    "        super().__init__()\n",
    "        self.save_hyperparameters()\n",
    "        self.fc_in = nn.Linear(input_dim, 128)\n",
    "        self.bn_in = nn.BatchNorm1d(128)\n",
    "        self.res1 = ResidualBlock(128)\n",
    "        self.drop = nn.Dropout(0.4)\n",
    "        self.res2 = ResidualBlock(128)\n",
    "        self.fc_out = nn.Linear(128, num_classes)\n",
    "        self.accuracy = Accuracy(task=\"multiclass\", num_classes=num_classes)\n",
    "\n",
    "    def forward(self, x):\n",
    "        x = F.relu(self.bn_in(self.fc_in(x)))\n",
    "        x = self.res1(x)\n",
    "        x = self.drop(x)\n",
    "        x = self.res2(x)\n",
    "        return self.fc_out(x)\n",
    "\n",
    "    def training_step(self, batch, batch_idx):\n",
    "        x, y = batch\n",
    "        logits = self(x)\n",
    "        loss = F.cross_entropy(logits, y)\n",
    "        self.log('train_loss', loss, prog_bar=True)\n",
    "        self.log('train_acc', self.accuracy(logits.softmax(1), y), prog_bar=True)\n",
    "        return loss\n",
    "\n",
    "    def validation_step(self, batch, batch_idx):\n",
    "        x, y = batch\n",
    "        logits = self(x)\n",
    "        loss = F.cross_entropy(logits, y)\n",
    "        self.log('val_loss', loss, prog_bar=True)\n",
    "        self.log('val_acc', self.accuracy(logits.softmax(1), y), prog_bar=True)\n",
    "\n",
    "    def test_step(self, batch, batch_idx):\n",
    "        x, y = batch\n",
    "        logits = self(x)\n",
    "        self.log('test_acc', self.accuracy(logits.softmax(1), y), prog_bar=True)\n",
    "\n",
    "    def configure_optimizers(self):\n",
    "        optimizer = torch.optim.AdamW(self.parameters(), lr=self.hparams.lr, weight_decay=1e-4)\n",
    "        scheduler = torch.optim.lr_scheduler.OneCycleLR(\n",
    "            optimizer, max_lr=self.hparams.lr*10,\n",
    "            total_steps=self.trainer.estimated_stepping_batches\n",
    "        )\n",
    "        return {'optimizer': optimizer,\n",
    "                'lr_scheduler': {'scheduler': scheduler, 'interval': 'step'}}\n",
    "\n",
    "\n",
    "train_loader = DataLoader(train_ds, batch_size=64, shuffle=True, num_workers=4)\n",
    "val_loader   = DataLoader(val_ds,   batch_size=64, num_workers=4)\n",
    "test_loader  = DataLoader(test_ds,  batch_size=64, num_workers=4)\n",
    "\n",
    "early_stop = EarlyStopping(monitor='val_loss', patience=5, mode='min')\n",
    "lr_monitor = LearningRateMonitor(logging_interval='step')\n",
    "\n",
    "#Train\n",
    "model = BatteryClassifier()\n",
    "trainer = pl.Trainer(\n",
    "    max_epochs=50,\n",
    "    callbacks=[early_stop, lr_monitor],\n",
    "    accelerator='auto', devices='auto',    # GPU 자동 감지\n",
    "    log_every_n_steps=10\n",
    ")\n",
    "trainer.fit(model, train_loader, val_loader)\n",
    "trainer.test(model, test_loader)\n"
   ]
  },
  {
   "cell_type": "code",
   "execution_count": null,
   "id": "c0fc78a1",
   "metadata": {},
   "outputs": [],
   "source": []
  }
 ],
 "metadata": {
  "kernelspec": {
   "display_name": "base",
   "language": "python",
   "name": "python3"
  },
  "language_info": {
   "codemirror_mode": {
    "name": "ipython",
    "version": 3
   },
   "file_extension": ".py",
   "mimetype": "text/x-python",
   "name": "python",
   "nbconvert_exporter": "python",
   "pygments_lexer": "ipython3",
   "version": "3.10.13"
  }
 },
 "nbformat": 4,
 "nbformat_minor": 5
}
