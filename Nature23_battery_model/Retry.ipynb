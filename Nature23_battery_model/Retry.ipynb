{
 "cells": [
  {
   "cell_type": "code",
   "execution_count": 17,
   "id": "98384509",
   "metadata": {},
   "outputs": [],
   "source": [
    "import os\n",
    "import torch\n",
    "import torch.nn as nn\n",
    "from torch.utils.data import Dataset, DataLoader\n",
    "from glob import glob\n",
    "import numpy as np\n",
    "import matplotlib.pyplot as plt\n",
    "from tqdm import tqdm\n",
    "\n",
    "# --------------------------\n",
    "# Dataset Definition\n",
    "# --------------------------\n",
    "from sklearn.preprocessing import StandardScaler\n",
    "\n",
    "class BatteryDataset(Dataset):\n",
    "    def __init__(self, pkl_paths):\n",
    "        self.paths = pkl_paths\n",
    "        self.scaler = StandardScaler()\n",
    "\n",
    "        # 모든 데이터를 flatten 후 fit (학습셋에 대해서만)\n",
    "        all_data = []\n",
    "        for path in self.paths:\n",
    "            x = torch.load(path, weights_only=False)[0]\n",
    "            all_data.append(x)\n",
    "        all_data = np.concatenate(all_data, axis=0)\n",
    "        self.scaler.fit(all_data)\n",
    "        \n",
    "    def __len__(self):\n",
    "        return len(self.paths)\n",
    "\n",
    "    def __getitem__(self, idx):\n",
    "        path = self.paths[idx]\n",
    "        data = torch.load(path, weights_only=False)\n",
    "        x = data[0]\n",
    "        x = self.scaler.transform(x)\n",
    "        x = torch.tensor(x, dtype=torch.float32)\n",
    "        label_raw = float(data[1]['label'])\n",
    "        label = 1.0 if label_raw == 10.0 else 0.0\n",
    "        y = torch.tensor(label, dtype=torch.float32)\n",
    "        return x, y\n"
   ]
  },
  {
   "cell_type": "code",
   "execution_count": 18,
   "id": "84c55b1e",
   "metadata": {},
   "outputs": [],
   "source": [
    "class BatteryTestDataset(Dataset):\n",
    "    def __init__(self, pkl_paths, scaler):\n",
    "        self.paths = pkl_paths\n",
    "        self.scaler = scaler\n",
    "\n",
    "    def __len__(self):\n",
    "        return len(self.paths)\n",
    "\n",
    "    def __getitem__(self, idx):\n",
    "        path = self.paths[idx]\n",
    "        data = torch.load(path, weights_only=False)\n",
    "        x = data[0]\n",
    "        x = self.scaler.transform(x)\n",
    "        x = torch.tensor(x, dtype=torch.float32)\n",
    "        label_raw = float(data[1]['label'])\n",
    "        label = 1.0 if label_raw == 10.0 else 0.0\n",
    "        y = torch.tensor(label, dtype=torch.float32)\n",
    "        return x, y\n"
   ]
  },
  {
   "cell_type": "code",
   "execution_count": 11,
   "id": "b287053b",
   "metadata": {},
   "outputs": [],
   "source": [
    "\n",
    "# --------------------------\n",
    "# LSTM Model\n",
    "# --------------------------\n",
    "class LSTMClassifier(nn.Module):\n",
    "    def __init__(self, input_dim=8, hidden_dim=64, num_layers=2):\n",
    "        super(LSTMClassifier, self).__init__()\n",
    "        self.lstm = nn.LSTM(input_dim, hidden_dim, num_layers, batch_first=True)\n",
    "        self.fc = nn.Linear(hidden_dim, 1)\n",
    "\n",
    "    def forward(self, x):\n",
    "        out, _ = self.lstm(x)\n",
    "        out = self.fc(out[:, -1, :])  # 마지막 타임스텝\n",
    "        return out.squeeze(1)\n"
   ]
  },
  {
   "cell_type": "code",
   "execution_count": 19,
   "id": "b91df103",
   "metadata": {},
   "outputs": [
    {
     "name": "stderr",
     "output_type": "stream",
     "text": [
      "/tmp/ipykernel_2010955/3184336798.py:8: FutureWarning: You are using `torch.load` with `weights_only=False` (the current default value), which uses the default pickle module implicitly. It is possible to construct malicious pickle data which will execute arbitrary code during unpickling (See https://github.com/pytorch/pytorch/blob/main/SECURITY.md#untrusted-models for more details). In a future release, the default value for `weights_only` will be flipped to `True`. This limits the functions that could be executed during unpickling. Arbitrary objects will no longer be allowed to be loaded via this mode unless they are explicitly allowlisted by the user via `torch.serialization.add_safe_globals`. We recommend you start setting `weights_only=True` for any use case where you don't have full control of the loaded file. Please open an issue on GitHub for any issues related to this experimental feature.\n",
      "  normal_count = sum(int(torch.load(p)[1]['label']) == 0 for p in train_paths)\n",
      "/tmp/ipykernel_2010955/3184336798.py:9: FutureWarning: You are using `torch.load` with `weights_only=False` (the current default value), which uses the default pickle module implicitly. It is possible to construct malicious pickle data which will execute arbitrary code during unpickling (See https://github.com/pytorch/pytorch/blob/main/SECURITY.md#untrusted-models for more details). In a future release, the default value for `weights_only` will be flipped to `True`. This limits the functions that could be executed during unpickling. Arbitrary objects will no longer be allowed to be loaded via this mode unless they are explicitly allowlisted by the user via `torch.serialization.add_safe_globals`. We recommend you start setting `weights_only=True` for any use case where you don't have full control of the loaded file. Please open an issue on GitHub for any issues related to this experimental feature.\n",
      "  abnormal_count = sum(int(torch.load(p)[1]['label']) == 10 for p in train_paths)\n"
     ]
    }
   ],
   "source": [
    "\n",
    "# --------------------------\n",
    "# Prepare Data\n",
    "# --------------------------\n",
    "train_paths = glob('./dataset/battery_brand1/train/*.pkl')\n",
    "test_paths = glob('./dataset/battery_brand1/test/*.pkl')\n",
    "\n",
    "# 클래스별 비율\n",
    "normal_count = sum(int(torch.load(p)[1]['label']) == 0 for p in train_paths)\n",
    "abnormal_count = sum(int(torch.load(p)[1]['label']) == 10 for p in train_paths)\n",
    "pos_weight = torch.tensor([normal_count / abnormal_count])\n",
    "\n",
    "train_dataset = BatteryDataset(train_paths)\n",
    "test_dataset = BatteryTestDataset(test_paths,  scaler=train_dataset.scaler)\n",
    "train_loader = DataLoader(train_dataset, batch_size=512*4, shuffle=True, pin_memory=True)\n",
    "test_loader = DataLoader(test_dataset, batch_size=512*4,  pin_memory=True)\n"
   ]
  },
  {
   "cell_type": "code",
   "execution_count": 25,
   "id": "7684dac3",
   "metadata": {},
   "outputs": [],
   "source": [
    "\n",
    "# --------------------------\n",
    "# Training Loop\n",
    "# --------------------------\n",
    "device = torch.device(\"cuda\" if torch.cuda.is_available() else \"cpu\")\n",
    "model = LSTMClassifier().to(device)\n",
    "criterion = nn.BCEWithLogitsLoss(pos_weight=pos_weight.to(device))\n",
    "optimizer = torch.optim.Adam(model.parameters(), lr=0.01)\n",
    "scheduler = torch.optim.lr_scheduler.ReduceLROnPlateau(\n",
    "    optimizer, mode='min', factor=0.5, patience=3, verbose=True\n",
    ")\n",
    "\n",
    "num_epochs = 25\n",
    "loss_history = []\n"
   ]
  },
  {
   "cell_type": "code",
   "execution_count": 26,
   "id": "1d0787c0",
   "metadata": {},
   "outputs": [
    {
     "data": {
      "text/plain": [
       "device(type='cuda')"
      ]
     },
     "execution_count": 26,
     "metadata": {},
     "output_type": "execute_result"
    }
   ],
   "source": [
    "device"
   ]
  },
  {
   "cell_type": "code",
   "execution_count": 22,
   "id": "1b5ac531",
   "metadata": {},
   "outputs": [
    {
     "name": "stdout",
     "output_type": "stream",
     "text": [
      "y 라벨 샘플: tensor([0., 0., 0., 0., 0., 0., 0., 0., 0., 0.])\n",
      "y 데이터 타입: torch.float32\n",
      "y 고유 값들: tensor([0., 1.])\n"
     ]
    }
   ],
   "source": [
    "X_batch, y_batch = next(iter(train_loader))\n",
    "print(\"y 라벨 샘플:\", y_batch[:10])\n",
    "print(\"y 데이터 타입:\", y_batch.dtype)\n",
    "print(\"y 고유 값들:\", y_batch.unique())"
   ]
  },
  {
   "cell_type": "code",
   "execution_count": 27,
   "id": "184a627c",
   "metadata": {},
   "outputs": [
    {
     "name": "stderr",
     "output_type": "stream",
     "text": [
      "Epoch 1/25: 100%|██████████| 204/204 [02:39<00:00,  1.28it/s]\n",
      "  4%|▍         | 1/25 [02:39<1:03:50, 159.60s/it]"
     ]
    },
    {
     "name": "stdout",
     "output_type": "stream",
     "text": [
      "[Epoch 01] Average Loss: 1.2783 | Train Accuracy: 0.6120\n"
     ]
    },
    {
     "name": "stderr",
     "output_type": "stream",
     "text": [
      "Epoch 2/25: 100%|██████████| 204/204 [02:32<00:00,  1.34it/s]\n",
      "  8%|▊         | 2/25 [05:12<59:41, 155.70s/it]  "
     ]
    },
    {
     "name": "stdout",
     "output_type": "stream",
     "text": [
      "[Epoch 02] Average Loss: 1.2259 | Train Accuracy: 0.6460\n"
     ]
    },
    {
     "name": "stderr",
     "output_type": "stream",
     "text": [
      "Epoch 3/25: 100%|██████████| 204/204 [02:33<00:00,  1.32it/s]\n",
      " 12%|█▏        | 3/25 [07:46<56:50, 155.00s/it]"
     ]
    },
    {
     "name": "stdout",
     "output_type": "stream",
     "text": [
      "[Epoch 03] Average Loss: 1.2069 | Train Accuracy: 0.6468\n"
     ]
    },
    {
     "name": "stderr",
     "output_type": "stream",
     "text": [
      "Epoch 4/25: 100%|██████████| 204/204 [02:35<00:00,  1.31it/s]\n",
      " 16%|█▌        | 4/25 [10:22<54:19, 155.19s/it]"
     ]
    },
    {
     "name": "stdout",
     "output_type": "stream",
     "text": [
      "[Epoch 04] Average Loss: 1.2063 | Train Accuracy: 0.6466\n"
     ]
    },
    {
     "name": "stderr",
     "output_type": "stream",
     "text": [
      "Epoch 5/25: 100%|██████████| 204/204 [02:35<00:00,  1.31it/s]\n",
      " 20%|██        | 5/25 [12:58<51:50, 155.50s/it]"
     ]
    },
    {
     "name": "stdout",
     "output_type": "stream",
     "text": [
      "[Epoch 05] Average Loss: 1.1873 | Train Accuracy: 0.6538\n"
     ]
    },
    {
     "name": "stderr",
     "output_type": "stream",
     "text": [
      "Epoch 6/25: 100%|██████████| 204/204 [02:35<00:00,  1.31it/s]\n",
      " 24%|██▍       | 6/25 [15:33<49:14, 155.49s/it]"
     ]
    },
    {
     "name": "stdout",
     "output_type": "stream",
     "text": [
      "[Epoch 06] Average Loss: 1.1795 | Train Accuracy: 0.6585\n"
     ]
    },
    {
     "name": "stderr",
     "output_type": "stream",
     "text": [
      "Epoch 7/25: 100%|██████████| 204/204 [02:36<00:00,  1.31it/s]\n",
      " 28%|██▊       | 7/25 [18:10<46:44, 155.82s/it]"
     ]
    },
    {
     "name": "stdout",
     "output_type": "stream",
     "text": [
      "[Epoch 07] Average Loss: 1.1660 | Train Accuracy: 0.6546\n"
     ]
    },
    {
     "name": "stderr",
     "output_type": "stream",
     "text": [
      "Epoch 8/25: 100%|██████████| 204/204 [02:34<00:00,  1.32it/s]\n",
      " 32%|███▏      | 8/25 [20:44<44:01, 155.36s/it]"
     ]
    },
    {
     "name": "stdout",
     "output_type": "stream",
     "text": [
      "[Epoch 08] Average Loss: 1.1578 | Train Accuracy: 0.6514\n"
     ]
    },
    {
     "name": "stderr",
     "output_type": "stream",
     "text": [
      "Epoch 9/25: 100%|██████████| 204/204 [02:33<00:00,  1.33it/s]\n",
      " 36%|███▌      | 9/25 [23:18<41:16, 154.80s/it]"
     ]
    },
    {
     "name": "stdout",
     "output_type": "stream",
     "text": [
      "[Epoch 09] Average Loss: 1.1468 | Train Accuracy: 0.6770\n"
     ]
    },
    {
     "name": "stderr",
     "output_type": "stream",
     "text": [
      "Epoch 10/25: 100%|██████████| 204/204 [02:35<00:00,  1.31it/s]\n",
      " 40%|████      | 10/25 [25:53<38:45, 155.05s/it]"
     ]
    },
    {
     "name": "stdout",
     "output_type": "stream",
     "text": [
      "[Epoch 10] Average Loss: 1.1357 | Train Accuracy: 0.6906\n"
     ]
    },
    {
     "name": "stderr",
     "output_type": "stream",
     "text": [
      "Epoch 11/25: 100%|██████████| 204/204 [02:35<00:00,  1.32it/s]\n",
      " 44%|████▍     | 11/25 [28:28<36:11, 155.10s/it]"
     ]
    },
    {
     "name": "stdout",
     "output_type": "stream",
     "text": [
      "[Epoch 11] Average Loss: 1.1250 | Train Accuracy: 0.6874\n"
     ]
    },
    {
     "name": "stderr",
     "output_type": "stream",
     "text": [
      "Epoch 12/25: 100%|██████████| 204/204 [02:34<00:00,  1.32it/s]\n",
      " 48%|████▊     | 12/25 [31:03<33:35, 155.05s/it]"
     ]
    },
    {
     "name": "stdout",
     "output_type": "stream",
     "text": [
      "[Epoch 12] Average Loss: 1.1101 | Train Accuracy: 0.6845\n"
     ]
    },
    {
     "name": "stderr",
     "output_type": "stream",
     "text": [
      "Epoch 13/25: 100%|██████████| 204/204 [02:33<00:00,  1.33it/s]\n",
      " 52%|█████▏    | 13/25 [33:37<30:56, 154.74s/it]"
     ]
    },
    {
     "name": "stdout",
     "output_type": "stream",
     "text": [
      "[Epoch 13] Average Loss: 1.0990 | Train Accuracy: 0.6829\n"
     ]
    },
    {
     "name": "stderr",
     "output_type": "stream",
     "text": [
      "Epoch 14/25: 100%|██████████| 204/204 [02:35<00:00,  1.31it/s]\n",
      " 56%|█████▌    | 14/25 [36:13<28:25, 155.03s/it]"
     ]
    },
    {
     "name": "stdout",
     "output_type": "stream",
     "text": [
      "[Epoch 14] Average Loss: 1.0889 | Train Accuracy: 0.6956\n"
     ]
    },
    {
     "name": "stderr",
     "output_type": "stream",
     "text": [
      "Epoch 15/25: 100%|██████████| 204/204 [02:33<00:00,  1.33it/s]\n",
      " 60%|██████    | 15/25 [38:47<25:46, 154.60s/it]"
     ]
    },
    {
     "name": "stdout",
     "output_type": "stream",
     "text": [
      "[Epoch 15] Average Loss: 1.0806 | Train Accuracy: 0.6885\n"
     ]
    },
    {
     "name": "stderr",
     "output_type": "stream",
     "text": [
      "Epoch 16/25: 100%|██████████| 204/204 [02:35<00:00,  1.31it/s]\n",
      " 64%|██████▍   | 16/25 [41:22<23:13, 154.86s/it]"
     ]
    },
    {
     "name": "stdout",
     "output_type": "stream",
     "text": [
      "[Epoch 16] Average Loss: 1.0803 | Train Accuracy: 0.7030\n"
     ]
    },
    {
     "name": "stderr",
     "output_type": "stream",
     "text": [
      "Epoch 17/25: 100%|██████████| 204/204 [02:35<00:00,  1.31it/s]\n",
      " 68%|██████▊   | 17/25 [43:58<20:41, 155.25s/it]"
     ]
    },
    {
     "name": "stdout",
     "output_type": "stream",
     "text": [
      "[Epoch 17] Average Loss: 1.0687 | Train Accuracy: 0.7055\n"
     ]
    },
    {
     "name": "stderr",
     "output_type": "stream",
     "text": [
      "Epoch 18/25: 100%|██████████| 204/204 [02:35<00:00,  1.31it/s]\n",
      " 72%|███████▏  | 18/25 [46:34<18:07, 155.40s/it]"
     ]
    },
    {
     "name": "stdout",
     "output_type": "stream",
     "text": [
      "[Epoch 18] Average Loss: 1.0528 | Train Accuracy: 0.7130\n"
     ]
    },
    {
     "name": "stderr",
     "output_type": "stream",
     "text": [
      "Epoch 19/25: 100%|██████████| 204/204 [02:34<00:00,  1.32it/s]\n",
      " 76%|███████▌  | 19/25 [49:09<15:30, 155.16s/it]"
     ]
    },
    {
     "name": "stdout",
     "output_type": "stream",
     "text": [
      "[Epoch 19] Average Loss: 1.0575 | Train Accuracy: 0.7120\n"
     ]
    },
    {
     "name": "stderr",
     "output_type": "stream",
     "text": [
      "Epoch 20/25: 100%|██████████| 204/204 [02:32<00:00,  1.33it/s]\n",
      " 80%|████████  | 20/25 [51:42<12:52, 154.51s/it]"
     ]
    },
    {
     "name": "stdout",
     "output_type": "stream",
     "text": [
      "[Epoch 20] Average Loss: 1.0433 | Train Accuracy: 0.7175\n"
     ]
    },
    {
     "name": "stderr",
     "output_type": "stream",
     "text": [
      "Epoch 21/25: 100%|██████████| 204/204 [02:34<00:00,  1.32it/s]\n",
      " 84%|████████▍ | 21/25 [54:16<10:17, 154.44s/it]"
     ]
    },
    {
     "name": "stdout",
     "output_type": "stream",
     "text": [
      "[Epoch 21] Average Loss: 1.0527 | Train Accuracy: 0.6946\n"
     ]
    },
    {
     "name": "stderr",
     "output_type": "stream",
     "text": [
      "Epoch 22/25: 100%|██████████| 204/204 [02:35<00:00,  1.31it/s]\n",
      " 88%|████████▊ | 22/25 [56:51<07:44, 154.73s/it]"
     ]
    },
    {
     "name": "stdout",
     "output_type": "stream",
     "text": [
      "[Epoch 22] Average Loss: 1.0463 | Train Accuracy: 0.7065\n"
     ]
    },
    {
     "name": "stderr",
     "output_type": "stream",
     "text": [
      "Epoch 23/25: 100%|██████████| 204/204 [02:36<00:00,  1.30it/s]\n",
      " 92%|█████████▏| 23/25 [59:29<05:10, 155.45s/it]"
     ]
    },
    {
     "name": "stdout",
     "output_type": "stream",
     "text": [
      "[Epoch 23] Average Loss: 1.0362 | Train Accuracy: 0.7136\n"
     ]
    },
    {
     "name": "stderr",
     "output_type": "stream",
     "text": [
      "Epoch 24/25: 100%|██████████| 204/204 [02:35<00:00,  1.31it/s]\n",
      " 96%|█████████▌| 24/25 [1:02:04<02:35, 155.46s/it]"
     ]
    },
    {
     "name": "stdout",
     "output_type": "stream",
     "text": [
      "[Epoch 24] Average Loss: 1.1127 | Train Accuracy: 0.6694\n"
     ]
    },
    {
     "name": "stderr",
     "output_type": "stream",
     "text": [
      "Epoch 25/25: 100%|██████████| 204/204 [02:36<00:00,  1.31it/s]\n",
      "100%|██████████| 25/25 [1:04:40<00:00, 155.23s/it]"
     ]
    },
    {
     "name": "stdout",
     "output_type": "stream",
     "text": [
      "[Epoch 25] Average Loss: 1.1226 | Train Accuracy: 0.6960\n"
     ]
    },
    {
     "name": "stderr",
     "output_type": "stream",
     "text": [
      "\n"
     ]
    }
   ],
   "source": [
    "from sklearn.metrics import accuracy_score\n",
    "\n",
    "for epoch in tqdm(range(num_epochs)):\n",
    "    model.train()\n",
    "    epoch_loss = 0\n",
    "    all_preds = []\n",
    "    all_labels = []\n",
    "\n",
    "    for X, y in tqdm(train_loader, desc=f\"Epoch {epoch+1}/{num_epochs}\"):\n",
    "        X, y = X.to(device), y.to(device)\n",
    "        optimizer.zero_grad()\n",
    "        logits = model(X).to(device)\n",
    "        loss = criterion(logits, y)\n",
    "        loss.backward()\n",
    "        optimizer.step()\n",
    "\n",
    "        epoch_loss += loss.item() * X.size(0)\n",
    "\n",
    "        # accuracy 계산을 위한 예측 결과 수집\n",
    "        preds = torch.sigmoid(logits) > 0.5\n",
    "        all_preds.extend(preds.detach().cpu().numpy())\n",
    "        all_labels.extend(y.detach().cpu().numpy())\n",
    "\n",
    "    avg_loss = epoch_loss / len(train_loader.dataset)\n",
    "    train_acc = accuracy_score(all_labels, all_preds)\n",
    "    loss_history.append(avg_loss)\n",
    "    scheduler.step(avg_loss)\n",
    "\n",
    "    print(f\"[Epoch {epoch+1:02d}] Average Loss: {avg_loss:.4f} | Train Accuracy: {train_acc:.4f}\")\n"
   ]
  },
  {
   "cell_type": "code",
   "execution_count": 28,
   "id": "82ce5278",
   "metadata": {},
   "outputs": [
    {
     "data": {
      "image/png": "[encoded data removed]",
      "text/plain": [
       "<Figure size 640x480 with 1 Axes>"
      ]
     },
     "metadata": {},
     "output_type": "display_data"
    }
   ],
   "source": [
    "\n",
    "# --------------------------\n",
    "# Save Model & Hyperparameters\n",
    "# --------------------------\n",
    "os.makedirs('./saved_models', exist_ok=True)\n",
    "torch.save(model.state_dict(), './saved_models/lstm_brand1.pt')\n",
    "torch.save({\n",
    "    'input_dim': 8,\n",
    "    'hidden_dim': 64,\n",
    "    'num_layers': 2,\n",
    "    'pos_weight': pos_weight.item(),\n",
    "    'lr': 1e-2,\n",
    "    'batch_size': 512,\n",
    "    'epochs': num_epochs,\n",
    "}, './saved_models/lstm_brand1_hparams.pt')\n",
    "\n",
    "# --------------------------\n",
    "# Plot Loss History\n",
    "# --------------------------\n",
    "plt.plot(loss_history, marker='o')\n",
    "plt.title(\"Train Loss per Epoch\")\n",
    "plt.xlabel(\"Epoch\")\n",
    "plt.ylabel(\"Loss\")\n",
    "plt.grid(True)\n",
    "plt.tight_layout()\n",
    "plt.show()\n"
   ]
  },
  {
   "cell_type": "code",
   "execution_count": 16,
   "id": "edf97545",
   "metadata": {},
   "outputs": [
    {
     "data": {
      "text/plain": [
       "[2.7948318688387688,\n",
       " 2.7099255163825884,\n",
       " 2.6655173532682497,\n",
       " 2.6453363408266144,\n",
       " 2.6377261483348455,\n",
       " 2.6328262398146065,\n",
       " 2.6207820357909766,\n",
       " 2.616203119685441,\n",
       " 2.614657456258559,\n",
       " 2.6127449416697437]"
      ]
     },
     "execution_count": 16,
     "metadata": {},
     "output_type": "execute_result"
    }
   ],
   "source": [
    "loss_history"
   ]
  },
  {
   "cell_type": "markdown",
   "id": "0d2e7752",
   "metadata": {},
   "source": [
    "<h1> Confusion Matrix "
   ]
  },
  {
   "cell_type": "code",
   "execution_count": 32,
   "id": "8b36f178",
   "metadata": {},
   "outputs": [],
   "source": [
    "from sklearn.metrics import confusion_matrix, accuracy_score, f1_score\n",
    "import matplotlib.pyplot as plt\n",
    "import seaborn as sns\n",
    "import numpy as np\n",
    "import torch\n",
    "\n",
    "def evaluate_model(model, test_loader, device):\n",
    "    model.eval()\n",
    "    all_preds = []\n",
    "    all_labels = []\n",
    "\n",
    "    with torch.no_grad():\n",
    "        for X, y in test_loader:\n",
    "            X = X.to(device)\n",
    "            y = y.to(device).float()\n",
    "\n",
    "            logits = model(X)\n",
    "            probs = torch.sigmoid(logits)\n",
    "            preds = (probs >= 0.5).long()\n",
    "\n",
    "            all_preds.extend(preds.cpu().numpy().astype(int))\n",
    "            all_labels.extend(y.cpu().numpy().astype(int))\n",
    "\n",
    "\n",
    "    # 📊 스코어 계산\n",
    "    acc = accuracy_score(all_labels, all_preds)\n",
    "    f1 = f1_score(all_labels, all_preds, average='binary')\n",
    "    cm = confusion_matrix(all_labels, all_preds)\n",
    "\n",
    "    print(f\"✅ Accuracy: {acc:.4f}\")\n",
    "    print(f\"✅ F1 Score: {f1:.4f}\")\n",
    "    print(f\"📊 Confusion Matrix:\\n{cm}\")\n",
    "\n",
    "    # 📈 시각화\n",
    "    plt.figure(figsize=(5, 4))\n",
    "    sns.heatmap(cm, annot=True, fmt=\"d\", cmap=\"Blues\", \n",
    "                xticklabels=[\"Normal\", \"Abnormal\"], yticklabels=[\"Normal\", \"Abnormal\"])\n",
    "    plt.xlabel(\"Predicted\")\n",
    "    plt.ylabel(\"Actual\")\n",
    "    plt.title(\"Confusion Matrix\")\n",
    "    plt.tight_layout()\n",
    "    plt.show()\n"
   ]
  },
  {
   "cell_type": "code",
   "execution_count": 33,
   "id": "7f7e3a2d",
   "metadata": {},
   "outputs": [
    {
     "name": "stdout",
     "output_type": "stream",
     "text": [
      "✅ Accuracy: 0.7641\n",
      "✅ F1 Score: 0.3032\n",
      "📊 Confusion Matrix:\n",
      "[[42838  9917]\n",
      " [ 4260  3085]]\n"
     ]
    },
    {
     "data": {
      "image/png": "[encoded data removed]",
      "text/plain": [
       "<Figure size 500x400 with 2 Axes>"
      ]
     },
     "metadata": {},
     "output_type": "display_data"
    }
   ],
   "source": [
    "evaluate_model(model, test_loader, device)"
   ]
  },
  {
   "cell_type": "code",
   "execution_count": null,
   "id": "1391d1c8",
   "metadata": {},
   "outputs": [],
   "source": []
  }
 ],
 "metadata": {
  "kernelspec": {
   "display_name": "base",
   "language": "python",
   "name": "python3"
  },
  "language_info": {
   "codemirror_mode": {
    "name": "ipython",
    "version": 3
   },
   "file_extension": ".py",
   "mimetype": "text/x-python",
   "name": "python",
   "nbconvert_exporter": "python",
   "pygments_lexer": "ipython3",
   "version": "3.10.13"
  }
 },
 "nbformat": 4,
 "nbformat_minor": 5
}
