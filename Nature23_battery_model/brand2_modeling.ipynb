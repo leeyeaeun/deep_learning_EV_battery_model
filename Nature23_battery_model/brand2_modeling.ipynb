{
 "cells": [
  {
   "cell_type": "code",
   "execution_count": 2,
   "id": "93fc638e",
   "metadata": {},
   "outputs": [],
   "source": [
    "import os\n",
    "import glob\n",
    "import random\n",
    "import torch\n",
    "import torch.nn as nn\n",
    "import numpy as np\n",
    "from torch.utils.data import Dataset, DataLoader\n",
    "from torch.nn.utils.rnn import pad_sequence, pack_padded_sequence, pad_packed_sequence\n",
    "from sklearn.model_selection import StratifiedKFold\n",
    "from collections import defaultdict\n",
    "import warnings\n",
    "\n",
    "# Suppress the UserWarning from pad_sequence\n",
    "warnings.filterwarnings(\"ignore\", category=UserWarning, module=\"torch.nn.utils.rnn\")\n"
   ]
  },
  {
   "cell_type": "code",
   "execution_count": 3,
   "id": "659b568e",
   "metadata": {},
   "outputs": [
    {
     "name": "stdout",
     "output_type": "stream",
     "text": [
      "Using device: cuda\n"
     ]
    }
   ],
   "source": [
    "\n",
    "# --- 1. 기본 설정 및 데이터 로드 경로 ---\n",
    "\n",
    "device = torch.device('cuda' if torch.cuda.is_available() else 'cpu')\n",
    "print(f\"Using device: {device}\")\n"
   ]
  },
  {
   "cell_type": "code",
   "execution_count": 4,
   "id": "98d13b50",
   "metadata": {},
   "outputs": [
    {
     "data": {
      "text/plain": [
       "'/root/Deep_learning_Project/Battery_model/Nature23_battery_model/five_fold_utils'"
      ]
     },
     "execution_count": 4,
     "metadata": {},
     "output_type": "execute_result"
    }
   ],
   "source": [
    "\n",
    "# `base` 경로는 LSTM_modeling.ipynb에 정의된 경로와 동일해야 합니다.\n",
    "# 사용자의 환경에 맞춰 이 경로를 설정해주세요.\n",
    "base = os.path.join(os.getcwd(), 'five_fold_utils')\n",
    "base\n"
   ]
  },
  {
   "cell_type": "code",
   "execution_count": 5,
   "id": "8e6570de",
   "metadata": {},
   "outputs": [],
   "source": [
    "\n",
    "# 예시: 실제 .npz.npy 파일이 있는 디렉토리로 변경하세요.\n",
    "model_dir = os.path.join(os.getcwd(), 'models')\n",
    "os.makedirs(model_dir, exist_ok=True)\n"
   ]
  },
  {
   "cell_type": "code",
   "execution_count": 6,
   "id": "14e066cb",
   "metadata": {},
   "outputs": [],
   "source": [
    "\n",
    "# all_car_dict 로드 (전체 차량 데이터)\n",
    "all_car_dict = np.load(os.path.join(base, 'all_car_dict.npz.npy'),\n",
    "                       allow_pickle=True).item()\n"
   ]
  },
  {
   "cell_type": "code",
   "execution_count": 7,
   "id": "a4e14af0",
   "metadata": {},
   "outputs": [
    {
     "name": "stdout",
     "output_type": "stream",
     "text": [
      "=== brand1 ind/ood 리스트 ===\n",
      "  정상 차량: [129, 158, 152, 79, 95, 114, 34, 177, 99, 138, 163, 54, 45, 115, 66, 87, 47, 57, 31, 195, 36, 102, 72, 173, 94, 51, 92, 61, 153, 125, 103, 3, 50, 10, 7, 146, 166, 48, 75, 86, 15, 175, 64, 2, 110, 13, 23, 93, 116, 62, 8, 41, 22, 6, 24, 101, 46, 187, 198, 142, 131, 18, 160, 56, 29, 141, 148, 168, 71, 53, 104, 120, 154, 20, 17, 111, 133, 63, 35, 83, 5, 88, 159, 145, 176, 127, 77, 118, 52, 81, 121, 59, 38, 80, 109, 179, 28, 123, 44, 180, 149, 135, 164, 74, 40, 14, 65, 69, 42, 193, 12, 60, 73, 126, 161, 188, 32, 30, 170, 128, 167, 9, 155, 156, 43, 100, 33, 90, 139, 1, 112, 25, 4, 16, 189, 147, 124, 178, 55, 85, 122, 96, 162, 132, 89, 19, 27, 84, 39, 151, 67, 26, 172, 76, 37, 143, 58, 165, 97, 134, 82, 113, 137, 144, 70, 11, 117, 106]\n",
      "  비정상 차량: [91, 192, 169, 130, 140, 171, 190, 186, 105, 49, 181, 157, 183, 185, 194, 98, 191, 136, 119, 196, 107, 68, 108, 78, 182, 150, 174, 21, 184, 197]\n",
      "=== brand2 ind/ood 리스트 ===\n",
      "  정상 차량: [214, 231, 233, 234, 218, 201, 211, 248, 222, 203, 223, 246, 229, 249, 227, 207, 232, 250, 208, 245, 213, 228, 220, 244, 217, 238, 221, 224, 226, 216, 202, 242, 235]\n",
      "  비정상 차량: [205, 247, 241, 204, 206, 210, 243, 240, 219, 225, 209, 237, 236, 212, 215, 239]\n",
      "=== brand3 ind/ood 리스트 ===\n",
      "  정상 차량: [411, 410, 434, 449, 423, 414, 431, 485, 446, 466, 453, 480, 455, 488, 402, 439, 427, 409, 442, 448, 428, 452, 429, 484, 482, 457, 459, 499, 413, 461, 403, 470, 481, 493, 417, 496, 407, 495, 418, 426, 436, 491, 500, 474, 476, 487, 430, 451, 498, 401, 463, 494, 406, 420, 497, 433, 435, 440, 416, 464, 445, 479, 425, 460, 490, 478, 467, 447, 412, 489, 444, 422, 477, 437, 415, 486, 441, 421, 471, 432, 483, 450, 468, 443, 456, 469, 472, 438, 408, 458, 454]\n",
      "  비정상 차량: [424, 419, 473, 462, 492, 465, 404, 405, 475]\n"
     ]
    }
   ],
   "source": [
    "\n",
    "# ind_odd_dicts 로드 (브랜드별 정상/비정상 차량 ID)\n",
    "# 1,2,3번 딕셔너리 전부 로드\n",
    "ind_odd_dicts = {}\n",
    "for i in (1, 2, 3):\n",
    "    fn = f'ind_odd_dict{i}.npz.npy'\n",
    "    path = os.path.join(base, fn)\n",
    "    ind_odd_dicts[i] = np.load(path, allow_pickle=True).item()\n",
    "\n",
    "# 테스트로 내용 확인\n",
    "for i, d in ind_odd_dicts.items():\n",
    "    print(f\"=== brand{i} ind/ood 리스트 ===\")\n",
    "    print(\"  정상 차량:\", d['ind_sorted'])\n",
    "    print(\"  비정상 차량:\", d['ood_sorted'])"
   ]
  },
  {
   "cell_type": "code",
   "execution_count": null,
   "id": "c8bcedc9",
   "metadata": {},
   "outputs": [],
   "source": [
    "\n",
    "# --- 2. 모델, 데이터셋, 유틸리티 함수 정의 (LSTM_modeling.ipynb에서 가져옴) ---\n",
    "\n",
    "class LSTMModel(nn.Module):\n",
    "    def __init__(self, input_size, hidden_size, num_layers, output_size, dropout_rate=0.5):\n",
    "        super(LSTMModel, self).__init__()\n",
    "        self.hidden_size = hidden_size\n",
    "        self.num_layers = num_layers\n",
    "        self.lstm = nn.LSTM(input_size, hidden_size, num_layers, batch_first=True, dropout=dropout_rate if num_layers > 1 else 0)\n",
    "        self.fc = nn.Linear(hidden_size, output_size)\n",
    "\n",
    "    def forward(self, x, lengths):\n",
    "        # Pack padded sequence\n",
    "        packed_input = pack_padded_sequence(x, lengths.cpu(), batch_first=True, enforce_sorted=False)\n",
    "        packed_output, _ = self.lstm(packed_input)\n",
    "        output, _ = pad_packed_sequence(packed_output, batch_first=True)\n",
    "\n",
    "        # Get the output of the last time step for each sequence\n",
    "        # We need to use lengths to get the correct last output\n",
    "        idx = (lengths - 1).view(-1, 1).unsqueeze(2).expand(output.size(0), 1, output.size(2))\n",
    "        last_output = torch.gather(output, 1, idx).squeeze(1)\n",
    "\n",
    "        out = self.fc(last_output)\n",
    "        return out\n",
    "\n",
    "class BatteryDS(Dataset):\n",
    "    def __init__(self, data, labels):\n",
    "        self.data = data\n",
    "        self.labels = labels\n",
    "\n",
    "    def __len__(self):\n",
    "        return len(self.data)\n",
    "\n",
    "    def __getitem__(self, idx):\n",
    "        return self.data[idx], self.labels[idx]\n",
    "\n",
    "def collate_fn(batch):\n",
    "    sequences = [item[0] for item in batch]\n",
    "    labels = torch.tensor([item[1] for item in batch], dtype=torch.long)\n",
    "\n",
    "    lengths = torch.tensor([s.shape[0] for s in sequences], dtype=torch.long)\n",
    "\n",
    "    # Pad the sequences\n",
    "    padded_sequences = pad_sequence(sequences, batch_first=True, padding_value=0)\n",
    "\n",
    "    # Sort sequences by length in descending order\n",
    "    lengths, sorted_idx = lengths.sort(descending=True)\n",
    "    padded_sequences = padded_sequences[sorted_idx]\n",
    "    labels = labels[sorted_idx]\n",
    "\n",
    "    return padded_sequences, lengths, labels\n",
    "\n",
    "def train_model(model, train_loader, val_loader, optimizer, criterion, epochs, device, model_path_prefix, patience=5):\n",
    "    best_val_loss = float('inf')\n",
    "    epochs_no_improve = 0\n",
    "    metrics = defaultdict(list)\n",
    "\n",
    "    for epoch in range(epochs):\n",
    "        model.train()\n",
    "        total_loss = 0\n",
    "        correct_predictions = 0\n",
    "        total_samples = 0\n",
    "\n",
    "        for batch_idx, (data, lengths, labels) in enumerate(train_loader):\n",
    "            data, labels = data.to(device), labels.to(device)\n",
    "\n",
    "            optimizer.zero_grad()\n",
    "            outputs = model(data.float(), lengths)\n",
    "            loss = criterion(outputs, labels)\n",
    "            loss.backward()\n",
    "            optimizer.step()\n",
    "\n",
    "            total_loss += loss.item()\n",
    "            _, predicted = torch.max(outputs.data, 1)\n",
    "            total_samples += labels.size(0)\n",
    "            correct_predictions += (predicted == labels).sum().item()\n",
    "\n",
    "        avg_train_loss = total_loss / len(train_loader)\n",
    "        train_accuracy = correct_predictions / total_samples\n",
    "        \n",
    "        # Validation phase\n",
    "        model.eval()\n",
    "        val_loss = 0\n",
    "        correct_val_predictions = 0\n",
    "        total_val_samples = 0\n",
    "        with torch.no_grad():\n",
    "            for data, lengths, labels in val_loader:\n",
    "                data, labels = data.to(device), labels.to(device)\n",
    "                outputs = model(data.float(), lengths)\n",
    "                loss = criterion(outputs, labels)\n",
    "                val_loss += loss.item()\n",
    "                _, predicted = torch.max(outputs.data, 1)\n",
    "                total_val_samples += labels.size(0)\n",
    "                correct_val_predictions += (predicted == labels).sum().item()\n",
    "\n",
    "        avg_val_loss = val_loss / len(val_loader)\n",
    "        val_accuracy = correct_val_predictions / total_val_samples\n",
    "\n",
    "        print(f'Epoch [{epoch+1}/{epochs}], '\n",
    "              f'Train Loss: {avg_train_loss:.4f}, Train Acc: {train_accuracy:.4f}, '\n",
    "              f'Val Loss: {avg_val_loss:.4f}, Val Acc: {val_accuracy:.4f}')\n",
    "\n",
    "        metrics['train_loss'].append(avg_train_loss)\n",
    "        metrics['train_accuracy'].append(train_accuracy)\n",
    "        metrics['val_loss'].append(avg_val_loss)\n",
    "        metrics['val_accuracy'].append(val_accuracy)\n",
    "\n",
    "        # Early stopping and model saving\n",
    "        if avg_val_loss < best_val_loss:\n",
    "            best_val_loss = avg_val_loss\n",
    "            epochs_no_improve = 0\n",
    "            torch.save(model.state_dict(), f'{model_path_prefix}_best.pth')\n",
    "            print(f\"Saved best model with Val Loss: {best_val_loss:.4f}\")\n",
    "        else:\n",
    "            epochs_no_improve += 1\n",
    "            if epochs_no_improve >= patience:\n",
    "                print(f\"Early stopping at epoch {epoch+1}\")\n",
    "                break\n",
    "    return metrics\n",
    "\n"
   ]
  },
  {
   "cell_type": "code",
   "execution_count": 9,
   "id": "e40b55b4",
   "metadata": {},
   "outputs": [],
   "source": [
    "brand = 2\n",
    "ind_cars = [c for c in ind_odd_dicts[brand]['ind_sorted'] if c in all_car_dict]\n",
    "ood_cars = [c for c in ind_odd_dicts[brand]['ood_sorted'] if c in all_car_dict]\n",
    "all_cars = ind_cars + ood_cars\n",
    "\n",
    "file_list = sum([all_car_dict[c] for c in all_cars], [])\n"
   ]
  },
  {
   "cell_type": "code",
   "execution_count": 11,
   "id": "a2273f1e",
   "metadata": {},
   "outputs": [],
   "source": [
    "def make_folds(ind_cars, ood_cars, car_dict, K=5):\n",
    "    ind_folds = np.array_split(ind_cars, K)\n",
    "    ood_folds = np.array_split(ood_cars, K)\n",
    "    folds = []\n",
    "\n",
    "    for k in range(K):\n",
    "        test_cars  = set(ind_folds[k].tolist() + ood_folds[k].tolist())\n",
    "        train_cars = set(ind_cars + ood_cars) - test_cars\n",
    "\n",
    "        train_files = sum((car_dict[c] for c in train_cars), [])\n",
    "        test_files  = sum((car_dict[c] for c in test_cars),  [])\n",
    "\n",
    "        folds.append({\n",
    "            'train_files': train_files,\n",
    "            'test_files':  test_files\n",
    "        })\n",
    "\n",
    "    return folds"
   ]
  },
  {
   "cell_type": "code",
   "execution_count": null,
   "id": "167b1843",
   "metadata": {},
   "outputs": [],
   "source": [
    "def get_brand_file_lists(brand_idx, base_dir, seed=42, train_ratio=0.8):\n",
    "    \"\"\"train/test 폴더 유무에 따라 파일 리스트를 반환\"\"\"\n",
    "    brand_dir = os.path.join(base_dir, f\"battery_brand{brand_idx}\")\n",
    "    train_dir = os.path.join(brand_dir, 'train')\n",
    "    test_dir  = os.path.join(brand_dir, 'test')\n",
    "\n",
    "    if os.path.isdir(train_dir) and os.path.isdir(test_dir):\n",
    "        train_files = glob(os.path.join(train_dir, '*.pkl'))\n",
    "        test_files  = glob(os.path.join(test_dir,  '*.pkl'))\n",
    "    else:\n",
    "        data_dir = os.path.join(brand_dir, 'data')\n",
    "        all_files = glob(os.path.join(data_dir, '*.pkl'))\n",
    "        random.seed(seed); random.shuffle(all_files)\n",
    "        cut = int(len(all_files) * train_ratio)\n",
    "        train_files, test_files = all_files[:cut], all_files[cut:]\n",
    "\n",
    "    return train_files, test_files"
   ]
  },
  {
   "cell_type": "code",
   "execution_count": 12,
   "id": "29d6fc5e",
   "metadata": {},
   "outputs": [],
   "source": [
    "\n",
    "def get_folds_for_brand(brand_idx, all_car_dict, ind_odd_dicts, K=5):\n",
    "    \"\"\"브랜드별로 valid 차량 dict만 뽑아서 make_folds 호출\"\"\"\n",
    "    d = ind_odd_dicts[brand_idx]\n",
    "    ind_cars = [c for c in d['ind_sorted'] if c in all_car_dict]\n",
    "    ood_cars = [c for c in d['ood_sorted'] if c in all_car_dict]\n",
    "    brand_car_dict = {c: all_car_dict[c] for c in (ind_cars + ood_cars)}\n",
    "    return make_folds(ind_cars, ood_cars, brand_car_dict, K)"
   ]
  },
  {
   "cell_type": "code",
   "execution_count": 13,
   "id": "4363cb35",
   "metadata": {},
   "outputs": [],
   "source": [
    "folds = get_folds_for_brand(\n",
    "    brand_idx=2,\n",
    "    all_car_dict=all_car_dict,\n",
    "    ind_odd_dicts=ind_odd_dicts,\n",
    "    K=5\n",
    ")"
   ]
  },
  {
   "cell_type": "code",
   "execution_count": null,
   "id": "6f65f622",
   "metadata": {},
   "outputs": [],
   "source": [
    "def load_snippets_and_labels(file_list):\n",
    "    snippets = []\n",
    "    labels = []\n",
    "    for path in file_list:\n",
    "        snippet, meta = torch.load(path, map_location='cpu')\n",
    "        if not isinstance(snippet, torch.Tensor):\n",
    "            snippet = torch.from_numpy(snippet).float()\n",
    "        else:\n",
    "            snippet = snippet.float()\n",
    "        label = 0 if meta['label'] == '00' else 1\n",
    "        snippets.append(snippet)\n",
    "        labels.append(label)\n",
    "    return snippets, labels"
   ]
  },
  {
   "cell_type": "code",
   "execution_count": 18,
   "id": "d04cc6a6",
   "metadata": {},
   "outputs": [],
   "source": [
    "from tqdm import tqdm"
   ]
  },
  {
   "cell_type": "code",
   "execution_count": null,
   "id": "f3341e14",
   "metadata": {},
   "outputs": [
    {
     "name": "stderr",
     "output_type": "stream",
     "text": [
      "0it [00:00, ?it/s]"
     ]
    },
    {
     "name": "stdout",
     "output_type": "stream",
     "text": [
      "\n",
      "=== Brand2 - Fold 1/5 ===\n"
     ]
    },
    {
     "name": "stderr",
     "output_type": "stream",
     "text": [
      "\n"
     ]
    },
    {
     "ename": "TypeError",
     "evalue": "BatteryDS.__init__() missing 1 required positional argument: 'labels'",
     "output_type": "error",
     "traceback": [
      "\u001b[0;31m---------------------------------------------------------------------------\u001b[0m",
      "\u001b[0;31mTypeError\u001b[0m                                 Traceback (most recent call last)",
      "Cell \u001b[0;32mIn[19], line 3\u001b[0m\n\u001b[1;32m      1\u001b[0m \u001b[38;5;28;01mfor\u001b[39;00m fold_idx, fold \u001b[38;5;129;01min\u001b[39;00m tqdm(\u001b[38;5;28menumerate\u001b[39m(folds)):\n\u001b[1;32m      2\u001b[0m     \u001b[38;5;28mprint\u001b[39m(\u001b[38;5;124mf\u001b[39m\u001b[38;5;124m\"\u001b[39m\u001b[38;5;130;01m\\n\u001b[39;00m\u001b[38;5;124m=== Brand2 - Fold \u001b[39m\u001b[38;5;132;01m{\u001b[39;00mfold_idx\u001b[38;5;250m \u001b[39m\u001b[38;5;241m+\u001b[39m\u001b[38;5;250m \u001b[39m\u001b[38;5;241m1\u001b[39m\u001b[38;5;132;01m}\u001b[39;00m\u001b[38;5;124m/5 ===\u001b[39m\u001b[38;5;124m\"\u001b[39m)\n\u001b[0;32m----> 3\u001b[0m     train_ds \u001b[38;5;241m=\u001b[39m \u001b[43mBatteryDS\u001b[49m\u001b[43m(\u001b[49m\u001b[43mfold\u001b[49m\u001b[43m[\u001b[49m\u001b[38;5;124;43m'\u001b[39;49m\u001b[38;5;124;43mtrain_files\u001b[39;49m\u001b[38;5;124;43m'\u001b[39;49m\u001b[43m]\u001b[49m\u001b[43m)\u001b[49m\n\u001b[1;32m      4\u001b[0m     val_ds   \u001b[38;5;241m=\u001b[39m BatteryDS(fold[\u001b[38;5;124m'\u001b[39m\u001b[38;5;124mtest_files\u001b[39m\u001b[38;5;124m'\u001b[39m])\n\u001b[1;32m      6\u001b[0m     train_loader \u001b[38;5;241m=\u001b[39m DataLoader(train_ds, batch_size\u001b[38;5;241m=\u001b[39m\u001b[38;5;241m128\u001b[39m, shuffle\u001b[38;5;241m=\u001b[39m\u001b[38;5;28;01mTrue\u001b[39;00m, collate_fn\u001b[38;5;241m=\u001b[39mcollate_fn, num_workers\u001b[38;5;241m=\u001b[39m\u001b[38;5;241m0\u001b[39m)\n",
      "\u001b[0;31mTypeError\u001b[0m: BatteryDS.__init__() missing 1 required positional argument: 'labels'"
     ]
    }
   ],
   "source": [
    "\n",
    "# Brand 2 folds\n",
    "brand = 2\n",
    "folds = get_folds_for_brand(brand, all_car_dict, ind_odd_dicts, K=5)\n",
    "\n",
    "fold_metrics = []\n",
    "for fold_idx, fold in tqdm(list(enumerate(folds)), desc=\"Cross-validation\"):\n",
    "    print(f\"\\n=== Brand2 - Fold {fold_idx + 1}/5 ===\")\n",
    "\n",
    "    # Load data\n",
    "    X_tr, y_tr = load_snippets_and_labels(fold['train_files'])\n",
    "    X_val, y_val = load_snippets_and_labels(fold['test_files'])\n",
    "\n",
    "    # DataLoader\n",
    "    train_loader = DataLoader(BatteryDS(X_tr, y_tr), batch_size=128, shuffle=True, collate_fn=collate_fn, num_workers=0)\n",
    "    val_loader   = DataLoader(BatteryDS(X_val, y_val), batch_size=128, shuffle=False, collate_fn=collate_fn, num_workers=0)\n",
    "\n",
    "    # 모델 정의\n",
    "    model = LSTMModel(input_size=8, hidden_size=128, num_layers=3, output_size=2, dropout_rate=0.3).to(device)\n",
    "    optimizer = torch.optim.Adam(model.parameters(), lr=1e-3)\n",
    "    criterion = nn.CrossEntropyLoss()\n",
    "\n",
    "    # 학습\n",
    "    fold_prefix = os.path.join(model_dir, f'brand2_fold{fold_idx+1}')\n",
    "    metrics = train_model(model, train_loader, val_loader, optimizer, criterion, epochs=20, device=device, model_path_prefix=fold_prefix)\n",
    "    fold_metrics.append(metrics)"
   ]
  }
 ],
 "metadata": {
  "kernelspec": {
   "display_name": "base",
   "language": "python",
   "name": "python3"
  },
  "language_info": {
   "codemirror_mode": {
    "name": "ipython",
    "version": 3
   },
   "file_extension": ".py",
   "mimetype": "text/x-python",
   "name": "python",
   "nbconvert_exporter": "python",
   "pygments_lexer": "ipython3",
   "version": "3.10.13"
  }
 },
 "nbformat": 4,
 "nbformat_minor": 5
}
