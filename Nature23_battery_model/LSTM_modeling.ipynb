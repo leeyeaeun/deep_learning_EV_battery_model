{
 "cells": [
  {
   "cell_type": "code",
   "execution_count": null,
   "id": "061ac6c8",
   "metadata": {},
   "outputs": [],
   "source": [
    "import os\n",
    "import glob\n",
    "import random\n",
    "import torch\n",
    "import torch.nn as nn\n",
    "import os\n",
    "import numpy as np\n",
    "from torch.utils.data import Dataset, DataLoader\n",
    "from torch.nn.utils.rnn import pad_sequence, pack_padded_sequence, pad_packed_sequence\n"
   ]
  },
  {
   "cell_type": "code",
   "execution_count": 29,
   "id": "616d64fd",
   "metadata": {},
   "outputs": [],
   "source": [
    "import torch.serialization\n",
    "torch.serialization.add_safe_globals([\n",
    "    np.core.multiarray._reconstruct,\n",
    "    np.ndarray,\n",
    "])"
   ]
  },
  {
   "cell_type": "code",
   "execution_count": 3,
   "id": "8f556ba5",
   "metadata": {},
   "outputs": [],
   "source": [
    "base = os.path.join(os.getcwd(), 'five_fold_utils')\n",
    "\n",
    "\n",
    "all_car_dict = np.load(os.path.join(base, 'all_car_dict.npz.npy'),\n",
    "                       allow_pickle=True).item()"
   ]
  },
  {
   "cell_type": "code",
   "execution_count": 20,
   "id": "7a8099d2",
   "metadata": {},
   "outputs": [
    {
     "name": "stdout",
     "output_type": "stream",
     "text": [
      "=== brand1 ind/ood 리스트 ===\n",
      "  정상 차량: [129, 158, 152, 79, 95, 114, 34, 177, 99, 138, 163, 54, 45, 115, 66, 87, 47, 57, 31, 195, 36, 102, 72, 173, 94, 51, 92, 61, 153, 125, 103, 3, 50, 10, 7, 146, 166, 48, 75, 86, 15, 175, 64, 2, 110, 13, 23, 93, 116, 62, 8, 41, 22, 6, 24, 101, 46, 187, 198, 142, 131, 18, 160, 56, 29, 141, 148, 168, 71, 53, 104, 120, 154, 20, 17, 111, 133, 63, 35, 83, 5, 88, 159, 145, 176, 127, 77, 118, 52, 81, 121, 59, 38, 80, 109, 179, 28, 123, 44, 180, 149, 135, 164, 74, 40, 14, 65, 69, 42, 193, 12, 60, 73, 126, 161, 188, 32, 30, 170, 128, 167, 9, 155, 156, 43, 100, 33, 90, 139, 1, 112, 25, 4, 16, 189, 147, 124, 178, 55, 85, 122, 96, 162, 132, 89, 19, 27, 84, 39, 151, 67, 26, 172, 76, 37, 143, 58, 165, 97, 134, 82, 113, 137, 144, 70, 11, 117, 106]\n",
      "  비정상 차량: [91, 192, 169, 130, 140, 171, 190, 186, 105, 49, 181, 157, 183, 185, 194, 98, 191, 136, 119, 196, 107, 68, 108, 78, 182, 150, 174, 21, 184, 197]\n",
      "=== brand2 ind/ood 리스트 ===\n",
      "  정상 차량: [214, 231, 233, 234, 218, 201, 211, 248, 222, 203, 223, 246, 229, 249, 227, 207, 232, 250, 208, 245, 213, 228, 220, 244, 217, 238, 221, 224, 226, 216, 202, 242, 235]\n",
      "  비정상 차량: [205, 247, 241, 204, 206, 210, 243, 240, 219, 225, 209, 237, 236, 212, 215, 239]\n",
      "=== brand3 ind/ood 리스트 ===\n",
      "  정상 차량: [411, 410, 434, 449, 423, 414, 431, 485, 446, 466, 453, 480, 455, 488, 402, 439, 427, 409, 442, 448, 428, 452, 429, 484, 482, 457, 459, 499, 413, 461, 403, 470, 481, 493, 417, 496, 407, 495, 418, 426, 436, 491, 500, 474, 476, 487, 430, 451, 498, 401, 463, 494, 406, 420, 497, 433, 435, 440, 416, 464, 445, 479, 425, 460, 490, 478, 467, 447, 412, 489, 444, 422, 477, 437, 415, 486, 441, 421, 471, 432, 483, 450, 468, 443, 456, 469, 472, 438, 408, 458, 454]\n",
      "  비정상 차량: [424, 419, 473, 462, 492, 465, 404, 405, 475]\n"
     ]
    }
   ],
   "source": [
    "# 1,2,3번 딕셔너리 전부 로드\n",
    "ind_odd_dicts = {}\n",
    "for i in (1, 2, 3):\n",
    "    fn = f'ind_odd_dict{i}.npz.npy'\n",
    "    path = os.path.join(base, fn)\n",
    "    ind_odd_dicts[i] = np.load(path, allow_pickle=True).item()\n",
    "\n",
    "# 테스트로 내용 확인\n",
    "for i, d in ind_odd_dicts.items():\n",
    "    print(f\"=== brand{i} ind/ood 리스트 ===\")\n",
    "    print(\"  정상 차량:\", d['ind_sorted'])\n",
    "    print(\"  비정상 차량:\", d['ood_sorted'])"
   ]
  },
  {
   "cell_type": "code",
   "execution_count": 5,
   "id": "4297aac1",
   "metadata": {},
   "outputs": [],
   "source": [
    "def make_folds(ind_cars, ood_cars, car_dict, K=5):\n",
    "    ind_folds = np.array_split(ind_cars, K)\n",
    "    ood_folds = np.array_split(ood_cars, K)\n",
    "    folds = []\n",
    "\n",
    "    for k in range(K):\n",
    "        test_cars  = set(ind_folds[k].tolist() + ood_folds[k].tolist())\n",
    "        train_cars = set(ind_cars + ood_cars) - test_cars\n",
    "\n",
    "        train_files = sum((car_dict[c] for c in train_cars), [])\n",
    "        test_files  = sum((car_dict[c] for c in test_cars),  [])\n",
    "\n",
    "        folds.append({\n",
    "            'train_files': train_files,\n",
    "            'test_files':  test_files\n",
    "        })\n",
    "\n",
    "    return folds"
   ]
  },
  {
   "cell_type": "code",
   "execution_count": 24,
   "id": "74876514",
   "metadata": {},
   "outputs": [],
   "source": [
    "class BatteryDS(Dataset):\n",
    "    def __init__(self, files):\n",
    "        self.files = files\n",
    "    def __len__(self):\n",
    "        return len(self.files)\n",
    "    def __getitem__(self, i):\n",
    "        snippet, meta = torch.load(self.files[i], map_location='cpu',weights_only=False)\n",
    "        # NumPy → Tensor 변환 시 float32로 캐스팅\n",
    "        if not isinstance(snippet, torch.Tensor):\n",
    "            snippet = torch.from_numpy(snippet).float()\n",
    "        else:\n",
    "            snippet = snippet.float()\n",
    "        y = 0 if meta['label']=='00' else 1\n",
    "        return snippet, torch.tensor(y)\n"
   ]
  },
  {
   "cell_type": "code",
   "execution_count": 7,
   "id": "03457116",
   "metadata": {},
   "outputs": [],
   "source": [
    "def collate_fn(batch):\n",
    "    seqs, labels = zip(*batch)\n",
    "    # .shape[0] 은 NumPy array든 Tensor든 항상 동작\n",
    "    lengths = torch.tensor([s.shape[0] for s in seqs], dtype=torch.long)\n",
    "    padded  = pad_sequence(seqs, batch_first=True)\n",
    "    return padded, lengths, torch.stack(labels)\n"
   ]
  },
  {
   "cell_type": "code",
   "execution_count": 26,
   "id": "59a38e1c",
   "metadata": {},
   "outputs": [],
   "source": [
    "import torch.nn.utils.rnn as rnn_utils\n",
    "class LSTMCls(nn.Module):\n",
    "    def __init__(self, in_feat, hidden=64, layers=2, num_cls=2):\n",
    "        super().__init__()\n",
    "        self.lstm = nn.LSTM(in_feat, hidden, layers, batch_first=True)\n",
    "        self.fc   = nn.Linear(hidden, num_cls)\n",
    "\n",
    "    def forward(self, x, lengths):\n",
    "        packed = rnn_utils.pack_padded_sequence(\n",
    "            x, lengths.cpu(),\n",
    "            batch_first=True,\n",
    "            enforce_sorted=False\n",
    "        )\n",
    "        _, (h_n, _) = self.lstm(packed)\n",
    "        h_last = h_n[-1]               \n",
    "        return self.fc(h_last)   \n"
   ]
  },
  {
   "cell_type": "code",
   "execution_count": 9,
   "id": "8a922e72",
   "metadata": {},
   "outputs": [],
   "source": [
    "from sklearn.metrics import accuracy_score"
   ]
  },
  {
   "cell_type": "code",
   "execution_count": 10,
   "id": "8ab997cf",
   "metadata": {},
   "outputs": [],
   "source": [
    "from tqdm import tqdm"
   ]
  },
  {
   "cell_type": "code",
   "execution_count": 12,
   "id": "b661b9bc",
   "metadata": {},
   "outputs": [
    {
     "name": "stdout",
     "output_type": "stream",
     "text": [
      "읽어오는 파일: /root/Deep_learning_Project/Battery_model/Nature23_battery_model/dataset/battery_brand1/train/60504.pkl\n",
      "snippet shape: (128, 8)\n",
      "features at t=0: [-2.959907   -0.653125   64.875       3.76803385  3.74459635 30.\n",
      " 27.          0.        ]\n",
      "메타데이터: OrderedDict([('label', '00'), ('car', 57), ('charge_segment', '736'), ('mileage', 1455.9160147656253)])\n"
     ]
    }
   ],
   "source": [
    "# 1) 브랜드1 train 폴더에서 .pkl 파일 리스트 가져오기\n",
    "train_dir = os.path.join(os.getcwd(), 'dataset', 'battery_brand1', 'train')\n",
    "pkl_files = glob.glob(os.path.join(train_dir, '*.pkl'))\n",
    "if not pkl_files:\n",
    "    raise RuntimeError(f\"{train_dir}에 .pkl 파일이 없습니다.\")\n",
    "\n",
    "# 2) 첫 번째 파일 한 개 불러오기\n",
    "sample_path = pkl_files[0]\n",
    "print(\"읽어오는 파일:\", sample_path)\n",
    "snippet, meta = torch.load(sample_path, map_location='cpu',weights_only=False)\n",
    "\n",
    "# 3) snippet 구조와 첫 타임스텝 값 출력\n",
    "print(\"snippet shape:\", snippet.shape)\n",
    "print(\"features at t=0:\", snippet[0])\n",
    "print(\"메타데이터:\", meta)"
   ]
  },
  {
   "cell_type": "code",
   "execution_count": 13,
   "id": "92205ce8",
   "metadata": {},
   "outputs": [
    {
     "data": {
      "text/plain": [
       "array([ -2.41376848, -13.715625  ,  64.875     ,   3.77714844,\n",
       "         3.75371094,  30.        ,  27.        ,  20.        ])"
      ]
     },
     "execution_count": 13,
     "metadata": {},
     "output_type": "execute_result"
    }
   ],
   "source": [
    "snippet[2]"
   ]
  },
  {
   "cell_type": "code",
   "execution_count": 14,
   "id": "66e63332",
   "metadata": {},
   "outputs": [],
   "source": [
    "def get_brand_file_lists(brand_idx, base_dir, seed=42, train_ratio=0.8):\n",
    "    \"\"\"train/test 폴더 유무에 따라 파일 리스트를 반환\"\"\"\n",
    "    brand_dir = os.path.join(base_dir, f\"battery_brand{brand_idx}\")\n",
    "    train_dir = os.path.join(brand_dir, 'train')\n",
    "    test_dir  = os.path.join(brand_dir, 'test')\n",
    "\n",
    "    if os.path.isdir(train_dir) and os.path.isdir(test_dir):\n",
    "        train_files = glob(os.path.join(train_dir, '*.pkl'))\n",
    "        test_files  = glob(os.path.join(test_dir,  '*.pkl'))\n",
    "    else:\n",
    "        data_dir = os.path.join(brand_dir, 'data')\n",
    "        all_files = glob(os.path.join(data_dir, '*.pkl'))\n",
    "        random.seed(seed); random.shuffle(all_files)\n",
    "        cut = int(len(all_files) * train_ratio)\n",
    "        train_files, test_files = all_files[:cut], all_files[cut:]\n",
    "\n",
    "    return train_files, test_files\n"
   ]
  },
  {
   "cell_type": "code",
   "execution_count": 15,
   "id": "f2bfb133",
   "metadata": {},
   "outputs": [],
   "source": [
    "\n",
    "def get_folds_for_brand(brand_idx, all_car_dict, ind_odd_dicts, K=5):\n",
    "    \"\"\"브랜드별로 valid 차량 dict만 뽑아서 make_folds 호출\"\"\"\n",
    "    d = ind_odd_dicts[brand_idx]\n",
    "    ind_cars = [c for c in d['ind_sorted'] if c in all_car_dict]\n",
    "    ood_cars = [c for c in d['ood_sorted'] if c in all_car_dict]\n",
    "    brand_car_dict = {c: all_car_dict[c] for c in (ind_cars + ood_cars)}\n",
    "    return make_folds(ind_cars, ood_cars, brand_car_dict, K)\n"
   ]
  },
  {
   "cell_type": "code",
   "execution_count": 16,
   "id": "ff85594a",
   "metadata": {},
   "outputs": [],
   "source": [
    "\n",
    "def get_dataloaders(train_files, test_files, batch_size=128, num_workers=4):\n",
    "    \"\"\"BatteryDS, collate_fn 은 이미 정의되어 있다고 가정\"\"\"\n",
    "    tr_ds = BatteryDS(train_files)\n",
    "    te_ds = BatteryDS(test_files)\n",
    "    tr_ld = DataLoader(tr_ds, batch_size=batch_size, shuffle=True,\n",
    "                       collate_fn=collate_fn, pin_memory=True,\n",
    "                       num_workers=num_workers)\n",
    "    te_ld = DataLoader(te_ds, batch_size=batch_size, shuffle=False,\n",
    "                       collate_fn=collate_fn, pin_memory=True,\n",
    "                       num_workers=num_workers)\n",
    "    return tr_ld, te_ld"
   ]
  },
  {
   "cell_type": "code",
   "execution_count": 17,
   "id": "0e865b79",
   "metadata": {},
   "outputs": [],
   "source": [
    "device = torch.device('cuda:0')"
   ]
  },
  {
   "cell_type": "code",
   "execution_count": 18,
   "id": "02cab13b",
   "metadata": {},
   "outputs": [],
   "source": [
    "from glob import glob\n",
    "ase_dir = os.path.join(os.getcwd(), 'dataset')\n",
    "all_stats   = {}\n",
    "data_loaders = {}   # {(brand_idx, fold_idx): (tr_ld, te_ld)}\n",
    "\n",
    "# 1) 먼저 all_car_dict, ind_odd_dicts 불러오고\n",
    "# all_car_dict = np.load(...).item()\n",
    "# ind_odd_dicts = {...}\n",
    "\n",
    "# 2) 각 브랜드, 각 폴드마다 train/test DataLoader 준비\n",
    "for b in (1,2,3):\n",
    "    # 파일 리스트(brand1·2는 train/test, brand3는 data split)\n",
    "    train_files, test_files = get_brand_file_lists(b, base)\n",
    "    # 폴드별 파일 분할\n",
    "    folds = get_folds_for_brand(b, all_car_dict, ind_odd_dicts, K=5)\n",
    "    for k, fold in enumerate(folds):\n",
    "        tr_ld, te_ld = get_dataloaders(fold['train_files'], fold['test_files'])\n",
    "        data_loaders[(b, k+1)] = (tr_ld, te_ld)\n"
   ]
  },
  {
   "cell_type": "code",
   "execution_count": null,
   "id": "a625ca81",
   "metadata": {},
   "outputs": [],
   "source": [
    "def train_fold(brand_idx, fold_idx, device, data_loaders, epochs=5):\n",
    "    tr_ld, te_ld = data_loaders[(brand_idx, fold_idx)]\n",
    "    model = LSTMCls(in_feat=8).to(device)\n",
    "    optimizer = torch.optim.Adam(model.parameters(), lr=1e-3)\n",
    "    criterion = nn.CrossEntropyLoss()\n",
    "\n",
    "    train_losses = []\n",
    "    val_accuracies = []\n",
    "\n",
    "    for epoch in range(1, epochs + 1):\n",
    "        model.train()\n",
    "        total_loss = 0\n",
    "        for x, lengths, y in tr_ld:\n",
    "            x, lengths, y = x.to(device), lengths.to(device), y.to(device)\n",
    "            optimizer.zero_grad()\n",
    "            logits = model(x, lengths)\n",
    "            loss = criterion(logits, y)\n",
    "            loss.backward()\n",
    "            optimizer.step()\n",
    "            total_loss += loss.item()\n",
    "        avg_loss = total_loss / len(tr_ld)\n",
    "        train_losses.append(avg_loss)\n",
    "\n",
    "        # Validation\n",
    "        model.eval()\n",
    "        correct = total = 0\n",
    "        with torch.no_grad():\n",
    "            for x, lengths, y in te_ld:\n",
    "                x, lengths, y = x.to(device), lengths.to(device), y.to(device)\n",
    "                logits = model(x, lengths)\n",
    "                pred = logits.argmax(dim=1)\n",
    "                correct += (pred == y).sum().item()\n",
    "                total += y.size(0)\n",
    "        val_acc = correct / total\n",
    "        val_accuracies.append(val_acc)\n",
    "\n",
    "        print(f\"[Brand{brand_idx} Fold{fold_idx}] Epoch {epoch}: Loss={avg_loss:.4f}, Val Acc={val_acc:.4f}\")\n",
    "\n",
    "    fold_stats = {\n",
    "        'train_losses': train_losses,\n",
    "        'val_accuracies': val_accuracies,\n",
    "        'final_val_acc': val_accuracies[-1],\n",
    "        'model_state_dict': model.state_dict()\n",
    "    }\n",
    "\n",
    "    return model, fold_stats\n"
   ]
  },
  {
   "cell_type": "code",
   "execution_count": 33,
   "id": "d6eca853",
   "metadata": {},
   "outputs": [
    {
     "name": "stdout",
     "output_type": "stream",
     "text": [
      "\n",
      "=== 브랜드 1 학습 시작 ===\n",
      "\n",
      "--- Fold 1/5 ---\n"
     ]
    },
    {
     "ename": "UnpicklingError",
     "evalue": "Caught UnpicklingError in DataLoader worker process 0.\nOriginal Traceback (most recent call last):\n  File \"/opt/conda/lib/python3.10/site-packages/torch/utils/data/_utils/worker.py\", line 349, in _worker_loop\n    else:\n  File \"/opt/conda/lib/python3.10/site-packages/torch/utils/data/_utils/fetch.py\", line 52, in fetch\n    data = [self.dataset[idx] for idx in possibly_batched_index]\n  File \"/opt/conda/lib/python3.10/site-packages/torch/utils/data/_utils/fetch.py\", line 52, in <listcomp>\n    data = [self.dataset[idx] for idx in possibly_batched_index]\n  File \"/tmp/ipykernel_2974047/1635444275.py\", line 7, in __getitem__\n    snippet, meta = torch.load(self.files[i], map_location='cpu')\n  File \"/opt/conda/lib/python3.10/site-packages/torch/serialization.py\", line 1524, in load\n    (ndim,) = struct.unpack(\"<i\", f.read(4))\n_pickle.UnpicklingError: Weights only load failed. This file can still be loaded, to do so you have two options, \u001b[1mdo those steps only if you trust the source of the checkpoint\u001b[0m. \n\t(1) In PyTorch 2.6, we changed the default value of the `weights_only` argument in `torch.load` from `False` to `True`. Re-running `torch.load` with `weights_only` set to `False` will likely succeed, but it can result in arbitrary code execution. Do it only if you got the file from a trusted source.\n\t(2) Alternatively, to load with `weights_only=True` please check the recommended steps in the following error message.\n\tWeightsUnpickler error: Unsupported global: GLOBAL numpy.dtype was not an allowed global by default. Please use `torch.serialization.add_safe_globals([numpy.dtype])` or the `torch.serialization.safe_globals([numpy.dtype])` context manager to allowlist this global if you trust this class/function.\n\nCheck the documentation of torch.load to learn more about types accepted by default with weights_only https://pytorch.org/docs/stable/generated/torch.load.html.\n",
     "output_type": "error",
     "traceback": [
      "\u001b[0;31m---------------------------------------------------------------------------\u001b[0m",
      "\u001b[0;31mUnpicklingError\u001b[0m                           Traceback (most recent call last)",
      "Cell \u001b[0;32mIn[33], line 9\u001b[0m\n\u001b[1;32m      7\u001b[0m \u001b[38;5;28;01mfor\u001b[39;00m k \u001b[38;5;129;01min\u001b[39;00m \u001b[38;5;28mrange\u001b[39m(\u001b[38;5;241m1\u001b[39m, \u001b[38;5;241m6\u001b[39m):\n\u001b[1;32m      8\u001b[0m     \u001b[38;5;28mprint\u001b[39m(\u001b[38;5;124mf\u001b[39m\u001b[38;5;124m\"\u001b[39m\u001b[38;5;130;01m\\n\u001b[39;00m\u001b[38;5;124m--- Fold \u001b[39m\u001b[38;5;132;01m{\u001b[39;00mk\u001b[38;5;132;01m}\u001b[39;00m\u001b[38;5;124m/5 ---\u001b[39m\u001b[38;5;124m\"\u001b[39m)\n\u001b[0;32m----> 9\u001b[0m     model, stats \u001b[38;5;241m=\u001b[39m \u001b[43mtrain_fold\u001b[49m\u001b[43m(\u001b[49m\u001b[43mb\u001b[49m\u001b[43m,\u001b[49m\u001b[43m \u001b[49m\u001b[43mk\u001b[49m\u001b[43m,\u001b[49m\u001b[43m \u001b[49m\u001b[43mdevice\u001b[49m\u001b[43m,\u001b[49m\u001b[43m \u001b[49m\u001b[43mdata_loaders\u001b[49m\u001b[43m)\u001b[49m\n\u001b[1;32m     10\u001b[0m     all_stats[\u001b[38;5;124mf\u001b[39m\u001b[38;5;124m\"\u001b[39m\u001b[38;5;124mbrand\u001b[39m\u001b[38;5;132;01m{\u001b[39;00mb\u001b[38;5;132;01m}\u001b[39;00m\u001b[38;5;124m\"\u001b[39m][\u001b[38;5;124mf\u001b[39m\u001b[38;5;124m\"\u001b[39m\u001b[38;5;124mfold_\u001b[39m\u001b[38;5;132;01m{\u001b[39;00mk\u001b[38;5;132;01m}\u001b[39;00m\u001b[38;5;124m\"\u001b[39m] \u001b[38;5;241m=\u001b[39m stats\n",
      "Cell \u001b[0;32mIn[19], line 13\u001b[0m, in \u001b[0;36mtrain_fold\u001b[0;34m(brand_idx, fold_idx, device, data_loaders, epochs)\u001b[0m\n\u001b[1;32m     11\u001b[0m model\u001b[38;5;241m.\u001b[39mtrain()\n\u001b[1;32m     12\u001b[0m total_loss \u001b[38;5;241m=\u001b[39m \u001b[38;5;241m0\u001b[39m\n\u001b[0;32m---> 13\u001b[0m \u001b[38;5;28;01mfor\u001b[39;00m x, lengths, y \u001b[38;5;129;01min\u001b[39;00m tr_ld:\n\u001b[1;32m     14\u001b[0m     x, lengths, y \u001b[38;5;241m=\u001b[39m x\u001b[38;5;241m.\u001b[39mto(device), lengths\u001b[38;5;241m.\u001b[39mto(device), y\u001b[38;5;241m.\u001b[39mto(device)\n\u001b[1;32m     15\u001b[0m     optimizer\u001b[38;5;241m.\u001b[39mzero_grad()\n",
      "File \u001b[0;32m/opt/conda/lib/python3.10/site-packages/torch/utils/data/dataloader.py:733\u001b[0m, in \u001b[0;36m_BaseDataLoaderIter.__next__\u001b[0;34m(self)\u001b[0m\n\u001b[1;32m    730\u001b[0m \u001b[38;5;28;01mif\u001b[39;00m \u001b[38;5;28mself\u001b[39m\u001b[38;5;241m.\u001b[39m_sampler_iter \u001b[38;5;129;01mis\u001b[39;00m \u001b[38;5;28;01mNone\u001b[39;00m:\n\u001b[1;32m    731\u001b[0m     \u001b[38;5;66;03m# TODO(https://github.com/pytorch/pytorch/issues/76750)\u001b[39;00m\n\u001b[1;32m    732\u001b[0m     \u001b[38;5;28mself\u001b[39m\u001b[38;5;241m.\u001b[39m_reset()  \u001b[38;5;66;03m# type: ignore[call-arg]\u001b[39;00m\n\u001b[0;32m--> 733\u001b[0m data \u001b[38;5;241m=\u001b[39m \u001b[38;5;28;43mself\u001b[39;49m\u001b[38;5;241;43m.\u001b[39;49m\u001b[43m_next_data\u001b[49m\u001b[43m(\u001b[49m\u001b[43m)\u001b[49m\n\u001b[1;32m    734\u001b[0m \u001b[38;5;28mself\u001b[39m\u001b[38;5;241m.\u001b[39m_num_yielded \u001b[38;5;241m+\u001b[39m\u001b[38;5;241m=\u001b[39m \u001b[38;5;241m1\u001b[39m\n\u001b[1;32m    735\u001b[0m \u001b[38;5;28;01mif\u001b[39;00m (\n\u001b[1;32m    736\u001b[0m     \u001b[38;5;28mself\u001b[39m\u001b[38;5;241m.\u001b[39m_dataset_kind \u001b[38;5;241m==\u001b[39m _DatasetKind\u001b[38;5;241m.\u001b[39mIterable\n\u001b[1;32m    737\u001b[0m     \u001b[38;5;129;01mand\u001b[39;00m \u001b[38;5;28mself\u001b[39m\u001b[38;5;241m.\u001b[39m_IterableDataset_len_called \u001b[38;5;129;01mis\u001b[39;00m \u001b[38;5;129;01mnot\u001b[39;00m \u001b[38;5;28;01mNone\u001b[39;00m\n\u001b[1;32m    738\u001b[0m     \u001b[38;5;129;01mand\u001b[39;00m \u001b[38;5;28mself\u001b[39m\u001b[38;5;241m.\u001b[39m_num_yielded \u001b[38;5;241m>\u001b[39m \u001b[38;5;28mself\u001b[39m\u001b[38;5;241m.\u001b[39m_IterableDataset_len_called\n\u001b[1;32m    739\u001b[0m ):\n",
      "File \u001b[0;32m/opt/conda/lib/python3.10/site-packages/torch/utils/data/dataloader.py:1515\u001b[0m, in \u001b[0;36m_MultiProcessingDataLoaderIter._next_data\u001b[0;34m(self)\u001b[0m\n\u001b[1;32m   1513\u001b[0m worker_id \u001b[38;5;241m=\u001b[39m \u001b[38;5;28mself\u001b[39m\u001b[38;5;241m.\u001b[39m_task_info\u001b[38;5;241m.\u001b[39mpop(idx)[\u001b[38;5;241m0\u001b[39m]\n\u001b[1;32m   1514\u001b[0m \u001b[38;5;28mself\u001b[39m\u001b[38;5;241m.\u001b[39m_rcvd_idx \u001b[38;5;241m+\u001b[39m\u001b[38;5;241m=\u001b[39m \u001b[38;5;241m1\u001b[39m\n\u001b[0;32m-> 1515\u001b[0m \u001b[38;5;28;01mreturn\u001b[39;00m \u001b[38;5;28;43mself\u001b[39;49m\u001b[38;5;241;43m.\u001b[39;49m\u001b[43m_process_data\u001b[49m\u001b[43m(\u001b[49m\u001b[43mdata\u001b[49m\u001b[43m,\u001b[49m\u001b[43m \u001b[49m\u001b[43mworker_id\u001b[49m\u001b[43m)\u001b[49m\n",
      "File \u001b[0;32m/opt/conda/lib/python3.10/site-packages/torch/utils/data/dataloader.py:1550\u001b[0m, in \u001b[0;36m_MultiProcessingDataLoaderIter._process_data\u001b[0;34m(self, data, worker_idx)\u001b[0m\n\u001b[1;32m   1548\u001b[0m \u001b[38;5;28mself\u001b[39m\u001b[38;5;241m.\u001b[39m_try_put_index()\n\u001b[1;32m   1549\u001b[0m \u001b[38;5;28;01mif\u001b[39;00m \u001b[38;5;28misinstance\u001b[39m(data, ExceptionWrapper):\n\u001b[0;32m-> 1550\u001b[0m     \u001b[43mdata\u001b[49m\u001b[38;5;241;43m.\u001b[39;49m\u001b[43mreraise\u001b[49m\u001b[43m(\u001b[49m\u001b[43m)\u001b[49m\n\u001b[1;32m   1551\u001b[0m \u001b[38;5;28;01mreturn\u001b[39;00m data\n",
      "File \u001b[0;32m/opt/conda/lib/python3.10/site-packages/torch/_utils.py:750\u001b[0m, in \u001b[0;36mExceptionWrapper.reraise\u001b[0;34m(self)\u001b[0m\n\u001b[1;32m    746\u001b[0m \u001b[38;5;28;01mexcept\u001b[39;00m \u001b[38;5;167;01mException\u001b[39;00m:\n\u001b[1;32m    747\u001b[0m     \u001b[38;5;66;03m# If the exception takes multiple arguments or otherwise can't\u001b[39;00m\n\u001b[1;32m    748\u001b[0m     \u001b[38;5;66;03m# be constructed, don't try to instantiate since we don't know how to\u001b[39;00m\n\u001b[1;32m    749\u001b[0m     \u001b[38;5;28;01mraise\u001b[39;00m \u001b[38;5;167;01mRuntimeError\u001b[39;00m(msg) \u001b[38;5;28;01mfrom\u001b[39;00m \u001b[38;5;28;01mNone\u001b[39;00m\n\u001b[0;32m--> 750\u001b[0m \u001b[38;5;28;01mraise\u001b[39;00m exception\n",
      "\u001b[0;31mUnpicklingError\u001b[0m: Caught UnpicklingError in DataLoader worker process 0.\nOriginal Traceback (most recent call last):\n  File \"/opt/conda/lib/python3.10/site-packages/torch/utils/data/_utils/worker.py\", line 349, in _worker_loop\n    else:\n  File \"/opt/conda/lib/python3.10/site-packages/torch/utils/data/_utils/fetch.py\", line 52, in fetch\n    data = [self.dataset[idx] for idx in possibly_batched_index]\n  File \"/opt/conda/lib/python3.10/site-packages/torch/utils/data/_utils/fetch.py\", line 52, in <listcomp>\n    data = [self.dataset[idx] for idx in possibly_batched_index]\n  File \"/tmp/ipykernel_2974047/1635444275.py\", line 7, in __getitem__\n    snippet, meta = torch.load(self.files[i], map_location='cpu')\n  File \"/opt/conda/lib/python3.10/site-packages/torch/serialization.py\", line 1524, in load\n    (ndim,) = struct.unpack(\"<i\", f.read(4))\n_pickle.UnpicklingError: Weights only load failed. This file can still be loaded, to do so you have two options, \u001b[1mdo those steps only if you trust the source of the checkpoint\u001b[0m. \n\t(1) In PyTorch 2.6, we changed the default value of the `weights_only` argument in `torch.load` from `False` to `True`. Re-running `torch.load` with `weights_only` set to `False` will likely succeed, but it can result in arbitrary code execution. Do it only if you got the file from a trusted source.\n\t(2) Alternatively, to load with `weights_only=True` please check the recommended steps in the following error message.\n\tWeightsUnpickler error: Unsupported global: GLOBAL numpy.dtype was not an allowed global by default. Please use `torch.serialization.add_safe_globals([numpy.dtype])` or the `torch.serialization.safe_globals([numpy.dtype])` context manager to allowlist this global if you trust this class/function.\n\nCheck the documentation of torch.load to learn more about types accepted by default with weights_only https://pytorch.org/docs/stable/generated/torch.load.html.\n"
     ]
    }
   ],
   "source": [
    "device = torch.device('cuda:0' if torch.cuda.is_available() else 'cpu')\n",
    "all_stats = {}\n",
    "\n",
    "for b in (1, 2, 3):\n",
    "    print(f\"\\n=== 브랜드 {b} 학습 시작 ===\")\n",
    "    all_stats[f\"brand{b}\"] = {}\n",
    "    for k in range(1, 6):\n",
    "        print(f\"\\n--- Fold {k}/5 ---\")\n",
    "        model, stats = train_fold(b, k, device, data_loaders)\n",
    "        all_stats[f\"brand{b}\"][f\"fold_{k}\"] = stats\n"
   ]
  },
  {
   "cell_type": "code",
   "execution_count": null,
   "id": "6bb667b4",
   "metadata": {},
   "outputs": [],
   "source": [
    "best_fold_info = None\n",
    "best_val_acc = -1\n",
    "\n",
    "for k in range(1, 6):\n",
    "    stats = all_stats[f\"brand{b}\"][f\"fold_{k}\"]\n",
    "    if stats['final_val_acc'] > best_val_acc:\n",
    "        best_val_acc = stats['final_val_acc']\n",
    "        best_fold_info = {\n",
    "            'fold_idx': k,\n",
    "            'model_state_dict': stats.get('model_state_dict'),  # 필요 시 저장\n",
    "            'hyperparams': {\n",
    "                'hidden': 64,  # 예시, 실사용시 변수화\n",
    "                'layers': 2,\n",
    "                'lr': 1e-3,\n",
    "                'epochs': 5\n",
    "            }\n",
    "        }"
   ]
  },
  {
   "cell_type": "code",
   "execution_count": 115,
   "id": "68d5bcc8",
   "metadata": {},
   "outputs": [
    {
     "name": "stdout",
     "output_type": "stream",
     "text": [
      "\n",
      "=== Brand1 Training ===\n",
      "\n",
      "-- Fold 1/5 --\n"
     ]
    },
    {
     "name": "stderr",
     "output_type": "stream",
     "text": [
      "Brand1-Fold1 Epochs:  20%|██        | 1/5 [02:04<08:19, 124.80s/it]"
     ]
    },
    {
     "name": "stdout",
     "output_type": "stream",
     "text": [
      " Epoch01 loss=0.1436 acc=0.9561\n"
     ]
    },
    {
     "name": "stderr",
     "output_type": "stream",
     "text": [
      "Brand1-Fold1 Epochs:  40%|████      | 2/5 [04:06<06:09, 123.03s/it]"
     ]
    },
    {
     "name": "stdout",
     "output_type": "stream",
     "text": [
      " Epoch02 loss=0.1396 acc=0.9561\n"
     ]
    },
    {
     "name": "stderr",
     "output_type": "stream",
     "text": [
      "Brand1-Fold1 Epochs:  60%|██████    | 3/5 [06:04<04:01, 120.68s/it]"
     ]
    },
    {
     "name": "stdout",
     "output_type": "stream",
     "text": [
      " Epoch03 loss=0.1394 acc=0.9561\n"
     ]
    },
    {
     "name": "stderr",
     "output_type": "stream",
     "text": [
      "Brand1-Fold1 Epochs:  80%|████████  | 4/5 [08:03<01:59, 119.92s/it]"
     ]
    },
    {
     "name": "stdout",
     "output_type": "stream",
     "text": [
      " Epoch04 loss=0.1390 acc=0.9561\n"
     ]
    },
    {
     "name": "stderr",
     "output_type": "stream",
     "text": [
      "                                                                   \r"
     ]
    },
    {
     "name": "stdout",
     "output_type": "stream",
     "text": [
      " Epoch05 loss=0.1385 acc=0.9561\n",
      " → Fold 1 best epoch=1, best_acc=0.9561\n",
      "    saved model: models/brand1/brand1_fold1_best.pth\n",
      "\n",
      "-- Fold 2/5 --\n"
     ]
    },
    {
     "name": "stderr",
     "output_type": "stream",
     "text": [
      "Brand1-Fold2 Epochs:  20%|██        | 1/5 [01:59<07:58, 119.58s/it]"
     ]
    },
    {
     "name": "stdout",
     "output_type": "stream",
     "text": [
      " Epoch01 loss=0.1558 acc=0.9711\n"
     ]
    },
    {
     "name": "stderr",
     "output_type": "stream",
     "text": [
      "Brand1-Fold2 Epochs:  40%|████      | 2/5 [03:59<05:58, 119.61s/it]"
     ]
    },
    {
     "name": "stdout",
     "output_type": "stream",
     "text": [
      " Epoch02 loss=0.1533 acc=0.9711\n"
     ]
    },
    {
     "name": "stderr",
     "output_type": "stream",
     "text": [
      "Brand1-Fold2 Epochs:  60%|██████    | 3/5 [05:56<03:57, 118.63s/it]"
     ]
    },
    {
     "name": "stdout",
     "output_type": "stream",
     "text": [
      " Epoch03 loss=0.1530 acc=0.9711\n"
     ]
    },
    {
     "name": "stderr",
     "output_type": "stream",
     "text": [
      "Brand1-Fold2 Epochs:  80%|████████  | 4/5 [08:03<02:01, 121.97s/it]"
     ]
    },
    {
     "name": "stdout",
     "output_type": "stream",
     "text": [
      " Epoch04 loss=0.1527 acc=0.9711\n"
     ]
    },
    {
     "name": "stderr",
     "output_type": "stream",
     "text": [
      "                                                                   \r"
     ]
    },
    {
     "name": "stdout",
     "output_type": "stream",
     "text": [
      " Epoch05 loss=0.1521 acc=0.9711\n",
      " → Fold 2 best epoch=1, best_acc=0.9711\n",
      "    saved model: models/brand1/brand1_fold2_best.pth\n",
      "\n",
      "-- Fold 3/5 --\n"
     ]
    },
    {
     "name": "stderr",
     "output_type": "stream",
     "text": [
      "Brand1-Fold3 Epochs:  20%|██        | 1/5 [01:56<07:44, 116.19s/it]"
     ]
    },
    {
     "name": "stdout",
     "output_type": "stream",
     "text": [
      " Epoch01 loss=0.1518 acc=0.9607\n"
     ]
    },
    {
     "name": "stderr",
     "output_type": "stream",
     "text": [
      "Brand1-Fold3 Epochs:  40%|████      | 2/5 [03:53<05:50, 116.91s/it]"
     ]
    },
    {
     "name": "stdout",
     "output_type": "stream",
     "text": [
      " Epoch02 loss=0.1502 acc=0.9607\n"
     ]
    },
    {
     "name": "stderr",
     "output_type": "stream",
     "text": [
      "Brand1-Fold3 Epochs:  60%|██████    | 3/5 [05:50<03:53, 116.77s/it]"
     ]
    },
    {
     "name": "stdout",
     "output_type": "stream",
     "text": [
      " Epoch03 loss=0.1498 acc=0.9607\n"
     ]
    },
    {
     "name": "stderr",
     "output_type": "stream",
     "text": [
      "Brand1-Fold3 Epochs:  80%|████████  | 4/5 [07:45<01:56, 116.38s/it]"
     ]
    },
    {
     "name": "stdout",
     "output_type": "stream",
     "text": [
      " Epoch04 loss=0.1494 acc=0.9607\n"
     ]
    },
    {
     "name": "stderr",
     "output_type": "stream",
     "text": [
      "                                                                   \r"
     ]
    },
    {
     "name": "stdout",
     "output_type": "stream",
     "text": [
      " Epoch05 loss=0.1493 acc=0.9607\n",
      " → Fold 3 best epoch=1, best_acc=0.9607\n",
      "    saved model: models/brand1/brand1_fold3_best.pth\n",
      "\n",
      "-- Fold 4/5 --\n"
     ]
    },
    {
     "name": "stderr",
     "output_type": "stream",
     "text": [
      "Brand1-Fold4 Epochs:  20%|██        | 1/5 [01:58<07:53, 118.39s/it]"
     ]
    },
    {
     "name": "stdout",
     "output_type": "stream",
     "text": [
      " Epoch01 loss=0.1425 acc=0.9532\n"
     ]
    },
    {
     "name": "stderr",
     "output_type": "stream",
     "text": [
      "Brand1-Fold4 Epochs:  40%|████      | 2/5 [03:53<05:49, 116.64s/it]"
     ]
    },
    {
     "name": "stdout",
     "output_type": "stream",
     "text": [
      " Epoch02 loss=0.1392 acc=0.9532\n"
     ]
    },
    {
     "name": "stderr",
     "output_type": "stream",
     "text": [
      "Brand1-Fold4 Epochs:  60%|██████    | 3/5 [05:45<03:48, 114.38s/it]"
     ]
    },
    {
     "name": "stdout",
     "output_type": "stream",
     "text": [
      " Epoch03 loss=0.1386 acc=0.9532\n"
     ]
    },
    {
     "name": "stderr",
     "output_type": "stream",
     "text": [
      "Brand1-Fold4 Epochs:  80%|████████  | 4/5 [07:38<01:53, 113.83s/it]"
     ]
    },
    {
     "name": "stdout",
     "output_type": "stream",
     "text": [
      " Epoch04 loss=0.1380 acc=0.9532\n"
     ]
    },
    {
     "name": "stderr",
     "output_type": "stream",
     "text": [
      "                                                                   \r"
     ]
    },
    {
     "name": "stdout",
     "output_type": "stream",
     "text": [
      " Epoch05 loss=0.1376 acc=0.9532\n",
      " → Fold 4 best epoch=1, best_acc=0.9532\n",
      "    saved model: models/brand1/brand1_fold4_best.pth\n",
      "\n",
      "-- Fold 5/5 --\n"
     ]
    },
    {
     "name": "stderr",
     "output_type": "stream",
     "text": [
      "Brand1-Fold5 Epochs:  20%|██        | 1/5 [01:53<07:35, 113.96s/it]"
     ]
    },
    {
     "name": "stdout",
     "output_type": "stream",
     "text": [
      " Epoch01 loss=0.1707 acc=0.9863\n"
     ]
    },
    {
     "name": "stderr",
     "output_type": "stream",
     "text": [
      "Brand1-Fold5 Epochs:  40%|████      | 2/5 [03:48<05:42, 114.22s/it]"
     ]
    },
    {
     "name": "stdout",
     "output_type": "stream",
     "text": [
      " Epoch02 loss=0.1677 acc=0.9863\n"
     ]
    },
    {
     "name": "stderr",
     "output_type": "stream",
     "text": [
      "Brand1-Fold5 Epochs:  60%|██████    | 3/5 [05:41<03:47, 113.77s/it]"
     ]
    },
    {
     "name": "stdout",
     "output_type": "stream",
     "text": [
      " Epoch03 loss=0.1670 acc=0.9863\n"
     ]
    },
    {
     "name": "stderr",
     "output_type": "stream",
     "text": [
      "Brand1-Fold5 Epochs:  80%|████████  | 4/5 [07:36<01:54, 114.13s/it]"
     ]
    },
    {
     "name": "stdout",
     "output_type": "stream",
     "text": [
      " Epoch04 loss=0.1673 acc=0.9863\n"
     ]
    },
    {
     "name": "stderr",
     "output_type": "stream",
     "text": [
      "                                                                   \r"
     ]
    },
    {
     "name": "stdout",
     "output_type": "stream",
     "text": [
      " Epoch05 loss=0.1668 acc=0.9863\n",
      " → Fold 5 best epoch=1, best_acc=0.9863\n",
      "    saved model: models/brand1/brand1_fold5_best.pth\n",
      "\n",
      "=== Brand2 Training ===\n",
      "\n",
      "-- Fold 1/5 --\n"
     ]
    },
    {
     "name": "stderr",
     "output_type": "stream",
     "text": [
      "Brand2-Fold1 Epochs:  20%|██        | 1/5 [00:42<02:49, 42.49s/it]"
     ]
    },
    {
     "name": "stdout",
     "output_type": "stream",
     "text": [
      " Epoch01 loss=0.5642 acc=0.6416\n"
     ]
    },
    {
     "name": "stderr",
     "output_type": "stream",
     "text": [
      "Brand2-Fold1 Epochs:  40%|████      | 2/5 [01:24<02:05, 42.00s/it]"
     ]
    },
    {
     "name": "stdout",
     "output_type": "stream",
     "text": [
      " Epoch02 loss=0.5314 acc=0.5915\n"
     ]
    },
    {
     "name": "stderr",
     "output_type": "stream",
     "text": [
      "Brand2-Fold1 Epochs:  60%|██████    | 3/5 [02:05<01:23, 41.88s/it]"
     ]
    },
    {
     "name": "stdout",
     "output_type": "stream",
     "text": [
      " Epoch03 loss=0.5226 acc=0.6905\n"
     ]
    },
    {
     "name": "stderr",
     "output_type": "stream",
     "text": [
      "Brand2-Fold1 Epochs:  80%|████████  | 4/5 [02:48<00:42, 42.09s/it]"
     ]
    },
    {
     "name": "stdout",
     "output_type": "stream",
     "text": [
      " Epoch04 loss=0.5157 acc=0.5802\n"
     ]
    },
    {
     "name": "stderr",
     "output_type": "stream",
     "text": [
      "                                                                  \r"
     ]
    },
    {
     "name": "stdout",
     "output_type": "stream",
     "text": [
      " Epoch05 loss=0.5035 acc=0.6385\n",
      " → Fold 1 best epoch=3, best_acc=0.6905\n",
      "    saved model: models/brand2/brand2_fold1_best.pth\n",
      "\n",
      "-- Fold 2/5 --\n"
     ]
    },
    {
     "name": "stderr",
     "output_type": "stream",
     "text": [
      "Brand2-Fold2 Epochs:  20%|██        | 1/5 [00:44<02:56, 44.19s/it]"
     ]
    },
    {
     "name": "stdout",
     "output_type": "stream",
     "text": [
      " Epoch01 loss=0.5681 acc=0.6898\n"
     ]
    },
    {
     "name": "stderr",
     "output_type": "stream",
     "text": [
      "Brand2-Fold2 Epochs:  40%|████      | 2/5 [01:29<02:13, 44.64s/it]"
     ]
    },
    {
     "name": "stdout",
     "output_type": "stream",
     "text": [
      " Epoch02 loss=0.5485 acc=0.6044\n"
     ]
    },
    {
     "name": "stderr",
     "output_type": "stream",
     "text": [
      "Brand2-Fold2 Epochs:  60%|██████    | 3/5 [02:15<01:30, 45.29s/it]"
     ]
    },
    {
     "name": "stdout",
     "output_type": "stream",
     "text": [
      " Epoch03 loss=0.5414 acc=0.6618\n"
     ]
    },
    {
     "name": "stderr",
     "output_type": "stream",
     "text": [
      "Brand2-Fold2 Epochs:  80%|████████  | 4/5 [03:00<00:45, 45.36s/it]"
     ]
    },
    {
     "name": "stdout",
     "output_type": "stream",
     "text": [
      " Epoch04 loss=0.5366 acc=0.6724\n"
     ]
    },
    {
     "name": "stderr",
     "output_type": "stream",
     "text": [
      "                                                                  \r"
     ]
    },
    {
     "name": "stdout",
     "output_type": "stream",
     "text": [
      " Epoch05 loss=0.5317 acc=0.6202\n",
      " → Fold 2 best epoch=1, best_acc=0.6898\n",
      "    saved model: models/brand2/brand2_fold2_best.pth\n",
      "\n",
      "-- Fold 3/5 --\n"
     ]
    },
    {
     "name": "stderr",
     "output_type": "stream",
     "text": [
      "Brand2-Fold3 Epochs:  20%|██        | 1/5 [00:44<02:58, 44.70s/it]"
     ]
    },
    {
     "name": "stdout",
     "output_type": "stream",
     "text": [
      " Epoch01 loss=0.5575 acc=0.3780\n"
     ]
    },
    {
     "name": "stderr",
     "output_type": "stream",
     "text": [
      "Brand2-Fold3 Epochs:  40%|████      | 2/5 [01:30<02:15, 45.21s/it]"
     ]
    },
    {
     "name": "stdout",
     "output_type": "stream",
     "text": [
      " Epoch02 loss=0.5409 acc=0.5542\n"
     ]
    },
    {
     "name": "stderr",
     "output_type": "stream",
     "text": [
      "Brand2-Fold3 Epochs:  60%|██████    | 3/5 [02:14<01:29, 44.80s/it]"
     ]
    },
    {
     "name": "stdout",
     "output_type": "stream",
     "text": [
      " Epoch03 loss=0.5358 acc=0.4839\n"
     ]
    },
    {
     "name": "stderr",
     "output_type": "stream",
     "text": [
      "Brand2-Fold3 Epochs:  80%|████████  | 4/5 [02:58<00:44, 44.60s/it]"
     ]
    },
    {
     "name": "stdout",
     "output_type": "stream",
     "text": [
      " Epoch04 loss=0.5334 acc=0.4794\n"
     ]
    },
    {
     "name": "stderr",
     "output_type": "stream",
     "text": [
      "                                                                  \r"
     ]
    },
    {
     "name": "stdout",
     "output_type": "stream",
     "text": [
      " Epoch05 loss=0.5300 acc=0.4739\n",
      " → Fold 3 best epoch=2, best_acc=0.5542\n",
      "    saved model: models/brand2/brand2_fold3_best.pth\n",
      "\n",
      "-- Fold 4/5 --\n"
     ]
    },
    {
     "name": "stderr",
     "output_type": "stream",
     "text": [
      "Brand2-Fold4 Epochs:  20%|██        | 1/5 [00:44<02:57, 44.31s/it]"
     ]
    },
    {
     "name": "stdout",
     "output_type": "stream",
     "text": [
      " Epoch01 loss=0.6001 acc=0.8974\n"
     ]
    },
    {
     "name": "stderr",
     "output_type": "stream",
     "text": [
      "Brand2-Fold4 Epochs:  40%|████      | 2/5 [01:29<02:15, 45.02s/it]"
     ]
    },
    {
     "name": "stdout",
     "output_type": "stream",
     "text": [
      " Epoch02 loss=0.5719 acc=0.8130\n"
     ]
    },
    {
     "name": "stderr",
     "output_type": "stream",
     "text": [
      "Brand2-Fold4 Epochs:  60%|██████    | 3/5 [02:13<01:29, 44.54s/it]"
     ]
    },
    {
     "name": "stdout",
     "output_type": "stream",
     "text": [
      " Epoch03 loss=0.5615 acc=0.8668\n"
     ]
    },
    {
     "name": "stderr",
     "output_type": "stream",
     "text": [
      "Brand2-Fold4 Epochs:  80%|████████  | 4/5 [02:58<00:44, 44.72s/it]"
     ]
    },
    {
     "name": "stdout",
     "output_type": "stream",
     "text": [
      " Epoch04 loss=0.5533 acc=0.8385\n"
     ]
    },
    {
     "name": "stderr",
     "output_type": "stream",
     "text": [
      "                                                                  \r"
     ]
    },
    {
     "name": "stdout",
     "output_type": "stream",
     "text": [
      " Epoch05 loss=0.5434 acc=0.6929\n",
      " → Fold 4 best epoch=1, best_acc=0.8974\n",
      "    saved model: models/brand2/brand2_fold4_best.pth\n",
      "\n",
      "-- Fold 5/5 --\n"
     ]
    },
    {
     "name": "stderr",
     "output_type": "stream",
     "text": [
      "Brand2-Fold5 Epochs:  20%|██        | 1/5 [00:44<02:56, 44.08s/it]"
     ]
    },
    {
     "name": "stdout",
     "output_type": "stream",
     "text": [
      " Epoch01 loss=0.5423 acc=0.5279\n"
     ]
    },
    {
     "name": "stderr",
     "output_type": "stream",
     "text": [
      "Brand2-Fold5 Epochs:  40%|████      | 2/5 [01:29<02:13, 44.65s/it]"
     ]
    },
    {
     "name": "stdout",
     "output_type": "stream",
     "text": [
      " Epoch02 loss=0.5157 acc=0.5438\n"
     ]
    },
    {
     "name": "stderr",
     "output_type": "stream",
     "text": [
      "Brand2-Fold5 Epochs:  60%|██████    | 3/5 [02:16<01:31, 45.85s/it]"
     ]
    },
    {
     "name": "stdout",
     "output_type": "stream",
     "text": [
      " Epoch03 loss=0.5107 acc=0.4769\n"
     ]
    },
    {
     "name": "stderr",
     "output_type": "stream",
     "text": [
      "Brand2-Fold5 Epochs:  80%|████████  | 4/5 [03:02<00:45, 45.96s/it]"
     ]
    },
    {
     "name": "stdout",
     "output_type": "stream",
     "text": [
      " Epoch04 loss=0.5047 acc=0.5358\n"
     ]
    },
    {
     "name": "stderr",
     "output_type": "stream",
     "text": [
      "                                                                  \r"
     ]
    },
    {
     "name": "stdout",
     "output_type": "stream",
     "text": [
      " Epoch05 loss=0.5031 acc=0.5139\n",
      " → Fold 5 best epoch=2, best_acc=0.5438\n",
      "    saved model: models/brand2/brand2_fold5_best.pth\n",
      "\n",
      "=== Brand3 Training ===\n",
      "\n",
      "-- Fold 1/5 --\n"
     ]
    },
    {
     "name": "stderr",
     "output_type": "stream",
     "text": [
      "Brand3-Fold1 Epochs:  20%|██        | 1/5 [00:06<00:27,  6.76s/it]"
     ]
    },
    {
     "name": "stdout",
     "output_type": "stream",
     "text": [
      " Epoch01 loss=0.2064 acc=0.9218\n"
     ]
    },
    {
     "name": "stderr",
     "output_type": "stream",
     "text": [
      "Brand3-Fold1 Epochs:  40%|████      | 2/5 [00:13<00:20,  6.91s/it]"
     ]
    },
    {
     "name": "stdout",
     "output_type": "stream",
     "text": [
      " Epoch02 loss=0.1658 acc=0.9341\n"
     ]
    },
    {
     "name": "stderr",
     "output_type": "stream",
     "text": [
      "Brand3-Fold1 Epochs:  60%|██████    | 3/5 [00:20<00:13,  6.69s/it]"
     ]
    },
    {
     "name": "stdout",
     "output_type": "stream",
     "text": [
      " Epoch03 loss=0.1646 acc=0.9341\n"
     ]
    },
    {
     "name": "stderr",
     "output_type": "stream",
     "text": [
      "Brand3-Fold1 Epochs:  80%|████████  | 4/5 [00:27<00:06,  6.89s/it]"
     ]
    },
    {
     "name": "stdout",
     "output_type": "stream",
     "text": [
      " Epoch04 loss=0.1540 acc=0.9342\n"
     ]
    },
    {
     "name": "stderr",
     "output_type": "stream",
     "text": [
      "                                                                  \r"
     ]
    },
    {
     "name": "stdout",
     "output_type": "stream",
     "text": [
      " Epoch05 loss=0.1525 acc=0.9308\n",
      " → Fold 1 best epoch=4, best_acc=0.9342\n",
      "    saved model: models/brand3/brand3_fold1_best.pth\n",
      "\n",
      "-- Fold 2/5 --\n"
     ]
    },
    {
     "name": "stderr",
     "output_type": "stream",
     "text": [
      "Brand3-Fold2 Epochs:  20%|██        | 1/5 [00:06<00:27,  6.98s/it]"
     ]
    },
    {
     "name": "stdout",
     "output_type": "stream",
     "text": [
      " Epoch01 loss=0.2268 acc=0.9514\n"
     ]
    },
    {
     "name": "stderr",
     "output_type": "stream",
     "text": [
      "Brand3-Fold2 Epochs:  40%|████      | 2/5 [00:13<00:20,  6.89s/it]"
     ]
    },
    {
     "name": "stdout",
     "output_type": "stream",
     "text": [
      " Epoch02 loss=0.1783 acc=0.9516\n"
     ]
    },
    {
     "name": "stderr",
     "output_type": "stream",
     "text": [
      "Brand3-Fold2 Epochs:  60%|██████    | 3/5 [00:20<00:13,  6.64s/it]"
     ]
    },
    {
     "name": "stdout",
     "output_type": "stream",
     "text": [
      " Epoch03 loss=0.1779 acc=0.9516\n"
     ]
    },
    {
     "name": "stderr",
     "output_type": "stream",
     "text": [
      "Brand3-Fold2 Epochs:  80%|████████  | 4/5 [00:26<00:06,  6.66s/it]"
     ]
    },
    {
     "name": "stdout",
     "output_type": "stream",
     "text": [
      " Epoch04 loss=0.1761 acc=0.9518\n"
     ]
    },
    {
     "name": "stderr",
     "output_type": "stream",
     "text": [
      "                                                                  \r"
     ]
    },
    {
     "name": "stdout",
     "output_type": "stream",
     "text": [
      " Epoch05 loss=0.1724 acc=0.9516\n",
      " → Fold 2 best epoch=4, best_acc=0.9518\n",
      "    saved model: models/brand3/brand3_fold2_best.pth\n",
      "\n",
      "-- Fold 3/5 --\n"
     ]
    },
    {
     "name": "stderr",
     "output_type": "stream",
     "text": [
      "Brand3-Fold3 Epochs:  20%|██        | 1/5 [00:06<00:25,  6.42s/it]"
     ]
    },
    {
     "name": "stdout",
     "output_type": "stream",
     "text": [
      " Epoch01 loss=0.2224 acc=0.9363\n"
     ]
    },
    {
     "name": "stderr",
     "output_type": "stream",
     "text": [
      "Brand3-Fold3 Epochs:  40%|████      | 2/5 [00:12<00:19,  6.46s/it]"
     ]
    },
    {
     "name": "stdout",
     "output_type": "stream",
     "text": [
      " Epoch02 loss=0.1814 acc=0.9478\n"
     ]
    },
    {
     "name": "stderr",
     "output_type": "stream",
     "text": [
      "Brand3-Fold3 Epochs:  60%|██████    | 3/5 [00:19<00:13,  6.70s/it]"
     ]
    },
    {
     "name": "stdout",
     "output_type": "stream",
     "text": [
      " Epoch03 loss=0.1736 acc=0.9442\n"
     ]
    },
    {
     "name": "stderr",
     "output_type": "stream",
     "text": [
      "Brand3-Fold3 Epochs:  80%|████████  | 4/5 [00:26<00:06,  6.65s/it]"
     ]
    },
    {
     "name": "stdout",
     "output_type": "stream",
     "text": [
      " Epoch04 loss=0.1706 acc=0.9518\n"
     ]
    },
    {
     "name": "stderr",
     "output_type": "stream",
     "text": [
      "                                                                  \r"
     ]
    },
    {
     "name": "stdout",
     "output_type": "stream",
     "text": [
      " Epoch05 loss=0.1642 acc=0.9522\n",
      " → Fold 3 best epoch=5, best_acc=0.9522\n",
      "    saved model: models/brand3/brand3_fold3_best.pth\n",
      "\n",
      "-- Fold 4/5 --\n"
     ]
    },
    {
     "name": "stderr",
     "output_type": "stream",
     "text": [
      "Brand3-Fold4 Epochs:  20%|██        | 1/5 [00:06<00:25,  6.45s/it]"
     ]
    },
    {
     "name": "stdout",
     "output_type": "stream",
     "text": [
      " Epoch01 loss=0.2141 acc=0.8993\n"
     ]
    },
    {
     "name": "stderr",
     "output_type": "stream",
     "text": [
      "Brand3-Fold4 Epochs:  40%|████      | 2/5 [00:13<00:21,  7.04s/it]"
     ]
    },
    {
     "name": "stdout",
     "output_type": "stream",
     "text": [
      " Epoch02 loss=0.1639 acc=0.8993\n"
     ]
    },
    {
     "name": "stderr",
     "output_type": "stream",
     "text": [
      "Brand3-Fold4 Epochs:  60%|██████    | 3/5 [00:20<00:13,  6.91s/it]"
     ]
    },
    {
     "name": "stdout",
     "output_type": "stream",
     "text": [
      " Epoch03 loss=0.1489 acc=0.9052\n"
     ]
    },
    {
     "name": "stderr",
     "output_type": "stream",
     "text": [
      "Brand3-Fold4 Epochs:  80%|████████  | 4/5 [00:27<00:06,  6.75s/it]"
     ]
    },
    {
     "name": "stdout",
     "output_type": "stream",
     "text": [
      " Epoch04 loss=0.1456 acc=0.9144\n"
     ]
    },
    {
     "name": "stderr",
     "output_type": "stream",
     "text": [
      "                                                                  \r"
     ]
    },
    {
     "name": "stdout",
     "output_type": "stream",
     "text": [
      " Epoch05 loss=0.1402 acc=0.9120\n",
      " → Fold 4 best epoch=4, best_acc=0.9144\n",
      "    saved model: models/brand3/brand3_fold4_best.pth\n",
      "\n",
      "-- Fold 5/5 --\n"
     ]
    },
    {
     "name": "stderr",
     "output_type": "stream",
     "text": [
      "Brand3-Fold5 Epochs:  20%|██        | 1/5 [00:06<00:26,  6.68s/it]"
     ]
    },
    {
     "name": "stdout",
     "output_type": "stream",
     "text": [
      " Epoch01 loss=0.2464 acc=0.9865\n"
     ]
    },
    {
     "name": "stderr",
     "output_type": "stream",
     "text": [
      "Brand3-Fold5 Epochs:  40%|████      | 2/5 [00:13<00:19,  6.56s/it]"
     ]
    },
    {
     "name": "stdout",
     "output_type": "stream",
     "text": [
      " Epoch02 loss=0.2130 acc=0.9865\n"
     ]
    },
    {
     "name": "stderr",
     "output_type": "stream",
     "text": [
      "Brand3-Fold5 Epochs:  60%|██████    | 3/5 [00:20<00:13,  6.80s/it]"
     ]
    },
    {
     "name": "stdout",
     "output_type": "stream",
     "text": [
      " Epoch03 loss=0.2184 acc=0.9816\n"
     ]
    },
    {
     "name": "stderr",
     "output_type": "stream",
     "text": [
      "Brand3-Fold5 Epochs:  80%|████████  | 4/5 [00:26<00:06,  6.76s/it]"
     ]
    },
    {
     "name": "stdout",
     "output_type": "stream",
     "text": [
      " Epoch04 loss=0.2054 acc=0.9845\n"
     ]
    },
    {
     "name": "stderr",
     "output_type": "stream",
     "text": [
      "                                                                  "
     ]
    },
    {
     "name": "stdout",
     "output_type": "stream",
     "text": [
      " Epoch05 loss=0.2049 acc=0.9865\n",
      " → Fold 5 best epoch=1, best_acc=0.9865\n",
      "    saved model: models/brand3/brand3_fold5_best.pth\n"
     ]
    },
    {
     "name": "stderr",
     "output_type": "stream",
     "text": [
      "\r"
     ]
    }
   ],
   "source": [
    "if __name__ == '__main__':\n",
    "    device = torch.device('cuda:0' if torch.cuda.is_available() else 'cpu')\n",
    "    all_stats = {}\n",
    "    for b in (1, 2, 3):\n",
    "        stats = run_brand(b, device)\n",
    "        all_stats[f\"brand{b}\"] = stats"
   ]
  },
  {
   "cell_type": "code",
   "execution_count": 116,
   "id": "91b0cdf8",
   "metadata": {},
   "outputs": [
    {
     "data": {
      "text/plain": [
       "{'brand1': {'fold_1': {'epoch_loss': [0.1435640859252339,\n",
       "    0.1396165911350655,\n",
       "    0.13936080525748237,\n",
       "    0.1389702183693899,\n",
       "    0.13848064880183467],\n",
       "   'epoch_acc': [0.9561092468952157,\n",
       "    0.9561092468952157,\n",
       "    0.9561092468952157,\n",
       "    0.9561092468952157,\n",
       "    0.9561092468952157],\n",
       "   'best_acc': 0.9561092468952157,\n",
       "   'best_epoch': 1,\n",
       "   'best_model_path': 'models/brand1/brand1_fold1_best.pth'},\n",
       "  'fold_2': {'epoch_loss': [0.155779407104993,\n",
       "    0.15332159619053592,\n",
       "    0.15295111334393968,\n",
       "    0.15268694752173,\n",
       "    0.15212910111989877],\n",
       "   'epoch_acc': [0.9711056265917505,\n",
       "    0.9711056265917505,\n",
       "    0.9711056265917505,\n",
       "    0.9711056265917505,\n",
       "    0.9711056265917505],\n",
       "   'best_acc': 0.9711056265917505,\n",
       "   'best_epoch': 1,\n",
       "   'best_model_path': 'models/brand1/brand1_fold2_best.pth'},\n",
       "  'fold_3': {'epoch_loss': [0.15179033963110822,\n",
       "    0.1501947934430831,\n",
       "    0.14981919023824244,\n",
       "    0.14942494875077708,\n",
       "    0.14927500394357457],\n",
       "   'epoch_acc': [0.9607194108959117,\n",
       "    0.9607194108959117,\n",
       "    0.9607194108959117,\n",
       "    0.9607194108959117,\n",
       "    0.9607194108959117],\n",
       "   'best_acc': 0.9607194108959117,\n",
       "   'best_epoch': 1,\n",
       "   'best_model_path': 'models/brand1/brand1_fold3_best.pth'},\n",
       "  'fold_4': {'epoch_loss': [0.1424991159226281,\n",
       "    0.13918171303661772,\n",
       "    0.13862551077299856,\n",
       "    0.1380281380469577,\n",
       "    0.1375668154263536],\n",
       "   'epoch_acc': [0.9531679637780434,\n",
       "    0.9531679637780434,\n",
       "    0.9531679637780434,\n",
       "    0.9531679637780434,\n",
       "    0.9531679637780434],\n",
       "   'best_acc': 0.9531679637780434,\n",
       "   'best_epoch': 1,\n",
       "   'best_model_path': 'models/brand1/brand1_fold4_best.pth'},\n",
       "  'fold_5': {'epoch_loss': [0.1707054427286132,\n",
       "    0.1677193779892359,\n",
       "    0.16704571840901736,\n",
       "    0.1672689930245732,\n",
       "    0.16681311486083206],\n",
       "   'epoch_acc': [0.9863083340073253,\n",
       "    0.9863083340073253,\n",
       "    0.9863083340073253,\n",
       "    0.9863083340073253,\n",
       "    0.9863083340073253],\n",
       "   'best_acc': 0.9863083340073253,\n",
       "   'best_epoch': 1,\n",
       "   'best_model_path': 'models/brand1/brand1_fold5_best.pth'}},\n",
       " 'brand2': {'fold_1': {'epoch_loss': [0.5642155059757571,\n",
       "    0.5314461510754551,\n",
       "    0.5225733167415981,\n",
       "    0.5157274288343777,\n",
       "    0.5035214310587455],\n",
       "   'epoch_acc': [0.6416213658345163,\n",
       "    0.5914845977170688,\n",
       "    0.6904654732638528,\n",
       "    0.5801507334695244,\n",
       "    0.6385166718603926],\n",
       "   'best_acc': 0.6904654732638528,\n",
       "   'best_epoch': 3,\n",
       "   'best_model_path': 'models/brand2/brand2_fold1_best.pth'},\n",
       "  'fold_2': {'epoch_loss': [0.5680998295273781,\n",
       "    0.5485499339498757,\n",
       "    0.5414468073229308,\n",
       "    0.5365616223455733,\n",
       "    0.5316845076112093],\n",
       "   'epoch_acc': [0.6898168209572583,\n",
       "    0.6044120543628126,\n",
       "    0.6617687610793775,\n",
       "    0.6723655702186331,\n",
       "    0.6202087847153831],\n",
       "   'best_acc': 0.6898168209572583,\n",
       "   'best_epoch': 1,\n",
       "   'best_model_path': 'models/brand2/brand2_fold2_best.pth'},\n",
       "  'fold_3': {'epoch_loss': [0.557467205526499,\n",
       "    0.540882437699258,\n",
       "    0.5358337485596548,\n",
       "    0.5333925589441247,\n",
       "    0.5300195650789652],\n",
       "   'epoch_acc': [0.377970102281668,\n",
       "    0.5542092840283241,\n",
       "    0.4838709677419355,\n",
       "    0.4793705743509048,\n",
       "    0.4739260424862313],\n",
       "   'best_acc': 0.5542092840283241,\n",
       "   'best_epoch': 2,\n",
       "   'best_model_path': 'models/brand2/brand2_fold3_best.pth'},\n",
       "  'fold_4': {'epoch_loss': [0.600083735482665,\n",
       "    0.5719415517952912,\n",
       "    0.5614526419899669,\n",
       "    0.5533041894853833,\n",
       "    0.5433852417793016],\n",
       "   'epoch_acc': [0.8973861386138614,\n",
       "    0.813029702970297,\n",
       "    0.8668118811881188,\n",
       "    0.8385346534653465,\n",
       "    0.6929108910891089],\n",
       "   'best_acc': 0.8973861386138614,\n",
       "   'best_epoch': 1,\n",
       "   'best_model_path': 'models/brand2/brand2_fold4_best.pth'},\n",
       "  'fold_5': {'epoch_loss': [0.5422785949171604,\n",
       "    0.5156877848975557,\n",
       "    0.5107359912094614,\n",
       "    0.5047202750628028,\n",
       "    0.5031199866510115],\n",
       "   'epoch_acc': [0.5278659892029216,\n",
       "    0.5438234360114322,\n",
       "    0.47693712289615753,\n",
       "    0.5357653223245474,\n",
       "    0.5138536043188314],\n",
       "   'best_acc': 0.5438234360114322,\n",
       "   'best_epoch': 2,\n",
       "   'best_model_path': 'models/brand2/brand2_fold5_best.pth'}},\n",
       " 'brand3': {'fold_1': {'epoch_loss': [0.20642718519140665,\n",
       "    0.16583692585251955,\n",
       "    0.16456773360441257,\n",
       "    0.15401132249637997,\n",
       "    0.15254587029742006],\n",
       "   'epoch_acc': [0.9218059872403075,\n",
       "    0.9340749222967446,\n",
       "    0.9340749222967446,\n",
       "    0.9342385080974971,\n",
       "    0.9308032062816948],\n",
       "   'best_acc': 0.9342385080974971,\n",
       "   'best_epoch': 4,\n",
       "   'best_model_path': 'models/brand3/brand3_fold1_best.pth'},\n",
       "  'fold_2': {'epoch_loss': [0.22675828067125373,\n",
       "    0.17828144227363873,\n",
       "    0.17790319851663303,\n",
       "    0.17607922947319363,\n",
       "    0.17244666513521434],\n",
       "   'epoch_acc': [0.9513982642237223,\n",
       "    0.9515911282545805,\n",
       "    0.9515911282545805,\n",
       "    0.9517839922854388,\n",
       "    0.9515911282545805],\n",
       "   'best_acc': 0.9517839922854388,\n",
       "   'best_epoch': 4,\n",
       "   'best_model_path': 'models/brand3/brand3_fold2_best.pth'},\n",
       "  'fold_3': {'epoch_loss': [0.22235657331259298,\n",
       "    0.18141372164127004,\n",
       "    0.1735852058293846,\n",
       "    0.17058128162847402,\n",
       "    0.1641969688756],\n",
       "   'epoch_acc': [0.9362866219555241,\n",
       "    0.9477585598305683,\n",
       "    0.9442287327920932,\n",
       "    0.9518178609248147,\n",
       "    0.9521708436286622],\n",
       "   'best_acc': 0.9521708436286622,\n",
       "   'best_epoch': 5,\n",
       "   'best_model_path': 'models/brand3/brand3_fold3_best.pth'},\n",
       "  'fold_4': {'epoch_loss': [0.21410675901184598,\n",
       "    0.16393317179298925,\n",
       "    0.14890828027089972,\n",
       "    0.1456498589925782,\n",
       "    0.14019309242097364],\n",
       "   'epoch_acc': [0.899285471248724,\n",
       "    0.899285471248724,\n",
       "    0.905239877509357,\n",
       "    0.9144266757400477,\n",
       "    0.9120449132357945],\n",
       "   'best_acc': 0.9144266757400477,\n",
       "   'best_epoch': 4,\n",
       "   'best_model_path': 'models/brand3/brand3_fold4_best.pth'},\n",
       "  'fold_5': {'epoch_loss': [0.24636608914353678,\n",
       "    0.2129552051582851,\n",
       "    0.2184153966421046,\n",
       "    0.2053754117743333,\n",
       "    0.2048762093940139],\n",
       "   'epoch_acc': [0.9865304914150385,\n",
       "    0.9865304914150385,\n",
       "    0.9816459443457667,\n",
       "    0.9844582593250444,\n",
       "    0.9865304914150385],\n",
       "   'best_acc': 0.9865304914150385,\n",
       "   'best_epoch': 1,\n",
       "   'best_model_path': 'models/brand3/brand3_fold5_best.pth'}}}"
      ]
     },
     "execution_count": 116,
     "metadata": {},
     "output_type": "execute_result"
    }
   ],
   "source": [
    "all_stats"
   ]
  },
  {
   "cell_type": "code",
   "execution_count": 35,
   "id": "a7fa0c97",
   "metadata": {},
   "outputs": [
    {
     "name": "stderr",
     "output_type": "stream",
     "text": [
      "/tmp/ipykernel_2974047/3954603383.py:13: UserWarning: No artists with labels found to put in legend.  Note that artists whose label start with an underscore are ignored when legend() is called with no argument.\n",
      "  plt.legend()\n"
     ]
    },
    {
     "data": {
      "image/png": "[encoded data removed]",
      "text/plain": [
       "<Figure size 640x480 with 1 Axes>"
      ]
     },
     "metadata": {},
     "output_type": "display_data"
    },
    {
     "data": {
      "image/png": "[encoded data removed]",
      "text/plain": [
       "<Figure size 640x480 with 1 Axes>"
      ]
     },
     "metadata": {},
     "output_type": "display_data"
    }
   ],
   "source": [
    "import matplotlib.pyplot as plt\n",
    "for metric in (\"epoch_acc\", \"epoch_loss\"):\n",
    "    for brand, stats in all_stats.items():\n",
    "        plt.figure()\n",
    "        for fold_key, fold_stats in stats.items():\n",
    "            values = fold_stats[metric]\n",
    "            epochs = range(1, len(values) + 1)\n",
    "            plt.plot(epochs, values, label=fold_key)\n",
    "        title = \"Accuracy\" if metric == \"epoch_acc\" else \"Loss\"\n",
    "        plt.title(f\"{brand} {title} per Epoch\")\n",
    "        plt.xlabel(\"Epoch\")\n",
    "        plt.ylabel(title)\n",
    "        plt.legend()\n",
    "        plt.show()"
   ]
  },
  {
   "cell_type": "code",
   "execution_count": 38,
   "id": "c8900bcd",
   "metadata": {},
   "outputs": [],
   "source": [
    "best_folds = {\n",
    "    1: 5,  # Brand1 Fold5 acc=0.9863\n",
    "    2: 4,  # Brand2 Fold4 acc=0.8974\n",
    "    3: 3   # Brand3 Fold3 acc=0.9522\n",
    "}\n"
   ]
  },
  {
   "cell_type": "code",
   "execution_count": 44,
   "id": "598faaef",
   "metadata": {},
   "outputs": [],
   "source": [
    "def retrain_from_model_path(brand_idx, best_fold_idx, device, all_car_dict, ind_odd_dicts, model_dir='models', epochs=5):\n",
    "    print(f\"\\n==> Retraining Brand{brand_idx} on full data from Fold{best_fold_idx} best model\")\n",
    "\n",
    "    d = ind_odd_dicts[brand_idx]\n",
    "    ind_cars = [c for c in d['ind_sorted'] if c in all_car_dict]\n",
    "    ood_cars = [c for c in d['ood_sorted'] if c in all_car_dict]\n",
    "    all_cars = ind_cars + ood_cars\n",
    "\n",
    "    full_train_files = sum([all_car_dict[c] for c in all_cars], [])\n",
    "    tr_ld, _ = get_dataloaders(full_train_files, full_train_files, num_workers=0)\n",
    "\n",
    "    # 모델 불러오기\n",
    "    best_model_path = f\"{model_dir}/brand{brand_idx}/brand{brand_idx}_fold{best_fold_idx}_best.pth\"\n",
    "    model = LSTMCls(in_feat=8).to(device)\n",
    "    model.load_state_dict(torch.load(best_model_path, map_location=device))\n",
    "\n",
    "    optimizer = torch.optim.Adam(model.parameters(), lr=1e-3)\n",
    "    criterion = nn.CrossEntropyLoss()\n",
    "\n",
    "    for epoch in tqdm(range(1, epochs + 1), desc=f\"brand {brand_idx} training \", leave = False):\n",
    "        model.train()\n",
    "        total_loss = 0\n",
    "        correct = total = 0\n",
    "        for x, lengths, y in tr_ld:\n",
    "            x, lengths, y = x.to(device), lengths.to(device), y.to(device)\n",
    "            optimizer.zero_grad()\n",
    "            out = model(x, lengths)\n",
    "            loss = criterion(out, y)\n",
    "            loss.backward()\n",
    "            optimizer.step()\n",
    "            total_loss += loss.item()\n",
    "            pred = out.argmax(dim=1)\n",
    "            correct += (pred == y).sum().item()\n",
    "            total += y.size(0)\n",
    "        print(f\"[Brand{brand_idx}-FULL] Epoch{epoch:02d}: loss={total_loss/len(tr_ld):.4f} acc={correct/total:.4f}\")\n",
    "\n",
    "    save_path = f\"{model_dir}/brand{brand_idx}/brand{brand_idx}_final_full_model.pth\"\n",
    "    torch.save(model.state_dict(), save_path)\n",
    "    print(f\"=> Saved full retrained model to {save_path}\")\n"
   ]
  },
  {
   "cell_type": "code",
   "execution_count": 45,
   "id": "90d06851",
   "metadata": {},
   "outputs": [
    {
     "name": "stdout",
     "output_type": "stream",
     "text": [
      "\n",
      "==> Retraining Brand1 on full data from Fold5 best model\n"
     ]
    },
    {
     "name": "stderr",
     "output_type": "stream",
     "text": [
      "brand 1 training :  20%|██        | 1/5 [02:49<11:19, 169.83s/it]"
     ]
    },
    {
     "name": "stdout",
     "output_type": "stream",
     "text": [
      "[Brand1-FULL] Epoch01: loss=0.1518 acc=0.9643\n"
     ]
    },
    {
     "name": "stderr",
     "output_type": "stream",
     "text": [
      "brand 1 training :  40%|████      | 2/5 [05:11<07:39, 153.29s/it]"
     ]
    },
    {
     "name": "stdout",
     "output_type": "stream",
     "text": [
      "[Brand1-FULL] Epoch02: loss=0.1509 acc=0.9643\n"
     ]
    },
    {
     "name": "stderr",
     "output_type": "stream",
     "text": [
      "brand 1 training :  60%|██████    | 3/5 [07:29<04:52, 146.27s/it]"
     ]
    },
    {
     "name": "stdout",
     "output_type": "stream",
     "text": [
      "[Brand1-FULL] Epoch03: loss=0.1506 acc=0.9643\n"
     ]
    },
    {
     "name": "stderr",
     "output_type": "stream",
     "text": [
      "brand 1 training :  80%|████████  | 4/5 [09:47<02:22, 142.97s/it]"
     ]
    },
    {
     "name": "stdout",
     "output_type": "stream",
     "text": [
      "[Brand1-FULL] Epoch04: loss=0.1503 acc=0.9643\n"
     ]
    },
    {
     "name": "stderr",
     "output_type": "stream",
     "text": [
      "                                                                 \r"
     ]
    },
    {
     "name": "stdout",
     "output_type": "stream",
     "text": [
      "[Brand1-FULL] Epoch05: loss=0.1503 acc=0.9643\n",
      "=> Saved full retrained model to models/brand1/brand1_final_full_model.pth\n",
      "\n",
      "==> Retraining Brand2 on full data from Fold4 best model\n"
     ]
    },
    {
     "name": "stderr",
     "output_type": "stream",
     "text": [
      "brand 2 training :  20%|██        | 1/5 [01:58<07:54, 118.52s/it]"
     ]
    },
    {
     "name": "stdout",
     "output_type": "stream",
     "text": [
      "[Brand2-FULL] Epoch01: loss=0.5473 acc=0.7223\n"
     ]
    },
    {
     "name": "stderr",
     "output_type": "stream",
     "text": [
      "brand 2 training :  40%|████      | 2/5 [03:47<05:38, 112.83s/it]"
     ]
    },
    {
     "name": "stdout",
     "output_type": "stream",
     "text": [
      "[Brand2-FULL] Epoch02: loss=0.5316 acc=0.7322\n"
     ]
    },
    {
     "name": "stderr",
     "output_type": "stream",
     "text": [
      "brand 2 training :  60%|██████    | 3/5 [05:35<03:41, 110.74s/it]"
     ]
    },
    {
     "name": "stdout",
     "output_type": "stream",
     "text": [
      "[Brand2-FULL] Epoch03: loss=0.5198 acc=0.7391\n"
     ]
    },
    {
     "name": "stderr",
     "output_type": "stream",
     "text": [
      "brand 2 training :  80%|████████  | 4/5 [07:25<01:50, 110.21s/it]"
     ]
    },
    {
     "name": "stdout",
     "output_type": "stream",
     "text": [
      "[Brand2-FULL] Epoch04: loss=0.5108 acc=0.7443\n"
     ]
    },
    {
     "name": "stderr",
     "output_type": "stream",
     "text": [
      "                                                                 \r"
     ]
    },
    {
     "name": "stdout",
     "output_type": "stream",
     "text": [
      "[Brand2-FULL] Epoch05: loss=0.5028 acc=0.7496\n",
      "=> Saved full retrained model to models/brand2/brand2_final_full_model.pth\n",
      "\n",
      "==> Retraining Brand3 on full data from Fold3 best model\n"
     ]
    },
    {
     "name": "stderr",
     "output_type": "stream",
     "text": [
      "brand 3 training :  20%|██        | 1/5 [00:08<00:33,  8.28s/it]"
     ]
    },
    {
     "name": "stdout",
     "output_type": "stream",
     "text": [
      "[Brand3-FULL] Epoch01: loss=0.1538 acc=0.9484\n"
     ]
    },
    {
     "name": "stderr",
     "output_type": "stream",
     "text": [
      "brand 3 training :  40%|████      | 2/5 [00:16<00:25,  8.53s/it]"
     ]
    },
    {
     "name": "stdout",
     "output_type": "stream",
     "text": [
      "[Brand3-FULL] Epoch02: loss=0.1693 acc=0.9472\n"
     ]
    },
    {
     "name": "stderr",
     "output_type": "stream",
     "text": [
      "brand 3 training :  60%|██████    | 3/5 [00:25<00:17,  8.69s/it]"
     ]
    },
    {
     "name": "stdout",
     "output_type": "stream",
     "text": [
      "[Brand3-FULL] Epoch03: loss=0.1804 acc=0.9487\n"
     ]
    },
    {
     "name": "stderr",
     "output_type": "stream",
     "text": [
      "brand 3 training :  80%|████████  | 4/5 [00:33<00:08,  8.41s/it]"
     ]
    },
    {
     "name": "stdout",
     "output_type": "stream",
     "text": [
      "[Brand3-FULL] Epoch04: loss=0.1673 acc=0.9482\n"
     ]
    },
    {
     "name": "stderr",
     "output_type": "stream",
     "text": [
      "                                                                "
     ]
    },
    {
     "name": "stdout",
     "output_type": "stream",
     "text": [
      "[Brand3-FULL] Epoch05: loss=0.1627 acc=0.9485\n",
      "=> Saved full retrained model to models/brand3/brand3_final_full_model.pth\n"
     ]
    },
    {
     "name": "stderr",
     "output_type": "stream",
     "text": [
      "\r"
     ]
    }
   ],
   "source": [
    "for b in (1, 2, 3):\n",
    "    retrain_from_model_path(\n",
    "        brand_idx=b,\n",
    "        best_fold_idx=best_folds[b],\n",
    "        device=device,\n",
    "        all_car_dict=all_car_dict,\n",
    "        ind_odd_dicts=ind_odd_dicts,\n",
    "        model_dir='models',\n",
    "        epochs=5\n",
    "    )"
   ]
  },
  {
   "cell_type": "code",
   "execution_count": 46,
   "id": "1c606bfb",
   "metadata": {},
   "outputs": [
    {
     "name": "stdout",
     "output_type": "stream",
     "text": [
      "\n",
      "==> Retraining Brand2 on full data from Fold4 best model\n"
     ]
    },
    {
     "name": "stderr",
     "output_type": "stream",
     "text": [
      "brand 2 training :   5%|▌         | 1/20 [01:50<34:52, 110.12s/it]"
     ]
    },
    {
     "name": "stdout",
     "output_type": "stream",
     "text": [
      "[Brand2-FULL] Epoch01: loss=0.5481 acc=0.7227\n"
     ]
    },
    {
     "name": "stderr",
     "output_type": "stream",
     "text": [
      "brand 2 training :  10%|█         | 2/20 [03:39<32:57, 109.88s/it]"
     ]
    },
    {
     "name": "stdout",
     "output_type": "stream",
     "text": [
      "[Brand2-FULL] Epoch02: loss=0.5333 acc=0.7307\n"
     ]
    },
    {
     "name": "stderr",
     "output_type": "stream",
     "text": [
      "brand 2 training :  15%|█▌        | 3/20 [05:32<31:30, 111.21s/it]"
     ]
    },
    {
     "name": "stdout",
     "output_type": "stream",
     "text": [
      "[Brand2-FULL] Epoch03: loss=0.5197 acc=0.7398\n"
     ]
    },
    {
     "name": "stderr",
     "output_type": "stream",
     "text": [
      "brand 2 training :  20%|██        | 4/20 [07:22<29:33, 110.83s/it]"
     ]
    },
    {
     "name": "stdout",
     "output_type": "stream",
     "text": [
      "[Brand2-FULL] Epoch04: loss=0.5130 acc=0.7435\n"
     ]
    },
    {
     "name": "stderr",
     "output_type": "stream",
     "text": [
      "brand 2 training :  25%|██▌       | 5/20 [09:13<27:40, 110.68s/it]"
     ]
    },
    {
     "name": "stdout",
     "output_type": "stream",
     "text": [
      "[Brand2-FULL] Epoch05: loss=0.5028 acc=0.7488\n"
     ]
    },
    {
     "name": "stderr",
     "output_type": "stream",
     "text": [
      "brand 2 training :  30%|███       | 6/20 [11:01<25:36, 109.78s/it]"
     ]
    },
    {
     "name": "stdout",
     "output_type": "stream",
     "text": [
      "[Brand2-FULL] Epoch06: loss=0.4949 acc=0.7531\n"
     ]
    },
    {
     "name": "stderr",
     "output_type": "stream",
     "text": [
      "brand 2 training :  35%|███▌      | 7/20 [12:48<23:36, 108.93s/it]"
     ]
    },
    {
     "name": "stdout",
     "output_type": "stream",
     "text": [
      "[Brand2-FULL] Epoch07: loss=0.4790 acc=0.7629\n"
     ]
    },
    {
     "name": "stderr",
     "output_type": "stream",
     "text": [
      "                                                                  "
     ]
    },
    {
     "name": "stdout",
     "output_type": "stream",
     "text": [
      "Unexpected exception formatting exception. Falling back to standard exception\n"
     ]
    },
    {
     "name": "stderr",
     "output_type": "stream",
     "text": [
      "Traceback (most recent call last):\n",
      "  File \"/opt/conda/lib/python3.10/site-packages/IPython/core/interactiveshell.py\", line 3526, in run_code\n",
      "    exec(code_obj, self.user_global_ns, self.user_ns)\n",
      "  File \"/tmp/ipykernel_2974047/120446467.py\", line 1, in <module>\n",
      "    retrain_from_model_path(\n",
      "  File \"/tmp/ipykernel_2974047/1073536034.py\", line 24, in retrain_from_model_path\n",
      "    for x, lengths, y in tr_ld:\n",
      "  File \"/opt/conda/lib/python3.10/site-packages/torch/utils/data/dataloader.py\", line 733, in __next__\n",
      "    class _SingleProcessDataLoaderIter(_BaseDataLoaderIter):\n",
      "  File \"/opt/conda/lib/python3.10/site-packages/torch/utils/data/dataloader.py\", line 789, in _next_data\n",
      "    #\n",
      "  File \"/opt/conda/lib/python3.10/site-packages/torch/utils/data/_utils/fetch.py\", line 52, in fetch\n",
      "    data = [self.dataset[idx] for idx in possibly_batched_index]\n",
      "  File \"/opt/conda/lib/python3.10/site-packages/torch/utils/data/_utils/fetch.py\", line 52, in <listcomp>\n",
      "    data = [self.dataset[idx] for idx in possibly_batched_index]\n",
      "  File \"/tmp/ipykernel_2974047/232865323.py\", line 7, in __getitem__\n",
      "    snippet, meta = torch.load(self.files[i], map_location='cpu',weights_only=False)\n",
      "  File \"/opt/conda/lib/python3.10/site-packages/torch/serialization.py\", line 1525, in load\n",
      "    # skip next 4 bytes; legacy encoding treated ndim as 8 bytes\n",
      "  File \"/opt/conda/lib/python3.10/site-packages/torch/serialization.py\", line 2117, in _load\n",
      "  File \"/opt/conda/lib/python3.10/site-packages/torch/_utils.py\", line 310, in _validate_loaded_sparse_tensors\n",
      "    torch.sparse_csc,\n",
      "KeyboardInterrupt\n",
      "\n",
      "During handling of the above exception, another exception occurred:\n",
      "\n",
      "Traceback (most recent call last):\n",
      "  File \"/opt/conda/lib/python3.10/site-packages/IPython/core/interactiveshell.py\", line 2120, in showtraceback\n",
      "    stb = self.InteractiveTB.structured_traceback(\n",
      "  File \"/opt/conda/lib/python3.10/site-packages/IPython/core/ultratb.py\", line 1435, in structured_traceback\n",
      "    return FormattedTB.structured_traceback(\n",
      "  File \"/opt/conda/lib/python3.10/site-packages/IPython/core/ultratb.py\", line 1326, in structured_traceback\n",
      "    return VerboseTB.structured_traceback(\n",
      "  File \"/opt/conda/lib/python3.10/site-packages/IPython/core/ultratb.py\", line 1173, in structured_traceback\n",
      "    formatted_exception = self.format_exception_as_a_whole(etype, evalue, etb, number_of_lines_of_context,\n",
      "  File \"/opt/conda/lib/python3.10/site-packages/IPython/core/ultratb.py\", line 1088, in format_exception_as_a_whole\n",
      "    frames.append(self.format_record(record))\n",
      "  File \"/opt/conda/lib/python3.10/site-packages/IPython/core/ultratb.py\", line 970, in format_record\n",
      "    frame_info.lines, Colors, self.has_colors, lvals\n",
      "  File \"/opt/conda/lib/python3.10/site-packages/IPython/core/ultratb.py\", line 792, in lines\n",
      "    return self._sd.lines\n",
      "  File \"/opt/conda/lib/python3.10/site-packages/stack_data/utils.py\", line 145, in cached_property_wrapper\n",
      "    value = obj.__dict__[self.func.__name__] = self.func(obj)\n",
      "  File \"/opt/conda/lib/python3.10/site-packages/stack_data/core.py\", line 698, in lines\n",
      "    pieces = self.included_pieces\n",
      "  File \"/opt/conda/lib/python3.10/site-packages/stack_data/utils.py\", line 145, in cached_property_wrapper\n",
      "    value = obj.__dict__[self.func.__name__] = self.func(obj)\n",
      "  File \"/opt/conda/lib/python3.10/site-packages/stack_data/core.py\", line 649, in included_pieces\n",
      "    pos = scope_pieces.index(self.executing_piece)\n",
      "  File \"/opt/conda/lib/python3.10/site-packages/stack_data/utils.py\", line 145, in cached_property_wrapper\n",
      "    value = obj.__dict__[self.func.__name__] = self.func(obj)\n",
      "  File \"/opt/conda/lib/python3.10/site-packages/stack_data/core.py\", line 628, in executing_piece\n",
      "    return only(\n",
      "  File \"/opt/conda/lib/python3.10/site-packages/executing/executing.py\", line 164, in only\n",
      "    raise NotOneValueFound('Expected one value, found 0')\n",
      "executing.executing.NotOneValueFound: Expected one value, found 0\n"
     ]
    }
   ],
   "source": [
    "retrain_from_model_path(\n",
    "        brand_idx=2,\n",
    "        best_fold_idx=best_folds[2],\n",
    "        device=device,\n",
    "        all_car_dict=all_car_dict,\n",
    "        ind_odd_dicts=ind_odd_dicts,\n",
    "        model_dir='models',\n",
    "        epochs=20\n",
    "    )"
   ]
  },
  {
   "cell_type": "code",
   "execution_count": null,
   "id": "d0bb3ffb",
   "metadata": {},
   "outputs": [],
   "source": [
    "class LSTMforBrand2(nn.Module):\n",
    "    def __init__(self, in_feat, hidden=128, layers=3, num_cls=2, dropout=0.3):\n",
    "        super().__init__()\n",
    "        self.lstm = nn.LSTM(\n",
    "            input_size=in_feat,\n",
    "            hidden_size=hidden,\n",
    "            num_layers=layers,\n",
    "            batch_first=True,\n",
    "            dropout=dropout if layers > 1 else 0.0  # PyTorch 제한\n",
    "        )\n",
    "        self.fc = nn.Linear(hidden, num_cls)\n",
    "    \n",
    "    def forward(self, x, lengths):\n",
    "        packed = rnn_utils.pack_padded_sequence(x, lengths.cpu(), batch_first=True, enforce_sorted=False)\n",
    "        _, (h_n, _) = self.lstm(packed)\n",
    "        h_last = h_n[-1]\n",
    "        return self.fc(h_last)"
   ]
  },
  {
   "cell_type": "code",
   "execution_count": 63,
   "id": "25aca064",
   "metadata": {},
   "outputs": [],
   "source": [
    "def retrain_brand2_with_upgraded_model(device, all_car_dict, ind_odd_dicts,\n",
    "                                       model_dir='models', epochs=20, lr=1e-4):\n",
    "    brand_idx = 2\n",
    "    print(f\"\\n==> Retraining Brand{brand_idx} with upgraded model from scratch\")\n",
    "    save_dir = os.path.join(model_dir, 'brand2')\n",
    "    os.makedirs(save_dir, exist_ok=True)\n",
    "    save_path = os.path.join(save_dir, 'brand2_final_full_model_v2.pth')\n",
    "\n",
    "    \n",
    "    # 1. 전체 차량 수집\n",
    "    d = ind_odd_dicts[brand_idx]\n",
    "    ind_cars = [c for c in d['ind_sorted'] if c in all_car_dict]\n",
    "    ood_cars = [c for c in d['ood_sorted'] if c in all_car_dict]\n",
    "    all_cars = ind_cars + ood_cars\n",
    "\n",
    "    full_train_files = sum([all_car_dict[c] for c in all_cars], [])\n",
    "    tr_ld, _ = get_dataloaders(full_train_files, full_train_files, num_workers=0)\n",
    "\n",
    "    # 2. 모델 정의 (새 구조)\n",
    "    model = LSTMforBrand2(in_feat=8, hidden=128, layers=3, dropout=0.3).to(device)\n",
    "    optimizer = torch.optim.Adam(model.parameters(), lr=lr)\n",
    "    scheduler = torch.optim.lr_scheduler.ReduceLROnPlateau(optimizer, mode='min', factor=0.5, patience=2)\n",
    "    criterion = nn.CrossEntropyLoss()\n",
    "    \n",
    "    if os.path.exists(save_path):\n",
    "        print(f\"==> Loading existing model from {save_path}\")\n",
    "        checkpoint = torch.load(save_path, map_location=device)\n",
    "        model.load_state_dict(checkpoint)    \n",
    "    \n",
    "    # 3. 학습 루프\n",
    "    for epoch in tqdm(range(1, epochs + 1)):\n",
    "        model.train()\n",
    "        total_loss = 0\n",
    "        correct = total = 0\n",
    "        for x, lengths, y in tr_ld:\n",
    "            x, lengths, y = x.to(device), lengths.to(device), y.to(device)\n",
    "            optimizer.zero_grad()\n",
    "            out = model(x, lengths)\n",
    "            loss = criterion(out, y)\n",
    "            loss.backward()\n",
    "            optimizer.step()\n",
    "            total_loss += loss.item()\n",
    "            pred = out.argmax(dim=1)\n",
    "            correct += (pred == y).sum().item()\n",
    "            total += y.size(0)\n",
    "        acc = correct / total\n",
    "        avg_loss = total_loss / len(tr_ld)\n",
    "        print(f\"[Brand2-FULL v2] Epoch{epoch:02d}: loss={avg_loss:.4f} acc={acc:.4f}\")\n",
    "        scheduler.step(avg_loss)\n",
    "\n",
    "    # 4. 저장\n",
    "    torch.save(model.state_dict(), save_path)\n",
    "    print(f\"=> Saved upgraded full model to {save_path}\")\n",
    "\n"
   ]
  },
  {
   "cell_type": "code",
   "execution_count": 49,
   "id": "274020ed",
   "metadata": {},
   "outputs": [
    {
     "name": "stdout",
     "output_type": "stream",
     "text": [
      "\n",
      "==> Retraining Brand2 with upgraded model from scratch\n"
     ]
    },
    {
     "name": "stderr",
     "output_type": "stream",
     "text": [
      "  5%|▌         | 1/20 [01:55<36:30, 115.27s/it]"
     ]
    },
    {
     "name": "stdout",
     "output_type": "stream",
     "text": [
      "[Brand2-FULL v2] Epoch01: loss=0.5740 acc=0.7033\n"
     ]
    },
    {
     "name": "stderr",
     "output_type": "stream",
     "text": [
      " 10%|█         | 2/20 [03:51<34:43, 115.78s/it]"
     ]
    },
    {
     "name": "stdout",
     "output_type": "stream",
     "text": [
      "[Brand2-FULL v2] Epoch02: loss=0.5462 acc=0.7227\n"
     ]
    },
    {
     "name": "stderr",
     "output_type": "stream",
     "text": [
      " 15%|█▌        | 3/20 [05:47<32:50, 115.92s/it]"
     ]
    },
    {
     "name": "stdout",
     "output_type": "stream",
     "text": [
      "[Brand2-FULL v2] Epoch03: loss=0.5350 acc=0.7290\n"
     ]
    },
    {
     "name": "stderr",
     "output_type": "stream",
     "text": [
      " 20%|██        | 4/20 [07:41<30:40, 115.02s/it]"
     ]
    },
    {
     "name": "stdout",
     "output_type": "stream",
     "text": [
      "[Brand2-FULL v2] Epoch04: loss=0.5250 acc=0.7355\n"
     ]
    },
    {
     "name": "stderr",
     "output_type": "stream",
     "text": [
      " 25%|██▌       | 5/20 [09:35<28:39, 114.61s/it]"
     ]
    },
    {
     "name": "stdout",
     "output_type": "stream",
     "text": [
      "[Brand2-FULL v2] Epoch05: loss=0.5165 acc=0.7404\n"
     ]
    },
    {
     "name": "stderr",
     "output_type": "stream",
     "text": [
      " 30%|███       | 6/20 [11:32<26:58, 115.60s/it]"
     ]
    },
    {
     "name": "stdout",
     "output_type": "stream",
     "text": [
      "[Brand2-FULL v2] Epoch06: loss=0.5067 acc=0.7462\n"
     ]
    },
    {
     "name": "stderr",
     "output_type": "stream",
     "text": [
      " 35%|███▌      | 7/20 [13:28<25:06, 115.86s/it]"
     ]
    },
    {
     "name": "stdout",
     "output_type": "stream",
     "text": [
      "[Brand2-FULL v2] Epoch07: loss=0.4992 acc=0.7509\n"
     ]
    },
    {
     "name": "stderr",
     "output_type": "stream",
     "text": [
      " 40%|████      | 8/20 [15:29<23:26, 117.24s/it]"
     ]
    },
    {
     "name": "stdout",
     "output_type": "stream",
     "text": [
      "[Brand2-FULL v2] Epoch08: loss=0.4918 acc=0.7553\n"
     ]
    },
    {
     "name": "stderr",
     "output_type": "stream",
     "text": [
      " 45%|████▌     | 9/20 [17:24<21:24, 116.80s/it]"
     ]
    },
    {
     "name": "stdout",
     "output_type": "stream",
     "text": [
      "[Brand2-FULL v2] Epoch09: loss=0.4861 acc=0.7583\n"
     ]
    },
    {
     "name": "stderr",
     "output_type": "stream",
     "text": [
      " 50%|█████     | 10/20 [19:20<19:23, 116.32s/it]"
     ]
    },
    {
     "name": "stdout",
     "output_type": "stream",
     "text": [
      "[Brand2-FULL v2] Epoch10: loss=0.4804 acc=0.7616\n"
     ]
    },
    {
     "name": "stderr",
     "output_type": "stream",
     "text": [
      " 55%|█████▌    | 11/20 [21:15<17:23, 115.95s/it]"
     ]
    },
    {
     "name": "stdout",
     "output_type": "stream",
     "text": [
      "[Brand2-FULL v2] Epoch11: loss=0.4751 acc=0.7647\n"
     ]
    },
    {
     "name": "stderr",
     "output_type": "stream",
     "text": [
      " 60%|██████    | 12/20 [23:10<15:26, 115.80s/it]"
     ]
    },
    {
     "name": "stdout",
     "output_type": "stream",
     "text": [
      "[Brand2-FULL v2] Epoch12: loss=0.4688 acc=0.7680\n"
     ]
    },
    {
     "name": "stderr",
     "output_type": "stream",
     "text": [
      " 65%|██████▌   | 13/20 [25:05<13:27, 115.35s/it]"
     ]
    },
    {
     "name": "stdout",
     "output_type": "stream",
     "text": [
      "[Brand2-FULL v2] Epoch13: loss=0.4588 acc=0.7739\n"
     ]
    },
    {
     "name": "stderr",
     "output_type": "stream",
     "text": [
      " 70%|███████   | 14/20 [26:58<11:29, 114.84s/it]"
     ]
    },
    {
     "name": "stdout",
     "output_type": "stream",
     "text": [
      "[Brand2-FULL v2] Epoch14: loss=0.4446 acc=0.7811\n"
     ]
    },
    {
     "name": "stderr",
     "output_type": "stream",
     "text": [
      " 75%|███████▌  | 15/20 [28:56<09:38, 115.61s/it]"
     ]
    },
    {
     "name": "stdout",
     "output_type": "stream",
     "text": [
      "[Brand2-FULL v2] Epoch15: loss=0.4281 acc=0.7890\n"
     ]
    },
    {
     "name": "stderr",
     "output_type": "stream",
     "text": [
      " 80%|████████  | 16/20 [30:50<07:41, 115.38s/it]"
     ]
    },
    {
     "name": "stdout",
     "output_type": "stream",
     "text": [
      "[Brand2-FULL v2] Epoch16: loss=0.4175 acc=0.7939\n"
     ]
    },
    {
     "name": "stderr",
     "output_type": "stream",
     "text": [
      " 85%|████████▌ | 17/20 [32:46<05:45, 115.30s/it]"
     ]
    },
    {
     "name": "stdout",
     "output_type": "stream",
     "text": [
      "[Brand2-FULL v2] Epoch17: loss=0.4187 acc=0.7938\n"
     ]
    },
    {
     "name": "stderr",
     "output_type": "stream",
     "text": [
      " 90%|█████████ | 18/20 [34:40<03:50, 115.07s/it]"
     ]
    },
    {
     "name": "stdout",
     "output_type": "stream",
     "text": [
      "[Brand2-FULL v2] Epoch18: loss=0.4120 acc=0.7987\n"
     ]
    },
    {
     "name": "stderr",
     "output_type": "stream",
     "text": [
      " 95%|█████████▌| 19/20 [36:38<01:55, 115.87s/it]"
     ]
    },
    {
     "name": "stdout",
     "output_type": "stream",
     "text": [
      "[Brand2-FULL v2] Epoch19: loss=0.3983 acc=0.8054\n"
     ]
    },
    {
     "name": "stderr",
     "output_type": "stream",
     "text": [
      "100%|██████████| 20/20 [38:37<00:00, 115.86s/it]"
     ]
    },
    {
     "name": "stdout",
     "output_type": "stream",
     "text": [
      "[Brand2-FULL v2] Epoch20: loss=0.3919 acc=0.8093\n",
      "=> Saved upgraded full model to models/brand2/brand2_final_full_model_v2.pth\n"
     ]
    },
    {
     "name": "stderr",
     "output_type": "stream",
     "text": [
      "\n"
     ]
    }
   ],
   "source": [
    "retrain_brand2_with_upgraded_model(\n",
    "    device=device,\n",
    "    all_car_dict=all_car_dict,\n",
    "    ind_odd_dicts=ind_odd_dicts,\n",
    "    model_dir='models',\n",
    "    epochs=20,\n",
    "    lr=1e-4\n",
    ")"
   ]
  },
  {
   "cell_type": "code",
   "execution_count": 64,
   "id": "e1582b32",
   "metadata": {},
   "outputs": [
    {
     "name": "stdout",
     "output_type": "stream",
     "text": [
      "\n",
      "==> Retraining Brand2 with upgraded model from scratch\n",
      "==> Loading existing model from models/brand2/brand2_final_full_model_v2.pth\n"
     ]
    },
    {
     "name": "stderr",
     "output_type": "stream",
     "text": [
      "  5%|▌         | 1/20 [01:57<37:17, 117.75s/it]"
     ]
    },
    {
     "name": "stdout",
     "output_type": "stream",
     "text": [
      "[Brand2-FULL v2] Epoch01: loss=0.3808 acc=0.8160\n"
     ]
    },
    {
     "name": "stderr",
     "output_type": "stream",
     "text": [
      " 10%|█         | 2/20 [03:54<35:06, 117.00s/it]"
     ]
    },
    {
     "name": "stdout",
     "output_type": "stream",
     "text": [
      "[Brand2-FULL v2] Epoch02: loss=0.3696 acc=0.8233\n"
     ]
    },
    {
     "name": "stderr",
     "output_type": "stream",
     "text": [
      " 15%|█▌        | 3/20 [05:48<32:49, 115.85s/it]"
     ]
    },
    {
     "name": "stdout",
     "output_type": "stream",
     "text": [
      "[Brand2-FULL v2] Epoch03: loss=0.3615 acc=0.8274\n"
     ]
    },
    {
     "name": "stderr",
     "output_type": "stream",
     "text": [
      " 20%|██        | 4/20 [07:42<30:40, 115.04s/it]"
     ]
    },
    {
     "name": "stdout",
     "output_type": "stream",
     "text": [
      "[Brand2-FULL v2] Epoch04: loss=0.3625 acc=0.8264\n"
     ]
    },
    {
     "name": "stderr",
     "output_type": "stream",
     "text": [
      " 25%|██▌       | 5/20 [09:35<28:34, 114.30s/it]"
     ]
    },
    {
     "name": "stdout",
     "output_type": "stream",
     "text": [
      "[Brand2-FULL v2] Epoch05: loss=0.3540 acc=0.8325\n"
     ]
    },
    {
     "name": "stderr",
     "output_type": "stream",
     "text": [
      " 30%|███       | 6/20 [11:28<26:36, 114.01s/it]"
     ]
    },
    {
     "name": "stdout",
     "output_type": "stream",
     "text": [
      "[Brand2-FULL v2] Epoch06: loss=0.3418 acc=0.8400\n"
     ]
    },
    {
     "name": "stderr",
     "output_type": "stream",
     "text": [
      " 35%|███▌      | 7/20 [13:22<24:39, 113.83s/it]"
     ]
    },
    {
     "name": "stdout",
     "output_type": "stream",
     "text": [
      "[Brand2-FULL v2] Epoch07: loss=0.3300 acc=0.8481\n"
     ]
    },
    {
     "name": "stderr",
     "output_type": "stream",
     "text": [
      " 40%|████      | 8/20 [15:14<22:41, 113.44s/it]"
     ]
    },
    {
     "name": "stdout",
     "output_type": "stream",
     "text": [
      "[Brand2-FULL v2] Epoch08: loss=0.3435 acc=0.8378\n"
     ]
    },
    {
     "name": "stderr",
     "output_type": "stream",
     "text": [
      " 45%|████▌     | 9/20 [17:10<20:55, 114.12s/it]"
     ]
    },
    {
     "name": "stdout",
     "output_type": "stream",
     "text": [
      "[Brand2-FULL v2] Epoch09: loss=0.3319 acc=0.8454\n"
     ]
    },
    {
     "name": "stderr",
     "output_type": "stream",
     "text": [
      " 50%|█████     | 10/20 [19:06<19:06, 114.63s/it]"
     ]
    },
    {
     "name": "stdout",
     "output_type": "stream",
     "text": [
      "[Brand2-FULL v2] Epoch10: loss=0.3242 acc=0.8507\n"
     ]
    },
    {
     "name": "stderr",
     "output_type": "stream",
     "text": [
      " 55%|█████▌    | 11/20 [21:01<17:12, 114.77s/it]"
     ]
    },
    {
     "name": "stdout",
     "output_type": "stream",
     "text": [
      "[Brand2-FULL v2] Epoch11: loss=0.3133 acc=0.8573\n"
     ]
    },
    {
     "name": "stderr",
     "output_type": "stream",
     "text": [
      " 60%|██████    | 12/20 [22:54<15:14, 114.36s/it]"
     ]
    },
    {
     "name": "stdout",
     "output_type": "stream",
     "text": [
      "[Brand2-FULL v2] Epoch12: loss=0.3128 acc=0.8574\n"
     ]
    },
    {
     "name": "stderr",
     "output_type": "stream",
     "text": [
      " 65%|██████▌   | 13/20 [24:47<13:17, 113.86s/it]"
     ]
    },
    {
     "name": "stdout",
     "output_type": "stream",
     "text": [
      "[Brand2-FULL v2] Epoch13: loss=0.3040 acc=0.8626\n"
     ]
    },
    {
     "name": "stderr",
     "output_type": "stream",
     "text": [
      " 70%|███████   | 14/20 [26:43<11:26, 114.37s/it]"
     ]
    },
    {
     "name": "stdout",
     "output_type": "stream",
     "text": [
      "[Brand2-FULL v2] Epoch14: loss=0.3026 acc=0.8631\n"
     ]
    },
    {
     "name": "stderr",
     "output_type": "stream",
     "text": [
      " 75%|███████▌  | 15/20 [28:38<09:32, 114.59s/it]"
     ]
    },
    {
     "name": "stdout",
     "output_type": "stream",
     "text": [
      "[Brand2-FULL v2] Epoch15: loss=0.3057 acc=0.8606\n"
     ]
    },
    {
     "name": "stderr",
     "output_type": "stream",
     "text": [
      " 80%|████████  | 16/20 [30:32<07:38, 114.56s/it]"
     ]
    },
    {
     "name": "stdout",
     "output_type": "stream",
     "text": [
      "[Brand2-FULL v2] Epoch16: loss=0.2948 acc=0.8670\n"
     ]
    },
    {
     "name": "stderr",
     "output_type": "stream",
     "text": [
      " 85%|████████▌ | 17/20 [32:26<05:43, 114.47s/it]"
     ]
    },
    {
     "name": "stdout",
     "output_type": "stream",
     "text": [
      "[Brand2-FULL v2] Epoch17: loss=0.2964 acc=0.8661\n"
     ]
    },
    {
     "name": "stderr",
     "output_type": "stream",
     "text": [
      " 90%|█████████ | 18/20 [34:21<03:49, 114.56s/it]"
     ]
    },
    {
     "name": "stdout",
     "output_type": "stream",
     "text": [
      "[Brand2-FULL v2] Epoch18: loss=0.2963 acc=0.8656\n"
     ]
    },
    {
     "name": "stderr",
     "output_type": "stream",
     "text": [
      " 95%|█████████▌| 19/20 [36:15<01:54, 114.19s/it]"
     ]
    },
    {
     "name": "stdout",
     "output_type": "stream",
     "text": [
      "[Brand2-FULL v2] Epoch19: loss=0.2937 acc=0.8673\n"
     ]
    },
    {
     "name": "stderr",
     "output_type": "stream",
     "text": [
      "100%|██████████| 20/20 [38:09<00:00, 114.48s/it]"
     ]
    },
    {
     "name": "stdout",
     "output_type": "stream",
     "text": [
      "[Brand2-FULL v2] Epoch20: loss=0.2852 acc=0.8718\n",
      "=> Saved upgraded full model to models/brand2/brand2_final_full_model_v2.pth\n"
     ]
    },
    {
     "name": "stderr",
     "output_type": "stream",
     "text": [
      "\n"
     ]
    }
   ],
   "source": [
    "retrain_brand2_with_upgraded_model(\n",
    "    device=device,\n",
    "    all_car_dict=all_car_dict,\n",
    "    ind_odd_dicts=ind_odd_dicts,\n",
    "    model_dir='models',\n",
    "    epochs=20,\n",
    "    lr=1e-4\n",
    ")"
   ]
  },
  {
   "cell_type": "code",
   "execution_count": 65,
   "id": "1ac510d6",
   "metadata": {},
   "outputs": [
    {
     "name": "stdout",
     "output_type": "stream",
     "text": [
      "\n",
      "==> Retraining Brand2 with upgraded model from scratch\n",
      "==> Loading existing model from models/brand2/brand2_final_full_model_v2.pth\n"
     ]
    },
    {
     "name": "stderr",
     "output_type": "stream",
     "text": [
      "  5%|▌         | 1/20 [01:57<37:04, 117.08s/it]"
     ]
    },
    {
     "name": "stdout",
     "output_type": "stream",
     "text": [
      "[Brand2-FULL v2] Epoch01: loss=0.2949 acc=0.8664\n"
     ]
    },
    {
     "name": "stderr",
     "output_type": "stream",
     "text": [
      " 10%|█         | 2/20 [03:53<34:59, 116.66s/it]"
     ]
    },
    {
     "name": "stdout",
     "output_type": "stream",
     "text": [
      "[Brand2-FULL v2] Epoch02: loss=0.2866 acc=0.8710\n"
     ]
    },
    {
     "name": "stderr",
     "output_type": "stream",
     "text": [
      " 15%|█▌        | 3/20 [05:52<33:24, 117.89s/it]"
     ]
    },
    {
     "name": "stdout",
     "output_type": "stream",
     "text": [
      "[Brand2-FULL v2] Epoch03: loss=0.2866 acc=0.8704\n"
     ]
    },
    {
     "name": "stderr",
     "output_type": "stream",
     "text": [
      " 20%|██        | 4/20 [07:45<30:53, 115.82s/it]"
     ]
    },
    {
     "name": "stdout",
     "output_type": "stream",
     "text": [
      "[Brand2-FULL v2] Epoch04: loss=0.2855 acc=0.8709\n"
     ]
    },
    {
     "name": "stderr",
     "output_type": "stream",
     "text": [
      " 25%|██▌       | 5/20 [09:37<28:38, 114.58s/it]"
     ]
    },
    {
     "name": "stdout",
     "output_type": "stream",
     "text": [
      "[Brand2-FULL v2] Epoch05: loss=0.2834 acc=0.8722\n"
     ]
    },
    {
     "name": "stderr",
     "output_type": "stream",
     "text": [
      " 30%|███       | 6/20 [11:30<26:37, 114.09s/it]"
     ]
    },
    {
     "name": "stdout",
     "output_type": "stream",
     "text": [
      "[Brand2-FULL v2] Epoch06: loss=0.2788 acc=0.8746\n"
     ]
    },
    {
     "name": "stderr",
     "output_type": "stream",
     "text": [
      " 35%|███▌      | 7/20 [13:23<24:36, 113.54s/it]"
     ]
    },
    {
     "name": "stdout",
     "output_type": "stream",
     "text": [
      "[Brand2-FULL v2] Epoch07: loss=0.2780 acc=0.8755\n"
     ]
    },
    {
     "name": "stderr",
     "output_type": "stream",
     "text": [
      " 40%|████      | 8/20 [15:16<22:40, 113.39s/it]"
     ]
    },
    {
     "name": "stdout",
     "output_type": "stream",
     "text": [
      "[Brand2-FULL v2] Epoch08: loss=0.2792 acc=0.8746\n"
     ]
    },
    {
     "name": "stderr",
     "output_type": "stream",
     "text": [
      " 45%|████▌     | 9/20 [17:10<20:48, 113.54s/it]"
     ]
    },
    {
     "name": "stdout",
     "output_type": "stream",
     "text": [
      "[Brand2-FULL v2] Epoch09: loss=0.2723 acc=0.8781\n"
     ]
    },
    {
     "name": "stderr",
     "output_type": "stream",
     "text": [
      " 50%|█████     | 10/20 [19:01<18:48, 112.84s/it]"
     ]
    },
    {
     "name": "stdout",
     "output_type": "stream",
     "text": [
      "[Brand2-FULL v2] Epoch10: loss=0.2725 acc=0.8778\n"
     ]
    },
    {
     "name": "stderr",
     "output_type": "stream",
     "text": [
      " 55%|█████▌    | 11/20 [20:54<16:55, 112.80s/it]"
     ]
    },
    {
     "name": "stdout",
     "output_type": "stream",
     "text": [
      "[Brand2-FULL v2] Epoch11: loss=0.2728 acc=0.8777\n"
     ]
    },
    {
     "name": "stderr",
     "output_type": "stream",
     "text": [
      " 55%|█████▌    | 11/20 [22:41<18:33, 123.74s/it]"
     ]
    },
    {
     "name": "stdout",
     "output_type": "stream",
     "text": [
      "Unexpected exception formatting exception. Falling back to standard exception\n"
     ]
    },
    {
     "name": "stderr",
     "output_type": "stream",
     "text": [
      "\n",
      "Traceback (most recent call last):\n",
      "  File \"/opt/conda/lib/python3.10/site-packages/IPython/core/interactiveshell.py\", line 3526, in run_code\n",
      "    exec(code_obj, self.user_global_ns, self.user_ns)\n",
      "  File \"/tmp/ipykernel_2974047/1082556059.py\", line 1, in <module>\n",
      "    retrain_brand2_with_upgraded_model(\n",
      "  File \"/tmp/ipykernel_2974047/730374303.py\", line 35, in retrain_brand2_with_upgraded_model\n",
      "    for x, lengths, y in tr_ld:\n",
      "  File \"/opt/conda/lib/python3.10/site-packages/torch/utils/data/dataloader.py\", line 733, in __next__\n",
      "    class _SingleProcessDataLoaderIter(_BaseDataLoaderIter):\n",
      "  File \"/opt/conda/lib/python3.10/site-packages/torch/utils/data/dataloader.py\", line 789, in _next_data\n",
      "    #\n",
      "  File \"/opt/conda/lib/python3.10/site-packages/torch/utils/data/_utils/fetch.py\", line 52, in fetch\n",
      "    data = [self.dataset[idx] for idx in possibly_batched_index]\n",
      "  File \"/opt/conda/lib/python3.10/site-packages/torch/utils/data/_utils/fetch.py\", line 52, in <listcomp>\n",
      "    data = [self.dataset[idx] for idx in possibly_batched_index]\n",
      "  File \"/tmp/ipykernel_2974047/232865323.py\", line 7, in __getitem__\n",
      "    snippet, meta = torch.load(self.files[i], map_location='cpu',weights_only=False)\n",
      "  File \"/opt/conda/lib/python3.10/site-packages/torch/serialization.py\", line 1525, in load\n",
      "    # skip next 4 bytes; legacy encoding treated ndim as 8 bytes\n",
      "  File \"/opt/conda/lib/python3.10/site-packages/torch/serialization.py\", line 1909, in _load\n",
      "  File \"/opt/conda/lib/python3.10/site-packages/torch/serialization.py\", line 150, in get_default_load_endianness\n",
      "    return _default_load_endian\n",
      "  File \"/opt/conda/lib/python3.10/site-packages/torch/utils/_config_module.py\", line 774, in __getattr__\n",
      "KeyboardInterrupt\n",
      "\n",
      "During handling of the above exception, another exception occurred:\n",
      "\n",
      "Traceback (most recent call last):\n",
      "  File \"/opt/conda/lib/python3.10/site-packages/IPython/core/interactiveshell.py\", line 2120, in showtraceback\n",
      "    stb = self.InteractiveTB.structured_traceback(\n",
      "  File \"/opt/conda/lib/python3.10/site-packages/IPython/core/ultratb.py\", line 1435, in structured_traceback\n",
      "    return FormattedTB.structured_traceback(\n",
      "  File \"/opt/conda/lib/python3.10/site-packages/IPython/core/ultratb.py\", line 1326, in structured_traceback\n",
      "    return VerboseTB.structured_traceback(\n",
      "  File \"/opt/conda/lib/python3.10/site-packages/IPython/core/ultratb.py\", line 1173, in structured_traceback\n",
      "    formatted_exception = self.format_exception_as_a_whole(etype, evalue, etb, number_of_lines_of_context,\n",
      "  File \"/opt/conda/lib/python3.10/site-packages/IPython/core/ultratb.py\", line 1088, in format_exception_as_a_whole\n",
      "    frames.append(self.format_record(record))\n",
      "  File \"/opt/conda/lib/python3.10/site-packages/IPython/core/ultratb.py\", line 970, in format_record\n",
      "    frame_info.lines, Colors, self.has_colors, lvals\n",
      "  File \"/opt/conda/lib/python3.10/site-packages/IPython/core/ultratb.py\", line 792, in lines\n",
      "    return self._sd.lines\n",
      "  File \"/opt/conda/lib/python3.10/site-packages/stack_data/utils.py\", line 145, in cached_property_wrapper\n",
      "    value = obj.__dict__[self.func.__name__] = self.func(obj)\n",
      "  File \"/opt/conda/lib/python3.10/site-packages/stack_data/core.py\", line 698, in lines\n",
      "    pieces = self.included_pieces\n",
      "  File \"/opt/conda/lib/python3.10/site-packages/stack_data/utils.py\", line 145, in cached_property_wrapper\n",
      "    value = obj.__dict__[self.func.__name__] = self.func(obj)\n",
      "  File \"/opt/conda/lib/python3.10/site-packages/stack_data/core.py\", line 649, in included_pieces\n",
      "    pos = scope_pieces.index(self.executing_piece)\n",
      "  File \"/opt/conda/lib/python3.10/site-packages/stack_data/utils.py\", line 145, in cached_property_wrapper\n",
      "    value = obj.__dict__[self.func.__name__] = self.func(obj)\n",
      "  File \"/opt/conda/lib/python3.10/site-packages/stack_data/core.py\", line 628, in executing_piece\n",
      "    return only(\n",
      "  File \"/opt/conda/lib/python3.10/site-packages/executing/executing.py\", line 164, in only\n",
      "    raise NotOneValueFound('Expected one value, found 0')\n",
      "executing.executing.NotOneValueFound: Expected one value, found 0\n"
     ]
    }
   ],
   "source": [
    "retrain_brand2_with_upgraded_model(\n",
    "    device=device,\n",
    "    all_car_dict=all_car_dict,\n",
    "    ind_odd_dicts=ind_odd_dicts,\n",
    "    model_dir='models',\n",
    "    epochs=20,\n",
    "    lr=1e-4\n",
    ")"
   ]
  },
  {
   "cell_type": "code",
   "execution_count": 59,
   "id": "cf268c0f",
   "metadata": {},
   "outputs": [],
   "source": [
    "def evaluate_final_model_on_test(brand_idx, device, all_car_dict, ind_odd_dicts,\n",
    "                                  base_dir='dataset', model_dir='models', model_name=None):\n",
    "    print(f\"\\n📊 Evaluating Brand{brand_idx} on test set\")\n",
    "\n",
    "    # 모델 경로 결정\n",
    "    if model_name is not None:\n",
    "        model_path = os.path.join(model_dir, f'brand{brand_idx}', model_name)\n",
    "    elif os.path.isfile(os.path.join(model_dir, f'brand{brand_idx}', f'brand{brand_idx}_final_full_model.pth')):\n",
    "        model_path = os.path.join(model_dir, f'brand{brand_idx}', f'brand{brand_idx}_final_full_model.pth')\n",
    "    else:\n",
    "        model_path = os.path.join(model_dir, f'brand{brand_idx}', f'brand{brand_idx}_final_full_model_v2.pth')\n",
    "\n",
    "    if not os.path.isfile(model_path):\n",
    "        print(f\"⚠️ 모델 파일 없음: {model_path}\")\n",
    "        return None\n",
    "\n",
    "    # 브랜드별로 적절한 모델 인스턴스 선택\n",
    "    if brand_idx == 2:\n",
    "        model = LSTMforBrand2(in_feat=8, hidden=128, layers=3, dropout=0.3).to(device)\n",
    "    else:\n",
    "        model = LSTMCls(in_feat=8, hidden=64, layers=2).to(device)\n",
    "\n",
    "    # 모델 로드\n",
    "    model.load_state_dict(torch.load(model_path, map_location=device))\n",
    "    model.eval()\n",
    "\n",
    "    # test set 로드\n",
    "    _, test_files = get_brand_file_lists(brand_idx, base_dir)\n",
    "    if not test_files:\n",
    "        print(f\"⚠️ Brand{brand_idx} has no test set!\")\n",
    "        return\n",
    "\n",
    "    test_ds = BatteryDS(test_files)\n",
    "    test_loader = DataLoader(test_ds, batch_size=128, shuffle=False,\n",
    "                            collate_fn=collate_fn, pin_memory=True, num_workers=0)\n",
    "\n",
    "    # 평가\n",
    "    correct = total = 0\n",
    "    with torch.no_grad():\n",
    "        for x, lengths, y in test_loader:\n",
    "            x, lengths, y = x.to(device), lengths.to(device), y.to(device)\n",
    "            pred = model(x, lengths).argmax(dim=1)\n",
    "            correct += (pred == y).sum().item()\n",
    "            total += y.size(0)\n",
    "    acc = correct / total\n",
    "    print(f\"✅ Brand{brand_idx} Final Test Accuracy: {acc:.4f}\")\n",
    "    return acc\n"
   ]
  },
  {
   "cell_type": "code",
   "execution_count": 58,
   "id": "01f403d9",
   "metadata": {},
   "outputs": [
    {
     "data": {
      "text/plain": [
       "'/root/Deep_learning_Project/Battery_model/Nature23_battery_model/five_fold_utils'"
      ]
     },
     "execution_count": 58,
     "metadata": {},
     "output_type": "execute_result"
    }
   ],
   "source": [
    "base"
   ]
  },
  {
   "cell_type": "code",
   "execution_count": 61,
   "id": "430898eb",
   "metadata": {},
   "outputs": [
    {
     "name": "stdout",
     "output_type": "stream",
     "text": [
      "\n",
      "📊 Evaluating Brand1 on test set\n",
      "⚠️ Brand1 has no test set!\n",
      "\n",
      "📊 Evaluating Brand2 on test set\n"
     ]
    },
    {
     "ename": "RuntimeError",
     "evalue": "Error(s) in loading state_dict for LSTMforBrand2:\n\tMissing key(s) in state_dict: \"lstm.weight_ih_l2\", \"lstm.weight_hh_l2\", \"lstm.bias_ih_l2\", \"lstm.bias_hh_l2\". \n\tsize mismatch for lstm.weight_ih_l0: copying a param with shape torch.Size([256, 8]) from checkpoint, the shape in current model is torch.Size([512, 8]).\n\tsize mismatch for lstm.weight_hh_l0: copying a param with shape torch.Size([256, 64]) from checkpoint, the shape in current model is torch.Size([512, 128]).\n\tsize mismatch for lstm.bias_ih_l0: copying a param with shape torch.Size([256]) from checkpoint, the shape in current model is torch.Size([512]).\n\tsize mismatch for lstm.bias_hh_l0: copying a param with shape torch.Size([256]) from checkpoint, the shape in current model is torch.Size([512]).\n\tsize mismatch for lstm.weight_ih_l1: copying a param with shape torch.Size([256, 64]) from checkpoint, the shape in current model is torch.Size([512, 128]).\n\tsize mismatch for lstm.weight_hh_l1: copying a param with shape torch.Size([256, 64]) from checkpoint, the shape in current model is torch.Size([512, 128]).\n\tsize mismatch for lstm.bias_ih_l1: copying a param with shape torch.Size([256]) from checkpoint, the shape in current model is torch.Size([512]).\n\tsize mismatch for lstm.bias_hh_l1: copying a param with shape torch.Size([256]) from checkpoint, the shape in current model is torch.Size([512]).\n\tsize mismatch for fc.weight: copying a param with shape torch.Size([2, 64]) from checkpoint, the shape in current model is torch.Size([2, 128]).",
     "output_type": "error",
     "traceback": [
      "\u001b[0;31m---------------------------------------------------------------------------\u001b[0m",
      "\u001b[0;31mRuntimeError\u001b[0m                              Traceback (most recent call last)",
      "Cell \u001b[0;32mIn[61], line 5\u001b[0m\n\u001b[1;32m      3\u001b[0m \u001b[38;5;66;03m# model_name 파라미터 생략하면 기본 이름으로 로드\u001b[39;00m\n\u001b[1;32m      4\u001b[0m \u001b[38;5;28;01mfor\u001b[39;00m b \u001b[38;5;129;01min\u001b[39;00m (\u001b[38;5;241m1\u001b[39m, \u001b[38;5;241m2\u001b[39m, \u001b[38;5;241m3\u001b[39m):\n\u001b[0;32m----> 5\u001b[0m     \u001b[43mevaluate_final_model_on_test\u001b[49m\u001b[43m(\u001b[49m\n\u001b[1;32m      6\u001b[0m \u001b[43m        \u001b[49m\u001b[43mbrand_idx\u001b[49m\u001b[38;5;241;43m=\u001b[39;49m\u001b[43mb\u001b[49m\u001b[43m,\u001b[49m\n\u001b[1;32m      7\u001b[0m \u001b[43m        \u001b[49m\u001b[43mdevice\u001b[49m\u001b[38;5;241;43m=\u001b[39;49m\u001b[43mdevice\u001b[49m\u001b[43m,\u001b[49m\n\u001b[1;32m      8\u001b[0m \u001b[43m        \u001b[49m\u001b[43mall_car_dict\u001b[49m\u001b[38;5;241;43m=\u001b[39;49m\u001b[43mall_car_dict\u001b[49m\u001b[43m,\u001b[49m\n\u001b[1;32m      9\u001b[0m \u001b[43m        \u001b[49m\u001b[43mind_odd_dicts\u001b[49m\u001b[38;5;241;43m=\u001b[39;49m\u001b[43mind_odd_dicts\u001b[49m\u001b[43m,\u001b[49m\n\u001b[1;32m     10\u001b[0m \u001b[43m        \u001b[49m\u001b[43mbase_dir\u001b[49m\u001b[38;5;241;43m=\u001b[39;49m\u001b[43mbase\u001b[49m\u001b[43m,\u001b[49m\n\u001b[1;32m     11\u001b[0m \u001b[43m        \u001b[49m\u001b[43mmodel_dir\u001b[49m\u001b[38;5;241;43m=\u001b[39;49m\u001b[38;5;124;43m'\u001b[39;49m\u001b[38;5;124;43mmodels\u001b[39;49m\u001b[38;5;124;43m'\u001b[39;49m\n\u001b[1;32m     12\u001b[0m \u001b[43m    \u001b[49m\u001b[43m)\u001b[49m\n",
      "Cell \u001b[0;32mIn[59], line 24\u001b[0m, in \u001b[0;36mevaluate_final_model_on_test\u001b[0;34m(brand_idx, device, all_car_dict, ind_odd_dicts, base_dir, model_dir, model_name)\u001b[0m\n\u001b[1;32m     21\u001b[0m     model \u001b[38;5;241m=\u001b[39m LSTMCls(in_feat\u001b[38;5;241m=\u001b[39m\u001b[38;5;241m8\u001b[39m, hidden\u001b[38;5;241m=\u001b[39m\u001b[38;5;241m64\u001b[39m, layers\u001b[38;5;241m=\u001b[39m\u001b[38;5;241m2\u001b[39m)\u001b[38;5;241m.\u001b[39mto(device)\n\u001b[1;32m     23\u001b[0m \u001b[38;5;66;03m# 모델 로드\u001b[39;00m\n\u001b[0;32m---> 24\u001b[0m \u001b[43mmodel\u001b[49m\u001b[38;5;241;43m.\u001b[39;49m\u001b[43mload_state_dict\u001b[49m\u001b[43m(\u001b[49m\u001b[43mtorch\u001b[49m\u001b[38;5;241;43m.\u001b[39;49m\u001b[43mload\u001b[49m\u001b[43m(\u001b[49m\u001b[43mmodel_path\u001b[49m\u001b[43m,\u001b[49m\u001b[43m \u001b[49m\u001b[43mmap_location\u001b[49m\u001b[38;5;241;43m=\u001b[39;49m\u001b[43mdevice\u001b[49m\u001b[43m)\u001b[49m\u001b[43m)\u001b[49m\n\u001b[1;32m     25\u001b[0m model\u001b[38;5;241m.\u001b[39meval()\n\u001b[1;32m     27\u001b[0m \u001b[38;5;66;03m# test set 로드\u001b[39;00m\n",
      "File \u001b[0;32m/opt/conda/lib/python3.10/site-packages/torch/nn/modules/module.py:2593\u001b[0m, in \u001b[0;36mload_state_dict\u001b[0;34m(self, state_dict, strict, assign)\u001b[0m\n\u001b[1;32m   2584\u001b[0m         raise RuntimeError(\n\u001b[1;32m   2585\u001b[0m             \"Error(s) in loading state_dict for {}:\\n\\t{}\".format(\n\u001b[1;32m   2586\u001b[0m                 self.__class__.__name__, \"\\n\\t\".join(error_msgs)\n\u001b[1;32m   2587\u001b[0m             )\n\u001b[1;32m   2588\u001b[0m         )\n\u001b[1;32m   2589\u001b[0m     return _IncompatibleKeys(missing_keys, unexpected_keys)\n\u001b[1;32m   2591\u001b[0m def _named_members(\n\u001b[1;32m   2592\u001b[0m     self, get_members_fn, prefix=\"\", recurse=True, remove_duplicate: bool = True\n\u001b[0;32m-> 2593\u001b[0m ):\n\u001b[1;32m   2594\u001b[0m     r\"\"\"Help yield various names + members of modules.\"\"\"\n\u001b[1;32m   2595\u001b[0m     memo = set()\n",
      "\u001b[0;31mRuntimeError\u001b[0m: Error(s) in loading state_dict for LSTMforBrand2:\n\tMissing key(s) in state_dict: \"lstm.weight_ih_l2\", \"lstm.weight_hh_l2\", \"lstm.bias_ih_l2\", \"lstm.bias_hh_l2\". \n\tsize mismatch for lstm.weight_ih_l0: copying a param with shape torch.Size([256, 8]) from checkpoint, the shape in current model is torch.Size([512, 8]).\n\tsize mismatch for lstm.weight_hh_l0: copying a param with shape torch.Size([256, 64]) from checkpoint, the shape in current model is torch.Size([512, 128]).\n\tsize mismatch for lstm.bias_ih_l0: copying a param with shape torch.Size([256]) from checkpoint, the shape in current model is torch.Size([512]).\n\tsize mismatch for lstm.bias_hh_l0: copying a param with shape torch.Size([256]) from checkpoint, the shape in current model is torch.Size([512]).\n\tsize mismatch for lstm.weight_ih_l1: copying a param with shape torch.Size([256, 64]) from checkpoint, the shape in current model is torch.Size([512, 128]).\n\tsize mismatch for lstm.weight_hh_l1: copying a param with shape torch.Size([256, 64]) from checkpoint, the shape in current model is torch.Size([512, 128]).\n\tsize mismatch for lstm.bias_ih_l1: copying a param with shape torch.Size([256]) from checkpoint, the shape in current model is torch.Size([512]).\n\tsize mismatch for lstm.bias_hh_l1: copying a param with shape torch.Size([256]) from checkpoint, the shape in current model is torch.Size([512]).\n\tsize mismatch for fc.weight: copying a param with shape torch.Size([2, 64]) from checkpoint, the shape in current model is torch.Size([2, 128])."
     ]
    }
   ],
   "source": [
    "device = torch.device('cuda' if torch.cuda.is_available() else 'cpu')\n",
    "\n",
    "# model_name 파라미터 생략하면 기본 이름으로 로드\n",
    "for b in (1, 2, 3):\n",
    "    evaluate_final_model_on_test(\n",
    "        brand_idx=b,\n",
    "        device=device,\n",
    "        all_car_dict=all_car_dict,\n",
    "        ind_odd_dicts=ind_odd_dicts,\n",
    "        base_dir=base,\n",
    "        model_dir='models'\n",
    "    )\n"
   ]
  },
  {
   "cell_type": "code",
   "execution_count": 68,
   "id": "8d991d15",
   "metadata": {},
   "outputs": [],
   "source": [
    "best_folds = {\n",
    "    1: 5,  # Brand1 Fold5 acc=0.9863\n",
    "    2: 4,  # Brand2 Fold4 acc=0.8974\n",
    "    3: 3   # Brand3 Fold3 acc=0.9522\n",
    "}"
   ]
  },
  {
   "cell_type": "code",
   "execution_count": 84,
   "id": "4260f725",
   "metadata": {},
   "outputs": [],
   "source": [
    "import numpy as np\n",
    "from sklearn.metrics import f1_score, confusion_matrix, ConfusionMatrixDisplay, classification_report\n",
    "import matplotlib.pyplot as plt"
   ]
  },
  {
   "cell_type": "code",
   "execution_count": 85,
   "id": "74ebdc79",
   "metadata": {},
   "outputs": [
    {
     "name": "stdout",
     "output_type": "stream",
     "text": [
      "F1 Score: 0.46745824287802934\n"
     ]
    },
    {
     "data": {
      "image/png": "[encoded data removed]",
      "text/plain": [
       "<Figure size 640x480 with 2 Axes>"
      ]
     },
     "metadata": {},
     "output_type": "display_data"
    },
    {
     "name": "stdout",
     "output_type": "stream",
     "text": [
      "\n",
      "Classification Report:\n",
      "              precision    recall  f1-score   support\n",
      "\n",
      "      Normal       0.88      1.00      0.93     52755\n",
      "    Abnormal       0.00      0.00      0.00      7345\n",
      "\n",
      "    accuracy                           0.88     60100\n",
      "   macro avg       0.44      0.50      0.47     60100\n",
      "weighted avg       0.77      0.88      0.82     60100\n",
      "\n"
     ]
    },
    {
     "name": "stderr",
     "output_type": "stream",
     "text": [
      "/opt/conda/lib/python3.10/site-packages/sklearn/metrics/_classification.py:1565: UndefinedMetricWarning: Precision is ill-defined and being set to 0.0 in labels with no predicted samples. Use `zero_division` parameter to control this behavior.\n",
      "  _warn_prf(average, modifier, f\"{metric.capitalize()} is\", len(result))\n",
      "/opt/conda/lib/python3.10/site-packages/sklearn/metrics/_classification.py:1565: UndefinedMetricWarning: Precision is ill-defined and being set to 0.0 in labels with no predicted samples. Use `zero_division` parameter to control this behavior.\n",
      "  _warn_prf(average, modifier, f\"{metric.capitalize()} is\", len(result))\n",
      "/opt/conda/lib/python3.10/site-packages/sklearn/metrics/_classification.py:1565: UndefinedMetricWarning: Precision is ill-defined and being set to 0.0 in labels with no predicted samples. Use `zero_division` parameter to control this behavior.\n",
      "  _warn_prf(average, modifier, f\"{metric.capitalize()} is\", len(result))\n"
     ]
    }
   ],
   "source": [
    "device = torch.device('cuda' if torch.cuda.is_available() else 'cpu')\n",
    "model = LSTMCls(in_feat=8, hidden=64, layers=2, num_cls=2).to(device)\n",
    "model.load_state_dict(torch.load('./models/brand1/brand1_fold5_best.pth', map_location=device))\n",
    "\n",
    "# 3. 테스트 데이터 로드\n",
    "test_pkl_files = glob('./dataset/battery_brand1/test/*.pkl')\n",
    "\n",
    "X_list, y_list, lengths = [], [], []\n",
    "\n",
    "for path in test_pkl_files:\n",
    "    x, meta = torch.load(path, weights_only=False)\n",
    "    label = int(meta['label'])  # 예: '00' → 0, '01' → 1\n",
    "\n",
    "    X_tensor = torch.tensor(x, dtype=torch.float)\n",
    "    X_list.append(X_tensor)\n",
    "    y_list.append(label)\n",
    "    lengths.append(len(X_tensor))\n",
    "\n",
    "# 패딩 처리\n",
    "X_padded = pad_sequence(X_list, batch_first=True)\n",
    "lengths = torch.tensor(lengths)\n",
    "y_true = torch.tensor(y_list)\n",
    "\n",
    "# 모델 예측\n",
    "with torch.no_grad():\n",
    "    model.eval()\n",
    "    outputs = model(X_padded.to(device), lengths.to(device))\n",
    "    preds = torch.argmax(outputs, dim=1).cpu()\n",
    "\n",
    "\n",
    "# 6. 평가 및 시각화\n",
    "print(\"F1 Score:\", f1_score(y_true, preds, average='macro'))\n",
    "\n",
    "cm = confusion_matrix(y_true, preds)\n",
    "ConfusionMatrixDisplay(confusion_matrix=cm).plot(cmap='Blues')\n",
    "plt.title(\"Confusion Matrix\")\n",
    "plt.show()\n",
    "\n",
    "print(\"\\nClassification Report:\")\n",
    "print(classification_report(y_true, preds, target_names=['Normal', 'Abnormal']))"
   ]
  },
  {
   "cell_type": "code",
   "execution_count": 86,
   "id": "a1bf81d9",
   "metadata": {},
   "outputs": [
    {
     "name": "stdout",
     "output_type": "stream",
     "text": [
      "F1 Score: 0.26688655464265726\n"
     ]
    },
    {
     "data": {
      "image/png": "[encoded data removed]",
      "text/plain": [
       "<Figure size 640x480 with 2 Axes>"
      ]
     },
     "metadata": {},
     "output_type": "display_data"
    },
    {
     "name": "stdout",
     "output_type": "stream",
     "text": [
      "\n",
      "Classification Report:\n"
     ]
    },
    {
     "ename": "ValueError",
     "evalue": "Number of classes, 3, does not match size of target_names, 2. Try specifying the labels parameter",
     "output_type": "error",
     "traceback": [
      "\u001b[0;31m---------------------------------------------------------------------------\u001b[0m",
      "\u001b[0;31mValueError\u001b[0m                                Traceback (most recent call last)",
      "Cell \u001b[0;32mIn[86], line 40\u001b[0m\n\u001b[1;32m     37\u001b[0m plt\u001b[38;5;241m.\u001b[39mshow()\n\u001b[1;32m     39\u001b[0m \u001b[38;5;28mprint\u001b[39m(\u001b[38;5;124m\"\u001b[39m\u001b[38;5;130;01m\\n\u001b[39;00m\u001b[38;5;124mClassification Report:\u001b[39m\u001b[38;5;124m\"\u001b[39m)\n\u001b[0;32m---> 40\u001b[0m \u001b[38;5;28mprint\u001b[39m(\u001b[43mclassification_report\u001b[49m\u001b[43m(\u001b[49m\u001b[43my_true\u001b[49m\u001b[43m,\u001b[49m\u001b[43m \u001b[49m\u001b[43mpreds\u001b[49m\u001b[43m,\u001b[49m\u001b[43m \u001b[49m\u001b[43mtarget_names\u001b[49m\u001b[38;5;241;43m=\u001b[39;49m\u001b[43m[\u001b[49m\u001b[38;5;124;43m'\u001b[39;49m\u001b[38;5;124;43mNormal\u001b[39;49m\u001b[38;5;124;43m'\u001b[39;49m\u001b[43m,\u001b[49m\u001b[43m \u001b[49m\u001b[38;5;124;43m'\u001b[39;49m\u001b[38;5;124;43mAbnormal\u001b[39;49m\u001b[38;5;124;43m'\u001b[39;49m\u001b[43m]\u001b[49m\u001b[43m)\u001b[49m)\n",
      "File \u001b[0;32m/opt/conda/lib/python3.10/site-packages/sklearn/utils/_param_validation.py:216\u001b[0m, in \u001b[0;36mvalidate_params.<locals>.decorator.<locals>.wrapper\u001b[0;34m(*args, **kwargs)\u001b[0m\n\u001b[1;32m    210\u001b[0m \u001b[38;5;28;01mtry\u001b[39;00m:\n\u001b[1;32m    211\u001b[0m     \u001b[38;5;28;01mwith\u001b[39;00m config_context(\n\u001b[1;32m    212\u001b[0m         skip_parameter_validation\u001b[38;5;241m=\u001b[39m(\n\u001b[1;32m    213\u001b[0m             prefer_skip_nested_validation \u001b[38;5;129;01mor\u001b[39;00m global_skip_validation\n\u001b[1;32m    214\u001b[0m         )\n\u001b[1;32m    215\u001b[0m     ):\n\u001b[0;32m--> 216\u001b[0m         \u001b[38;5;28;01mreturn\u001b[39;00m \u001b[43mfunc\u001b[49m\u001b[43m(\u001b[49m\u001b[38;5;241;43m*\u001b[39;49m\u001b[43margs\u001b[49m\u001b[43m,\u001b[49m\u001b[43m \u001b[49m\u001b[38;5;241;43m*\u001b[39;49m\u001b[38;5;241;43m*\u001b[39;49m\u001b[43mkwargs\u001b[49m\u001b[43m)\u001b[49m\n\u001b[1;32m    217\u001b[0m \u001b[38;5;28;01mexcept\u001b[39;00m InvalidParameterError \u001b[38;5;28;01mas\u001b[39;00m e:\n\u001b[1;32m    218\u001b[0m     \u001b[38;5;66;03m# When the function is just a wrapper around an estimator, we allow\u001b[39;00m\n\u001b[1;32m    219\u001b[0m     \u001b[38;5;66;03m# the function to delegate validation to the estimator, but we replace\u001b[39;00m\n\u001b[1;32m    220\u001b[0m     \u001b[38;5;66;03m# the name of the estimator by the name of the function in the error\u001b[39;00m\n\u001b[1;32m    221\u001b[0m     \u001b[38;5;66;03m# message to avoid confusion.\u001b[39;00m\n\u001b[1;32m    222\u001b[0m     msg \u001b[38;5;241m=\u001b[39m re\u001b[38;5;241m.\u001b[39msub(\n\u001b[1;32m    223\u001b[0m         \u001b[38;5;124mr\u001b[39m\u001b[38;5;124m\"\u001b[39m\u001b[38;5;124mparameter of \u001b[39m\u001b[38;5;124m\\\u001b[39m\u001b[38;5;124mw+ must be\u001b[39m\u001b[38;5;124m\"\u001b[39m,\n\u001b[1;32m    224\u001b[0m         \u001b[38;5;124mf\u001b[39m\u001b[38;5;124m\"\u001b[39m\u001b[38;5;124mparameter of \u001b[39m\u001b[38;5;132;01m{\u001b[39;00mfunc\u001b[38;5;241m.\u001b[39m\u001b[38;5;18m__qualname__\u001b[39m\u001b[38;5;132;01m}\u001b[39;00m\u001b[38;5;124m must be\u001b[39m\u001b[38;5;124m\"\u001b[39m,\n\u001b[1;32m    225\u001b[0m         \u001b[38;5;28mstr\u001b[39m(e),\n\u001b[1;32m    226\u001b[0m     )\n",
      "File \u001b[0;32m/opt/conda/lib/python3.10/site-packages/sklearn/metrics/_classification.py:2693\u001b[0m, in \u001b[0;36mclassification_report\u001b[0;34m(y_true, y_pred, labels, target_names, sample_weight, digits, output_dict, zero_division)\u001b[0m\n\u001b[1;32m   2687\u001b[0m         warnings\u001b[38;5;241m.\u001b[39mwarn(\n\u001b[1;32m   2688\u001b[0m             \u001b[38;5;124m\"\u001b[39m\u001b[38;5;124mlabels size, \u001b[39m\u001b[38;5;132;01m{0}\u001b[39;00m\u001b[38;5;124m, does not match size of target_names, \u001b[39m\u001b[38;5;132;01m{1}\u001b[39;00m\u001b[38;5;124m\"\u001b[39m\u001b[38;5;241m.\u001b[39mformat(\n\u001b[1;32m   2689\u001b[0m                 \u001b[38;5;28mlen\u001b[39m(labels), \u001b[38;5;28mlen\u001b[39m(target_names)\n\u001b[1;32m   2690\u001b[0m             )\n\u001b[1;32m   2691\u001b[0m         )\n\u001b[1;32m   2692\u001b[0m     \u001b[38;5;28;01melse\u001b[39;00m:\n\u001b[0;32m-> 2693\u001b[0m         \u001b[38;5;28;01mraise\u001b[39;00m \u001b[38;5;167;01mValueError\u001b[39;00m(\n\u001b[1;32m   2694\u001b[0m             \u001b[38;5;124m\"\u001b[39m\u001b[38;5;124mNumber of classes, \u001b[39m\u001b[38;5;132;01m{0}\u001b[39;00m\u001b[38;5;124m, does not match size of \u001b[39m\u001b[38;5;124m\"\u001b[39m\n\u001b[1;32m   2695\u001b[0m             \u001b[38;5;124m\"\u001b[39m\u001b[38;5;124mtarget_names, \u001b[39m\u001b[38;5;132;01m{1}\u001b[39;00m\u001b[38;5;124m. Try specifying the labels \u001b[39m\u001b[38;5;124m\"\u001b[39m\n\u001b[1;32m   2696\u001b[0m             \u001b[38;5;124m\"\u001b[39m\u001b[38;5;124mparameter\u001b[39m\u001b[38;5;124m\"\u001b[39m\u001b[38;5;241m.\u001b[39mformat(\u001b[38;5;28mlen\u001b[39m(labels), \u001b[38;5;28mlen\u001b[39m(target_names))\n\u001b[1;32m   2697\u001b[0m         )\n\u001b[1;32m   2698\u001b[0m \u001b[38;5;28;01mif\u001b[39;00m target_names \u001b[38;5;129;01mis\u001b[39;00m \u001b[38;5;28;01mNone\u001b[39;00m:\n\u001b[1;32m   2699\u001b[0m     target_names \u001b[38;5;241m=\u001b[39m [\u001b[38;5;124m\"\u001b[39m\u001b[38;5;132;01m%s\u001b[39;00m\u001b[38;5;124m\"\u001b[39m \u001b[38;5;241m%\u001b[39m l \u001b[38;5;28;01mfor\u001b[39;00m l \u001b[38;5;129;01min\u001b[39;00m labels]\n",
      "\u001b[0;31mValueError\u001b[0m: Number of classes, 3, does not match size of target_names, 2. Try specifying the labels parameter"
     ]
    }
   ],
   "source": [
    "device = torch.device('cuda' if torch.cuda.is_available() else 'cpu')\n",
    "model = LSTMCls(in_feat=8, hidden=128, layers=3, num_cls=2).to(device)\n",
    "model.load_state_dict(torch.load('./models/brand2/brand2_final_full_model_v2.pth', map_location=device))\n",
    "\n",
    "# 3. 테스트 데이터 로드\n",
    "test_pkl_files = glob('./dataset/battery_brand2/test/*.pkl')\n",
    "\n",
    "X_list, y_list, lengths = [], [], []\n",
    "\n",
    "for path in test_pkl_files:\n",
    "    x, meta = torch.load(path, weights_only=False)\n",
    "    label = int(meta['label'])  # 예: '00' → 0, '01' → 1\n",
    "\n",
    "    X_tensor = torch.tensor(x, dtype=torch.float)\n",
    "    X_list.append(X_tensor)\n",
    "    y_list.append(label)\n",
    "    lengths.append(len(X_tensor))\n",
    "\n",
    "# 패딩 처리\n",
    "X_padded = pad_sequence(X_list, batch_first=True)\n",
    "lengths = torch.tensor(lengths)\n",
    "y_true = torch.tensor(y_list)\n",
    "\n",
    "# 모델 예측\n",
    "with torch.no_grad():\n",
    "    model.eval()\n",
    "    outputs = model(X_padded.to(device), lengths.to(device))\n",
    "    preds = torch.argmax(outputs, dim=1).cpu()\n",
    "\n",
    "\n",
    "# 6. 평가 및 시각화\n",
    "print(\"F1 Score:\", f1_score(y_true, preds, average='macro'))\n",
    "\n",
    "cm = confusion_matrix(y_true, preds)\n",
    "ConfusionMatrixDisplay(confusion_matrix=cm).plot(cmap='Blues')\n",
    "plt.title(\"Confusion Matrix\")\n",
    "plt.show()\n",
    "\n",
    "print(\"\\nClassification Report:\")\n",
    "print(classification_report(y_true, preds, target_names=['Normal', 'Abnormal']))"
   ]
  },
  {
   "cell_type": "code",
   "execution_count": 87,
   "id": "331db5c7",
   "metadata": {},
   "outputs": [
    {
     "name": "stdout",
     "output_type": "stream",
     "text": [
      "Total files: 29598 | Train: 23678 | Test: 5920\n",
      "F1 Score: 0.20770384540138687\n"
     ]
    },
    {
     "data": {
      "image/png": "[encoded data removed]",
      "text/plain": [
       "<Figure size 640x480 with 2 Axes>"
      ]
     },
     "metadata": {},
     "output_type": "display_data"
    },
    {
     "name": "stdout",
     "output_type": "stream",
     "text": [
      "\n",
      "Classification Report:\n"
     ]
    },
    {
     "ename": "ValueError",
     "evalue": "Number of classes, 3, does not match size of target_names, 2. Try specifying the labels parameter",
     "output_type": "error",
     "traceback": [
      "\u001b[0;31m---------------------------------------------------------------------------\u001b[0m",
      "\u001b[0;31mValueError\u001b[0m                                Traceback (most recent call last)",
      "Cell \u001b[0;32mIn[87], line 53\u001b[0m\n\u001b[1;32m     50\u001b[0m plt\u001b[38;5;241m.\u001b[39mshow()\n\u001b[1;32m     52\u001b[0m \u001b[38;5;28mprint\u001b[39m(\u001b[38;5;124m\"\u001b[39m\u001b[38;5;130;01m\\n\u001b[39;00m\u001b[38;5;124mClassification Report:\u001b[39m\u001b[38;5;124m\"\u001b[39m)\n\u001b[0;32m---> 53\u001b[0m \u001b[38;5;28mprint\u001b[39m(\u001b[43mclassification_report\u001b[49m\u001b[43m(\u001b[49m\u001b[43my_true\u001b[49m\u001b[43m,\u001b[49m\u001b[43m \u001b[49m\u001b[43mpreds\u001b[49m\u001b[43m,\u001b[49m\u001b[43m \u001b[49m\u001b[43mtarget_names\u001b[49m\u001b[38;5;241;43m=\u001b[39;49m\u001b[43m[\u001b[49m\u001b[38;5;124;43m'\u001b[39;49m\u001b[38;5;124;43mNormal\u001b[39;49m\u001b[38;5;124;43m'\u001b[39;49m\u001b[43m,\u001b[49m\u001b[43m \u001b[49m\u001b[38;5;124;43m'\u001b[39;49m\u001b[38;5;124;43mAbnormal\u001b[39;49m\u001b[38;5;124;43m'\u001b[39;49m\u001b[43m]\u001b[49m\u001b[43m)\u001b[49m)\n",
      "File \u001b[0;32m/opt/conda/lib/python3.10/site-packages/sklearn/utils/_param_validation.py:216\u001b[0m, in \u001b[0;36mvalidate_params.<locals>.decorator.<locals>.wrapper\u001b[0;34m(*args, **kwargs)\u001b[0m\n\u001b[1;32m    210\u001b[0m \u001b[38;5;28;01mtry\u001b[39;00m:\n\u001b[1;32m    211\u001b[0m     \u001b[38;5;28;01mwith\u001b[39;00m config_context(\n\u001b[1;32m    212\u001b[0m         skip_parameter_validation\u001b[38;5;241m=\u001b[39m(\n\u001b[1;32m    213\u001b[0m             prefer_skip_nested_validation \u001b[38;5;129;01mor\u001b[39;00m global_skip_validation\n\u001b[1;32m    214\u001b[0m         )\n\u001b[1;32m    215\u001b[0m     ):\n\u001b[0;32m--> 216\u001b[0m         \u001b[38;5;28;01mreturn\u001b[39;00m \u001b[43mfunc\u001b[49m\u001b[43m(\u001b[49m\u001b[38;5;241;43m*\u001b[39;49m\u001b[43margs\u001b[49m\u001b[43m,\u001b[49m\u001b[43m \u001b[49m\u001b[38;5;241;43m*\u001b[39;49m\u001b[38;5;241;43m*\u001b[39;49m\u001b[43mkwargs\u001b[49m\u001b[43m)\u001b[49m\n\u001b[1;32m    217\u001b[0m \u001b[38;5;28;01mexcept\u001b[39;00m InvalidParameterError \u001b[38;5;28;01mas\u001b[39;00m e:\n\u001b[1;32m    218\u001b[0m     \u001b[38;5;66;03m# When the function is just a wrapper around an estimator, we allow\u001b[39;00m\n\u001b[1;32m    219\u001b[0m     \u001b[38;5;66;03m# the function to delegate validation to the estimator, but we replace\u001b[39;00m\n\u001b[1;32m    220\u001b[0m     \u001b[38;5;66;03m# the name of the estimator by the name of the function in the error\u001b[39;00m\n\u001b[1;32m    221\u001b[0m     \u001b[38;5;66;03m# message to avoid confusion.\u001b[39;00m\n\u001b[1;32m    222\u001b[0m     msg \u001b[38;5;241m=\u001b[39m re\u001b[38;5;241m.\u001b[39msub(\n\u001b[1;32m    223\u001b[0m         \u001b[38;5;124mr\u001b[39m\u001b[38;5;124m\"\u001b[39m\u001b[38;5;124mparameter of \u001b[39m\u001b[38;5;124m\\\u001b[39m\u001b[38;5;124mw+ must be\u001b[39m\u001b[38;5;124m\"\u001b[39m,\n\u001b[1;32m    224\u001b[0m         \u001b[38;5;124mf\u001b[39m\u001b[38;5;124m\"\u001b[39m\u001b[38;5;124mparameter of \u001b[39m\u001b[38;5;132;01m{\u001b[39;00mfunc\u001b[38;5;241m.\u001b[39m\u001b[38;5;18m__qualname__\u001b[39m\u001b[38;5;132;01m}\u001b[39;00m\u001b[38;5;124m must be\u001b[39m\u001b[38;5;124m\"\u001b[39m,\n\u001b[1;32m    225\u001b[0m         \u001b[38;5;28mstr\u001b[39m(e),\n\u001b[1;32m    226\u001b[0m     )\n",
      "File \u001b[0;32m/opt/conda/lib/python3.10/site-packages/sklearn/metrics/_classification.py:2693\u001b[0m, in \u001b[0;36mclassification_report\u001b[0;34m(y_true, y_pred, labels, target_names, sample_weight, digits, output_dict, zero_division)\u001b[0m\n\u001b[1;32m   2687\u001b[0m         warnings\u001b[38;5;241m.\u001b[39mwarn(\n\u001b[1;32m   2688\u001b[0m             \u001b[38;5;124m\"\u001b[39m\u001b[38;5;124mlabels size, \u001b[39m\u001b[38;5;132;01m{0}\u001b[39;00m\u001b[38;5;124m, does not match size of target_names, \u001b[39m\u001b[38;5;132;01m{1}\u001b[39;00m\u001b[38;5;124m\"\u001b[39m\u001b[38;5;241m.\u001b[39mformat(\n\u001b[1;32m   2689\u001b[0m                 \u001b[38;5;28mlen\u001b[39m(labels), \u001b[38;5;28mlen\u001b[39m(target_names)\n\u001b[1;32m   2690\u001b[0m             )\n\u001b[1;32m   2691\u001b[0m         )\n\u001b[1;32m   2692\u001b[0m     \u001b[38;5;28;01melse\u001b[39;00m:\n\u001b[0;32m-> 2693\u001b[0m         \u001b[38;5;28;01mraise\u001b[39;00m \u001b[38;5;167;01mValueError\u001b[39;00m(\n\u001b[1;32m   2694\u001b[0m             \u001b[38;5;124m\"\u001b[39m\u001b[38;5;124mNumber of classes, \u001b[39m\u001b[38;5;132;01m{0}\u001b[39;00m\u001b[38;5;124m, does not match size of \u001b[39m\u001b[38;5;124m\"\u001b[39m\n\u001b[1;32m   2695\u001b[0m             \u001b[38;5;124m\"\u001b[39m\u001b[38;5;124mtarget_names, \u001b[39m\u001b[38;5;132;01m{1}\u001b[39;00m\u001b[38;5;124m. Try specifying the labels \u001b[39m\u001b[38;5;124m\"\u001b[39m\n\u001b[1;32m   2696\u001b[0m             \u001b[38;5;124m\"\u001b[39m\u001b[38;5;124mparameter\u001b[39m\u001b[38;5;124m\"\u001b[39m\u001b[38;5;241m.\u001b[39mformat(\u001b[38;5;28mlen\u001b[39m(labels), \u001b[38;5;28mlen\u001b[39m(target_names))\n\u001b[1;32m   2697\u001b[0m         )\n\u001b[1;32m   2698\u001b[0m \u001b[38;5;28;01mif\u001b[39;00m target_names \u001b[38;5;129;01mis\u001b[39;00m \u001b[38;5;28;01mNone\u001b[39;00m:\n\u001b[1;32m   2699\u001b[0m     target_names \u001b[38;5;241m=\u001b[39m [\u001b[38;5;124m\"\u001b[39m\u001b[38;5;132;01m%s\u001b[39;00m\u001b[38;5;124m\"\u001b[39m \u001b[38;5;241m%\u001b[39m l \u001b[38;5;28;01mfor\u001b[39;00m l \u001b[38;5;129;01min\u001b[39;00m labels]\n",
      "\u001b[0;31mValueError\u001b[0m: Number of classes, 3, does not match size of target_names, 2. Try specifying the labels parameter"
     ]
    }
   ],
   "source": [
    "device = torch.device('cuda' if torch.cuda.is_available() else 'cpu')\n",
    "model = LSTMCls(in_feat=8, hidden=64, layers=2, num_cls=2).to(device)\n",
    "model.load_state_dict(torch.load('./models/brand3/brand3_fold3_best.pth', map_location=device))\n",
    "\n",
    "# 3. 테스트 데이터 로드\n",
    "brand_idx = 3\n",
    "base_dir = './dataset'\n",
    "data_dir = os.path.join(base_dir, f'battery_brand{brand_idx}', 'data')\n",
    "all_files = sorted(glob(os.path.join(data_dir, '*.pkl')))\n",
    "\n",
    "# 2. 셔플 후 split\n",
    "random.seed(42)\n",
    "random.shuffle(all_files)\n",
    "\n",
    "cut = int(len(all_files) * 0.8)\n",
    "train_files = all_files[:cut]\n",
    "test_files = all_files[cut:]\n",
    "\n",
    "print(f\"Total files: {len(all_files)} | Train: {len(train_files)} | Test: {len(test_files)}\")\n",
    "\n",
    "X_list, y_list, lengths = [], [], []\n",
    "\n",
    "for path in test_pkl_files:\n",
    "    x, meta = torch.load(path, weights_only=False)\n",
    "    label = int(meta['label'])  # 예: '00' → 0, '01' → 1\n",
    "\n",
    "    X_tensor = torch.tensor(x, dtype=torch.float)\n",
    "    X_list.append(X_tensor)\n",
    "    y_list.append(label)\n",
    "    lengths.append(len(X_tensor))\n",
    "\n",
    "# 패딩 처리\n",
    "X_padded = pad_sequence(X_list, batch_first=True)\n",
    "lengths = torch.tensor(lengths)\n",
    "y_true = torch.tensor(y_list)\n",
    "\n",
    "# 모델 예측\n",
    "with torch.no_grad():\n",
    "    model.eval()\n",
    "    outputs = model(X_padded.to(device), lengths.to(device))\n",
    "    preds = torch.argmax(outputs, dim=1).cpu()\n",
    "\n",
    "\n",
    "# 6. 평가 및 시각화\n",
    "print(\"F1 Score:\", f1_score(y_true, preds, average='macro'))\n",
    "\n",
    "cm = confusion_matrix(y_true, preds)\n",
    "ConfusionMatrixDisplay(confusion_matrix=cm).plot(cmap='Blues')\n",
    "plt.title(\"Confusion Matrix\")\n",
    "plt.show()\n",
    "\n",
    "print(\"\\nClassification Report:\")\n",
    "print(classification_report(y_true, preds, target_names=['Normal', 'Abnormal']))"
   ]
  }
 ],
 "metadata": {
  "kernelspec": {
   "display_name": "base",
   "language": "python",
   "name": "python3"
  },
  "language_info": {
   "codemirror_mode": {
    "name": "ipython",
    "version": 3
   },
   "file_extension": ".py",
   "mimetype": "text/x-python",
   "name": "python",
   "nbconvert_exporter": "python",
   "pygments_lexer": "ipython3",
   "version": "3.10.13"
  }
 },
 "nbformat": 4,
 "nbformat_minor": 5
}
