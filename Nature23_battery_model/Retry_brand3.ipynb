{
 "cells": [
  {
   "cell_type": "code",
   "execution_count": 2,
   "id": "21d673d7",
   "metadata": {},
   "outputs": [],
   "source": [
    "import os\n",
    "import torch\n",
    "import torch.nn as nn\n",
    "from torch.utils.data import Dataset, DataLoader\n",
    "from glob import glob\n",
    "import numpy as np\n",
    "import matplotlib.pyplot as plt\n",
    "from tqdm import tqdm\n",
    "\n",
    "# --------------------------\n",
    "# Dataset Definition\n",
    "# --------------------------\n",
    "from sklearn.preprocessing import StandardScaler\n",
    "\n",
    "class BatteryDataset(Dataset):\n",
    "    def __init__(self, pkl_paths):\n",
    "        self.paths = pkl_paths\n",
    "        self.scaler = StandardScaler()\n",
    "\n",
    "        # 모든 데이터를 flatten 후 fit (학습셋에 대해서만)\n",
    "        all_data = []\n",
    "        for path in self.paths:\n",
    "            x = torch.load(path, weights_only=False)[0]\n",
    "            all_data.append(x)\n",
    "        all_data = np.concatenate(all_data, axis=0)\n",
    "        self.scaler.fit(all_data)\n",
    "        \n",
    "    def __len__(self):\n",
    "        return len(self.paths)\n",
    "\n",
    "    def __getitem__(self, idx):\n",
    "        path = self.paths[idx]\n",
    "        data = torch.load(path, weights_only=False)\n",
    "        x = data[0]\n",
    "        x = self.scaler.transform(x)\n",
    "        x = torch.tensor(x, dtype=torch.float32)\n",
    "        label_raw = float(data[1]['label'])\n",
    "        label = 1.0 if label_raw == 10.0 else 0.0\n",
    "        y = torch.tensor(label, dtype=torch.float32)\n",
    "        return x, y\n"
   ]
  },
  {
   "cell_type": "code",
   "execution_count": 3,
   "id": "f834d682",
   "metadata": {},
   "outputs": [],
   "source": [
    "class BatteryTestDataset(Dataset):\n",
    "    def __init__(self, pkl_paths, scaler):\n",
    "        self.paths = pkl_paths\n",
    "        self.scaler = scaler\n",
    "\n",
    "    def __len__(self):\n",
    "        return len(self.paths)\n",
    "\n",
    "    def __getitem__(self, idx):\n",
    "        path = self.paths[idx]\n",
    "        data = torch.load(path, weights_only=False)\n",
    "        x = data[0]\n",
    "        x = self.scaler.transform(x)\n",
    "        x = torch.tensor(x, dtype=torch.float32)\n",
    "        label_raw = float(data[1]['label'])\n",
    "        label = 1.0 if label_raw == 10.0 else 0.0\n",
    "        y = torch.tensor(label, dtype=torch.float32)\n",
    "        return x, y\n"
   ]
  },
  {
   "cell_type": "code",
   "execution_count": 4,
   "id": "46b0bd31",
   "metadata": {},
   "outputs": [],
   "source": [
    "# --------------------------\n",
    "# LSTM Model\n",
    "# --------------------------\n",
    "class LSTMClassifier(nn.Module):\n",
    "    def __init__(self, input_dim=8, hidden_dim=64, num_layers=2):\n",
    "        super(LSTMClassifier, self).__init__()\n",
    "        self.lstm = nn.LSTM(input_dim, hidden_dim, num_layers, batch_first=True)\n",
    "        self.fc = nn.Linear(hidden_dim, 1)\n",
    "\n",
    "    def forward(self, x):\n",
    "        out, _ = self.lstm(x)\n",
    "        out = self.fc(out[:, -1, :])  # 마지막 타임스텝\n",
    "        return out.squeeze(1)"
   ]
  },
  {
   "cell_type": "code",
   "execution_count": 5,
   "id": "e4b7cbeb",
   "metadata": {},
   "outputs": [
    {
     "name": "stderr",
     "output_type": "stream",
     "text": [
      "/tmp/ipykernel_2048398/1805973455.py:8: FutureWarning: You are using `torch.load` with `weights_only=False` (the current default value), which uses the default pickle module implicitly. It is possible to construct malicious pickle data which will execute arbitrary code during unpickling (See https://github.com/pytorch/pytorch/blob/main/SECURITY.md#untrusted-models for more details). In a future release, the default value for `weights_only` will be flipped to `True`. This limits the functions that could be executed during unpickling. Arbitrary objects will no longer be allowed to be loaded via this mode unless they are explicitly allowlisted by the user via `torch.serialization.add_safe_globals`. We recommend you start setting `weights_only=True` for any use case where you don't have full control of the loaded file. Please open an issue on GitHub for any issues related to this experimental feature.\n",
      "  normal_count = sum(int(torch.load(p)[1]['label']) == 0 for p in train_paths)\n",
      "/tmp/ipykernel_2048398/1805973455.py:9: FutureWarning: You are using `torch.load` with `weights_only=False` (the current default value), which uses the default pickle module implicitly. It is possible to construct malicious pickle data which will execute arbitrary code during unpickling (See https://github.com/pytorch/pytorch/blob/main/SECURITY.md#untrusted-models for more details). In a future release, the default value for `weights_only` will be flipped to `True`. This limits the functions that could be executed during unpickling. Arbitrary objects will no longer be allowed to be loaded via this mode unless they are explicitly allowlisted by the user via `torch.serialization.add_safe_globals`. We recommend you start setting `weights_only=True` for any use case where you don't have full control of the loaded file. Please open an issue on GitHub for any issues related to this experimental feature.\n",
      "  abnormal_count = sum(int(torch.load(p)[1]['label']) == 10 for p in train_paths)\n"
     ]
    }
   ],
   "source": [
    "\n",
    "# --------------------------\n",
    "# Prepare Data\n",
    "# --------------------------\n",
    "train_paths = glob('./dataset/battery_brand3/train/*.pkl')\n",
    "test_paths = glob('./dataset/battery_brand3/test/*.pkl')\n",
    "\n",
    "# 클래스별 비율\n",
    "normal_count = sum(int(torch.load(p)[1]['label']) == 0 for p in train_paths)\n",
    "abnormal_count = sum(int(torch.load(p)[1]['label']) == 10 for p in train_paths)\n",
    "pos_weight = torch.tensor([normal_count / abnormal_count])\n",
    "\n",
    "train_dataset = BatteryDataset(train_paths)\n",
    "test_dataset = BatteryTestDataset(test_paths,  scaler=train_dataset.scaler)\n",
    "train_loader = DataLoader(train_dataset, batch_size=512, shuffle=True, pin_memory=True)\n",
    "test_loader = DataLoader(test_dataset, batch_size=512,  pin_memory=True)"
   ]
  },
  {
   "cell_type": "code",
   "execution_count": 6,
   "id": "6b5d0f93",
   "metadata": {},
   "outputs": [
    {
     "name": "stdout",
     "output_type": "stream",
     "text": [
      "y 라벨 샘플: tensor([0., 0., 0., 0., 0., 0., 0., 0., 0., 0.])\n",
      "y 데이터 타입: torch.float32\n",
      "y 고유 값들: tensor([0., 1.])\n"
     ]
    }
   ],
   "source": [
    "X_batch, y_batch = next(iter(train_loader))\n",
    "print(\"y 라벨 샘플:\", y_batch[:10])\n",
    "print(\"y 데이터 타입:\", y_batch.dtype)\n",
    "print(\"y 고유 값들:\", y_batch.unique())"
   ]
  },
  {
   "cell_type": "code",
   "execution_count": 17,
   "id": "2db81916",
   "metadata": {},
   "outputs": [
    {
     "name": "stderr",
     "output_type": "stream",
     "text": [
      "/opt/conda/lib/python3.10/site-packages/torch/optim/lr_scheduler.py:62: UserWarning: The verbose parameter is deprecated. Please use get_last_lr() to access the learning rate.\n",
      "  warnings.warn(\n"
     ]
    }
   ],
   "source": [
    "\n",
    "# --------------------------\n",
    "# Training Loop\n",
    "# --------------------------\n",
    "device = torch.device(\"cuda\" if torch.cuda.is_available() else \"cpu\")\n",
    "model = LSTMClassifier().to(device)\n",
    "criterion = nn.BCEWithLogitsLoss(pos_weight=pos_weight.to(device))\n",
    "optimizer = torch.optim.Adam(model.parameters(), lr=1e-4)\n",
    "scheduler = torch.optim.lr_scheduler.ReduceLROnPlateau(\n",
    "    optimizer, mode='min', factor=0.5, patience=3, verbose=True\n",
    ")\n",
    "\n",
    "num_epochs = 25\n",
    "loss_history = []"
   ]
  },
  {
   "cell_type": "code",
   "execution_count": 13,
   "id": "0e8996cd",
   "metadata": {},
   "outputs": [
    {
     "data": {
      "text/plain": [
       "device(type='cuda')"
      ]
     },
     "execution_count": 13,
     "metadata": {},
     "output_type": "execute_result"
    }
   ],
   "source": [
    "device"
   ]
  },
  {
   "cell_type": "code",
   "execution_count": 18,
   "id": "55acea41",
   "metadata": {},
   "outputs": [
    {
     "name": "stderr",
     "output_type": "stream",
     "text": [
      "Epoch 1/25: 100%|██████████| 49/49 [00:09<00:00,  5.17it/s]\n",
      "  4%|▍         | 1/25 [00:09<03:47,  9.50s/it]"
     ]
    },
    {
     "name": "stdout",
     "output_type": "stream",
     "text": [
      "[Epoch 01] Average Loss: 1.2932 | Train Accuracy: 0.8546\n"
     ]
    },
    {
     "name": "stderr",
     "output_type": "stream",
     "text": [
      "Epoch 2/25: 100%|██████████| 49/49 [00:09<00:00,  5.11it/s]\n",
      "  8%|▊         | 2/25 [00:19<03:40,  9.57s/it]"
     ]
    },
    {
     "name": "stdout",
     "output_type": "stream",
     "text": [
      "[Epoch 02] Average Loss: 1.2280 | Train Accuracy: 0.6522\n"
     ]
    },
    {
     "name": "stderr",
     "output_type": "stream",
     "text": [
      "Epoch 3/25: 100%|██████████| 49/49 [00:09<00:00,  4.94it/s]\n",
      " 12%|█▏        | 3/25 [00:29<03:34,  9.74s/it]"
     ]
    },
    {
     "name": "stdout",
     "output_type": "stream",
     "text": [
      "[Epoch 03] Average Loss: 1.0240 | Train Accuracy: 0.6727\n"
     ]
    },
    {
     "name": "stderr",
     "output_type": "stream",
     "text": [
      "Epoch 4/25: 100%|██████████| 49/49 [00:09<00:00,  5.23it/s]\n",
      " 16%|█▌        | 4/25 [00:38<03:21,  9.60s/it]"
     ]
    },
    {
     "name": "stdout",
     "output_type": "stream",
     "text": [
      "[Epoch 04] Average Loss: 0.7615 | Train Accuracy: 0.7684\n"
     ]
    },
    {
     "name": "stderr",
     "output_type": "stream",
     "text": [
      "Epoch 5/25: 100%|██████████| 49/49 [00:09<00:00,  5.36it/s]\n",
      " 20%|██        | 5/25 [00:47<03:08,  9.44s/it]"
     ]
    },
    {
     "name": "stdout",
     "output_type": "stream",
     "text": [
      "[Epoch 05] Average Loss: 0.6599 | Train Accuracy: 0.7941\n"
     ]
    },
    {
     "name": "stderr",
     "output_type": "stream",
     "text": [
      "Epoch 6/25: 100%|██████████| 49/49 [00:09<00:00,  5.34it/s]\n",
      " 24%|██▍       | 6/25 [00:56<02:57,  9.35s/it]"
     ]
    },
    {
     "name": "stdout",
     "output_type": "stream",
     "text": [
      "[Epoch 06] Average Loss: 0.6483 | Train Accuracy: 0.7767\n"
     ]
    },
    {
     "name": "stderr",
     "output_type": "stream",
     "text": [
      "Epoch 7/25: 100%|██████████| 49/49 [00:09<00:00,  5.35it/s]\n",
      " 28%|██▊       | 7/25 [01:05<02:47,  9.29s/it]"
     ]
    },
    {
     "name": "stdout",
     "output_type": "stream",
     "text": [
      "[Epoch 07] Average Loss: 0.6371 | Train Accuracy: 0.7859\n"
     ]
    },
    {
     "name": "stderr",
     "output_type": "stream",
     "text": [
      "Epoch 8/25: 100%|██████████| 49/49 [00:09<00:00,  5.28it/s]\n",
      " 32%|███▏      | 8/25 [01:15<02:38,  9.30s/it]"
     ]
    },
    {
     "name": "stdout",
     "output_type": "stream",
     "text": [
      "[Epoch 08] Average Loss: 0.6294 | Train Accuracy: 0.7917\n"
     ]
    },
    {
     "name": "stderr",
     "output_type": "stream",
     "text": [
      "Epoch 9/25: 100%|██████████| 49/49 [00:09<00:00,  5.30it/s]\n",
      " 36%|███▌      | 9/25 [01:24<02:28,  9.29s/it]"
     ]
    },
    {
     "name": "stdout",
     "output_type": "stream",
     "text": [
      "[Epoch 09] Average Loss: 0.6327 | Train Accuracy: 0.7835\n"
     ]
    },
    {
     "name": "stderr",
     "output_type": "stream",
     "text": [
      "Epoch 10/25: 100%|██████████| 49/49 [00:09<00:00,  5.30it/s]\n",
      " 40%|████      | 10/25 [01:33<02:19,  9.28s/it]"
     ]
    },
    {
     "name": "stdout",
     "output_type": "stream",
     "text": [
      "[Epoch 10] Average Loss: 0.6275 | Train Accuracy: 0.7739\n"
     ]
    },
    {
     "name": "stderr",
     "output_type": "stream",
     "text": [
      "Epoch 11/25: 100%|██████████| 49/49 [00:09<00:00,  5.05it/s]\n",
      " 44%|████▍     | 11/25 [01:43<02:11,  9.41s/it]"
     ]
    },
    {
     "name": "stdout",
     "output_type": "stream",
     "text": [
      "[Epoch 11] Average Loss: 0.6215 | Train Accuracy: 0.7712\n"
     ]
    },
    {
     "name": "stderr",
     "output_type": "stream",
     "text": [
      "Epoch 12/25: 100%|██████████| 49/49 [00:09<00:00,  5.03it/s]\n",
      " 48%|████▊     | 12/25 [01:53<02:03,  9.52s/it]"
     ]
    },
    {
     "name": "stdout",
     "output_type": "stream",
     "text": [
      "[Epoch 12] Average Loss: 0.6075 | Train Accuracy: 0.7821\n"
     ]
    },
    {
     "name": "stderr",
     "output_type": "stream",
     "text": [
      "Epoch 13/25: 100%|██████████| 49/49 [00:09<00:00,  5.22it/s]\n",
      " 52%|█████▏    | 13/25 [02:02<01:53,  9.48s/it]"
     ]
    },
    {
     "name": "stdout",
     "output_type": "stream",
     "text": [
      "[Epoch 13] Average Loss: 0.6031 | Train Accuracy: 0.7881\n"
     ]
    },
    {
     "name": "stderr",
     "output_type": "stream",
     "text": [
      "Epoch 14/25: 100%|██████████| 49/49 [00:09<00:00,  5.41it/s]\n",
      " 56%|█████▌    | 14/25 [02:11<01:42,  9.36s/it]"
     ]
    },
    {
     "name": "stdout",
     "output_type": "stream",
     "text": [
      "[Epoch 14] Average Loss: 0.6095 | Train Accuracy: 0.7966\n"
     ]
    },
    {
     "name": "stderr",
     "output_type": "stream",
     "text": [
      "Epoch 15/25: 100%|██████████| 49/49 [00:09<00:00,  5.18it/s]\n",
      " 60%|██████    | 15/25 [02:21<01:33,  9.39s/it]"
     ]
    },
    {
     "name": "stdout",
     "output_type": "stream",
     "text": [
      "[Epoch 15] Average Loss: 0.6041 | Train Accuracy: 0.7882\n"
     ]
    },
    {
     "name": "stderr",
     "output_type": "stream",
     "text": [
      "Epoch 16/25: 100%|██████████| 49/49 [00:09<00:00,  5.13it/s]\n",
      " 64%|██████▍   | 16/25 [02:30<01:25,  9.45s/it]"
     ]
    },
    {
     "name": "stdout",
     "output_type": "stream",
     "text": [
      "[Epoch 16] Average Loss: 0.5913 | Train Accuracy: 0.7950\n"
     ]
    },
    {
     "name": "stderr",
     "output_type": "stream",
     "text": [
      "Epoch 17/25: 100%|██████████| 49/49 [00:09<00:00,  5.23it/s]\n",
      " 68%|██████▊   | 17/25 [02:40<01:15,  9.43s/it]"
     ]
    },
    {
     "name": "stdout",
     "output_type": "stream",
     "text": [
      "[Epoch 17] Average Loss: 0.5948 | Train Accuracy: 0.7910\n"
     ]
    },
    {
     "name": "stderr",
     "output_type": "stream",
     "text": [
      "Epoch 18/25: 100%|██████████| 49/49 [00:09<00:00,  5.33it/s]\n",
      " 72%|███████▏  | 18/25 [02:49<01:05,  9.36s/it]"
     ]
    },
    {
     "name": "stdout",
     "output_type": "stream",
     "text": [
      "[Epoch 18] Average Loss: 0.5877 | Train Accuracy: 0.7935\n"
     ]
    },
    {
     "name": "stderr",
     "output_type": "stream",
     "text": [
      "Epoch 19/25: 100%|██████████| 49/49 [00:09<00:00,  5.24it/s]\n",
      " 76%|███████▌  | 19/25 [02:58<00:56,  9.36s/it]"
     ]
    },
    {
     "name": "stdout",
     "output_type": "stream",
     "text": [
      "[Epoch 19] Average Loss: 0.5859 | Train Accuracy: 0.7959\n"
     ]
    },
    {
     "name": "stderr",
     "output_type": "stream",
     "text": [
      "Epoch 20/25: 100%|██████████| 49/49 [00:09<00:00,  5.31it/s]\n",
      " 80%|████████  | 20/25 [03:07<00:46,  9.33s/it]"
     ]
    },
    {
     "name": "stdout",
     "output_type": "stream",
     "text": [
      "[Epoch 20] Average Loss: 0.5887 | Train Accuracy: 0.8047\n"
     ]
    },
    {
     "name": "stderr",
     "output_type": "stream",
     "text": [
      "Epoch 21/25: 100%|██████████| 49/49 [00:09<00:00,  5.20it/s]\n",
      " 84%|████████▍ | 21/25 [03:17<00:37,  9.36s/it]"
     ]
    },
    {
     "name": "stdout",
     "output_type": "stream",
     "text": [
      "[Epoch 21] Average Loss: 0.5835 | Train Accuracy: 0.8003\n"
     ]
    },
    {
     "name": "stderr",
     "output_type": "stream",
     "text": [
      "Epoch 22/25: 100%|██████████| 49/49 [00:09<00:00,  5.09it/s]\n",
      " 88%|████████▊ | 22/25 [03:27<00:28,  9.45s/it]"
     ]
    },
    {
     "name": "stdout",
     "output_type": "stream",
     "text": [
      "[Epoch 22] Average Loss: 0.5959 | Train Accuracy: 0.7906\n"
     ]
    },
    {
     "name": "stderr",
     "output_type": "stream",
     "text": [
      "Epoch 23/25: 100%|██████████| 49/49 [00:09<00:00,  5.04it/s]\n",
      " 92%|█████████▏| 23/25 [03:36<00:19,  9.53s/it]"
     ]
    },
    {
     "name": "stdout",
     "output_type": "stream",
     "text": [
      "[Epoch 23] Average Loss: 0.5790 | Train Accuracy: 0.8014\n"
     ]
    },
    {
     "name": "stderr",
     "output_type": "stream",
     "text": [
      "Epoch 24/25: 100%|██████████| 49/49 [00:09<00:00,  5.17it/s]\n",
      " 96%|█████████▌| 24/25 [03:46<00:09,  9.52s/it]"
     ]
    },
    {
     "name": "stdout",
     "output_type": "stream",
     "text": [
      "[Epoch 24] Average Loss: 0.5811 | Train Accuracy: 0.8110\n"
     ]
    },
    {
     "name": "stderr",
     "output_type": "stream",
     "text": [
      "Epoch 25/25: 100%|██████████| 49/49 [00:09<00:00,  4.91it/s]\n",
      "100%|██████████| 25/25 [03:56<00:00,  9.45s/it]"
     ]
    },
    {
     "name": "stdout",
     "output_type": "stream",
     "text": [
      "[Epoch 25] Average Loss: 0.5777 | Train Accuracy: 0.8021\n"
     ]
    },
    {
     "name": "stderr",
     "output_type": "stream",
     "text": [
      "\n"
     ]
    }
   ],
   "source": [
    "from sklearn.metrics import accuracy_score\n",
    "\n",
    "for epoch in tqdm(range(num_epochs)):\n",
    "    model.train()\n",
    "    epoch_loss = 0\n",
    "    all_preds = []\n",
    "    all_labels = []\n",
    "\n",
    "    for X, y in tqdm(train_loader, desc=f\"Epoch {epoch+1}/{num_epochs}\"):\n",
    "        X, y = X.to(device), y.to(device)\n",
    "        optimizer.zero_grad()\n",
    "        logits = model(X).to(device)\n",
    "        loss = criterion(logits, y)\n",
    "        loss.backward()\n",
    "        optimizer.step()\n",
    "\n",
    "        epoch_loss += loss.item() * X.size(0)\n",
    "\n",
    "        # accuracy 계산을 위한 예측 결과 수집\n",
    "        preds = torch.sigmoid(logits) > 0.5\n",
    "        all_preds.extend(preds.detach().cpu().numpy())\n",
    "        all_labels.extend(y.detach().cpu().numpy())\n",
    "\n",
    "    avg_loss = epoch_loss / len(train_loader.dataset)\n",
    "    train_acc = accuracy_score(all_labels, all_preds)\n",
    "    loss_history.append(avg_loss)\n",
    "    scheduler.step(avg_loss)\n",
    "\n",
    "    print(f\"[Epoch {epoch+1:02d}] Average Loss: {avg_loss:.4f} | Train Accuracy: {train_acc:.4f}\")\n"
   ]
  },
  {
   "cell_type": "code",
   "execution_count": null,
   "id": "36c29deb",
   "metadata": {},
   "outputs": [
    {
     "name": "stderr",
     "output_type": "stream",
     "text": [
      "Epoch 1/20: 100%|██████████| 49/49 [00:09<00:00,  5.28it/s]\n",
      "  5%|▌         | 1/20 [00:09<02:56,  9.29s/it]"
     ]
    },
    {
     "name": "stdout",
     "output_type": "stream",
     "text": [
      "[Epoch 01] Average Loss: 0.5981 | Train Accuracy: 0.8045\n"
     ]
    },
    {
     "name": "stderr",
     "output_type": "stream",
     "text": [
      "Epoch 2/20: 100%|██████████| 49/49 [00:09<00:00,  5.30it/s]\n",
      " 10%|█         | 2/20 [00:18<02:46,  9.27s/it]"
     ]
    },
    {
     "name": "stdout",
     "output_type": "stream",
     "text": [
      "[Epoch 02] Average Loss: 0.5738 | Train Accuracy: 0.7994\n"
     ]
    },
    {
     "name": "stderr",
     "output_type": "stream",
     "text": [
      "Epoch 3/20: 100%|██████████| 49/49 [00:09<00:00,  5.30it/s]\n",
      " 15%|█▌        | 3/20 [00:27<02:37,  9.26s/it]"
     ]
    },
    {
     "name": "stdout",
     "output_type": "stream",
     "text": [
      "[Epoch 03] Average Loss: 0.5717 | Train Accuracy: 0.8009\n"
     ]
    },
    {
     "name": "stderr",
     "output_type": "stream",
     "text": [
      "Epoch 4/20: 100%|██████████| 49/49 [00:08<00:00,  5.55it/s]\n",
      " 20%|██        | 4/20 [00:36<02:25,  9.10s/it]"
     ]
    },
    {
     "name": "stdout",
     "output_type": "stream",
     "text": [
      "[Epoch 04] Average Loss: 0.5716 | Train Accuracy: 0.7872\n"
     ]
    },
    {
     "name": "stderr",
     "output_type": "stream",
     "text": [
      "Epoch 5/20: 100%|██████████| 49/49 [00:09<00:00,  5.37it/s]\n",
      " 25%|██▌       | 5/20 [00:45<02:16,  9.12s/it]"
     ]
    },
    {
     "name": "stdout",
     "output_type": "stream",
     "text": [
      "[Epoch 05] Average Loss: 0.5691 | Train Accuracy: 0.7933\n"
     ]
    },
    {
     "name": "stderr",
     "output_type": "stream",
     "text": [
      "Epoch 6/20: 100%|██████████| 49/49 [00:09<00:00,  5.40it/s]\n",
      " 30%|███       | 6/20 [00:54<02:07,  9.11s/it]"
     ]
    },
    {
     "name": "stdout",
     "output_type": "stream",
     "text": [
      "[Epoch 06] Average Loss: 0.5661 | Train Accuracy: 0.7967\n"
     ]
    },
    {
     "name": "stderr",
     "output_type": "stream",
     "text": [
      "Epoch 7/20: 100%|██████████| 49/49 [00:09<00:00,  5.20it/s]\n",
      " 35%|███▌      | 7/20 [01:04<01:59,  9.21s/it]"
     ]
    },
    {
     "name": "stdout",
     "output_type": "stream",
     "text": [
      "[Epoch 07] Average Loss: 0.5703 | Train Accuracy: 0.8009\n"
     ]
    },
    {
     "name": "stderr",
     "output_type": "stream",
     "text": [
      "Epoch 8/20: 100%|██████████| 49/49 [00:09<00:00,  5.42it/s]\n",
      " 40%|████      | 8/20 [01:13<01:49,  9.16s/it]"
     ]
    },
    {
     "name": "stdout",
     "output_type": "stream",
     "text": [
      "[Epoch 08] Average Loss: 0.5638 | Train Accuracy: 0.7934\n"
     ]
    },
    {
     "name": "stderr",
     "output_type": "stream",
     "text": [
      "Epoch 9/20: 100%|██████████| 49/49 [00:08<00:00,  5.60it/s]\n",
      " 45%|████▌     | 9/20 [01:22<01:39,  9.04s/it]"
     ]
    },
    {
     "name": "stdout",
     "output_type": "stream",
     "text": [
      "[Epoch 09] Average Loss: 0.5588 | Train Accuracy: 0.7980\n"
     ]
    },
    {
     "name": "stderr",
     "output_type": "stream",
     "text": [
      "Epoch 10/20: 100%|██████████| 49/49 [00:08<00:00,  5.51it/s]\n",
      " 50%|█████     | 10/20 [01:31<01:29,  9.00s/it]"
     ]
    },
    {
     "name": "stdout",
     "output_type": "stream",
     "text": [
      "[Epoch 10] Average Loss: 0.5641 | Train Accuracy: 0.7956\n"
     ]
    },
    {
     "name": "stderr",
     "output_type": "stream",
     "text": [
      "Epoch 11/20: 100%|██████████| 49/49 [00:09<00:00,  5.27it/s]\n",
      " 55%|█████▌    | 11/20 [01:40<01:21,  9.09s/it]"
     ]
    },
    {
     "name": "stdout",
     "output_type": "stream",
     "text": [
      "[Epoch 11] Average Loss: 0.5570 | Train Accuracy: 0.7973\n"
     ]
    },
    {
     "name": "stderr",
     "output_type": "stream",
     "text": [
      "Epoch 12/20: 100%|██████████| 49/49 [00:09<00:00,  5.23it/s]\n",
      " 60%|██████    | 12/20 [01:49<01:13,  9.18s/it]"
     ]
    },
    {
     "name": "stdout",
     "output_type": "stream",
     "text": [
      "[Epoch 12] Average Loss: 0.5553 | Train Accuracy: 0.7986\n"
     ]
    },
    {
     "name": "stderr",
     "output_type": "stream",
     "text": [
      "Epoch 13/20: 100%|██████████| 49/49 [00:08<00:00,  5.52it/s]\n",
      " 65%|██████▌   | 13/20 [01:58<01:03,  9.09s/it]"
     ]
    },
    {
     "name": "stdout",
     "output_type": "stream",
     "text": [
      "[Epoch 13] Average Loss: 0.5558 | Train Accuracy: 0.8005\n"
     ]
    },
    {
     "name": "stderr",
     "output_type": "stream",
     "text": [
      "Epoch 14/20: 100%|██████████| 49/49 [00:09<00:00,  5.13it/s]\n",
      " 70%|███████   | 14/20 [02:08<00:55,  9.24s/it]"
     ]
    },
    {
     "name": "stdout",
     "output_type": "stream",
     "text": [
      "[Epoch 14] Average Loss: 0.5635 | Train Accuracy: 0.8016\n"
     ]
    },
    {
     "name": "stderr",
     "output_type": "stream",
     "text": [
      "Epoch 15/20: 100%|██████████| 49/49 [00:09<00:00,  5.34it/s]\n",
      " 75%|███████▌  | 15/20 [02:17<00:46,  9.22s/it]"
     ]
    },
    {
     "name": "stdout",
     "output_type": "stream",
     "text": [
      "[Epoch 15] Average Loss: 0.5565 | Train Accuracy: 0.7964\n"
     ]
    },
    {
     "name": "stderr",
     "output_type": "stream",
     "text": [
      "Epoch 16/20: 100%|██████████| 49/49 [00:09<00:00,  4.97it/s]\n",
      " 80%|████████  | 16/20 [02:27<00:37,  9.42s/it]"
     ]
    },
    {
     "name": "stdout",
     "output_type": "stream",
     "text": [
      "[Epoch 16] Average Loss: 0.5660 | Train Accuracy: 0.7998\n"
     ]
    },
    {
     "name": "stderr",
     "output_type": "stream",
     "text": [
      "Epoch 17/20: 100%|██████████| 49/49 [00:08<00:00,  5.45it/s]\n",
      " 85%|████████▌ | 17/20 [02:36<00:27,  9.29s/it]"
     ]
    },
    {
     "name": "stdout",
     "output_type": "stream",
     "text": [
      "[Epoch 17] Average Loss: 0.5680 | Train Accuracy: 0.8008\n"
     ]
    },
    {
     "name": "stderr",
     "output_type": "stream",
     "text": [
      "Epoch 18/20: 100%|██████████| 49/49 [00:09<00:00,  5.30it/s]\n",
      " 90%|█████████ | 18/20 [02:45<00:18,  9.28s/it]"
     ]
    },
    {
     "name": "stdout",
     "output_type": "stream",
     "text": [
      "[Epoch 18] Average Loss: 0.5627 | Train Accuracy: 0.8016\n"
     ]
    },
    {
     "name": "stderr",
     "output_type": "stream",
     "text": [
      "Epoch 19/20: 100%|██████████| 49/49 [00:09<00:00,  5.37it/s]\n",
      " 95%|█████████▌| 19/20 [02:54<00:09,  9.24s/it]"
     ]
    },
    {
     "name": "stdout",
     "output_type": "stream",
     "text": [
      "[Epoch 19] Average Loss: 0.5527 | Train Accuracy: 0.7977\n"
     ]
    },
    {
     "name": "stderr",
     "output_type": "stream",
     "text": [
      "Epoch 20/20: 100%|██████████| 49/49 [00:08<00:00,  5.46it/s]\n",
      "100%|██████████| 20/20 [03:03<00:00,  9.18s/it]"
     ]
    },
    {
     "name": "stdout",
     "output_type": "stream",
     "text": [
      "[Epoch 20] Average Loss: 0.5556 | Train Accuracy: 0.7976\n"
     ]
    },
    {
     "name": "stderr",
     "output_type": "stream",
     "text": [
      "\n"
     ]
    }
   ],
   "source": [
    "num_epochs= 20\n",
    "for epoch in tqdm(range(num_epochs)):\n",
    "    model.train()\n",
    "    epoch_loss = 0\n",
    "    all_preds = []\n",
    "    all_labels = []\n",
    "\n",
    "    for X, y in tqdm(train_loader, desc=f\"Epoch {epoch+1}/{num_epochs}\"):\n",
    "        X, y = X.to(device), y.to(device)\n",
    "        optimizer.zero_grad()\n",
    "        logits = model(X).to(device)\n",
    "        loss = criterion(logits, y)\n",
    "        loss.backward()\n",
    "        optimizer.step()\n",
    "\n",
    "        epoch_loss += loss.item() * X.size(0)\n",
    "\n",
    "        # accuracy 계산을 위한 예측 결과 수집\n",
    "        preds = torch.sigmoid(logits) > 0.5\n",
    "        all_preds.extend(preds.detach().cpu().numpy())\n",
    "        all_labels.extend(y.detach().cpu().numpy())\n",
    "\n",
    "    avg_loss = epoch_loss / len(train_loader.dataset)\n",
    "    train_acc = accuracy_score(all_labels, all_preds)\n",
    "    loss_history.append(avg_loss)\n",
    "    scheduler.step(avg_loss)\n",
    "\n",
    "    print(f\"[Epoch {epoch+1:02d}] Average Loss: {avg_loss:.4f} | Train Accuracy: {train_acc:.4f}\")"
   ]
  },
  {
   "cell_type": "code",
   "execution_count": 28,
   "id": "624db9e8",
   "metadata": {},
   "outputs": [],
   "source": [
    "from sklearn.metrics import confusion_matrix, accuracy_score, f1_score\n",
    "import matplotlib.pyplot as plt\n",
    "import seaborn as sns\n",
    "import numpy as np\n",
    "import torch\n",
    "\n",
    "def evaluate_model(model, test_loader, device, threshold=0.8):\n",
    "    model.eval()\n",
    "    all_preds = []\n",
    "    all_labels = []\n",
    "\n",
    "    with torch.no_grad():\n",
    "        for X, y in test_loader:\n",
    "            X = X.to(device)\n",
    "            y = y.to(device).float()\n",
    "\n",
    "            logits = model(X)\n",
    "            probs = torch.sigmoid(logits)\n",
    "            preds = (probs >= threshold).long()\n",
    "\n",
    "            all_preds.extend(preds.cpu().numpy().astype(int))\n",
    "            all_labels.extend(y.cpu().numpy().astype(int))\n",
    "\n",
    "\n",
    "    # 📊 스코어 계산\n",
    "    acc = accuracy_score(all_labels, all_preds)\n",
    "    f1 = f1_score(all_labels, all_preds, average='binary')\n",
    "    cm = confusion_matrix(all_labels, all_preds)\n",
    "\n",
    "    print(f\"✅ Accuracy: {acc:.4f}\")\n",
    "    print(f\"✅ F1 Score: {f1:.4f}\")\n",
    "    print(f\"📊 Confusion Matrix:\\n{cm}\")\n",
    "\n",
    "    # 📈 시각화\n",
    "    plt.figure(figsize=(5, 4))\n",
    "    sns.heatmap(cm, annot=True, fmt=\"d\", cmap=\"Blues\", \n",
    "                xticklabels=[\"Normal\", \"Abnormal\"], yticklabels=[\"Normal\", \"Abnormal\"])\n",
    "    plt.xlabel(\"Predicted\")\n",
    "    plt.ylabel(\"Actual\")\n",
    "    plt.title(\"Confusion Matrix\")\n",
    "    plt.tight_layout()\n",
    "    plt.show()\n"
   ]
  },
  {
   "cell_type": "code",
   "execution_count": 36,
   "id": "78ac5e35",
   "metadata": {},
   "outputs": [
    {
     "name": "stdout",
     "output_type": "stream",
     "text": [
      "✅ Accuracy: 0.8373\n",
      "✅ F1 Score: 0.4258\n",
      "📊 Confusion Matrix:\n",
      "[[3824  723]\n",
      " [  78  297]]\n"
     ]
    },
    {
     "data": {
      "image/png": "[encoded data removed]",
      "text/plain": [
       "<Figure size 500x400 with 2 Axes>"
      ]
     },
     "metadata": {},
     "output_type": "display_data"
    }
   ],
   "source": [
    "evaluate_model(model, test_loader, device, threshold=0.80)"
   ]
  },
  {
   "cell_type": "code",
   "execution_count": null,
   "id": "d3d32696",
   "metadata": {},
   "outputs": [],
   "source": []
  },
  {
   "cell_type": "code",
   "execution_count": 24,
   "id": "6d2e0eee",
   "metadata": {},
   "outputs": [
    {
     "name": "stdout",
     "output_type": "stream",
     "text": [
      "y 라벨 샘플: tensor([0., 0., 0., 0., 0., 0., 0., 0., 0., 0.])\n",
      "y 데이터 타입: torch.float32\n",
      "y 고유 값들: tensor([0., 1.])\n"
     ]
    }
   ],
   "source": [
    "X_batch, y_batch = next(iter(train_loader))\n",
    "print(\"y 라벨 샘플:\", y_batch[:10])\n",
    "print(\"y 데이터 타입:\", y_batch.dtype)\n",
    "print(\"y 고유 값들:\", y_batch.unique())"
   ]
  },
  {
   "cell_type": "code",
   "execution_count": 22,
   "id": "7d2c368d",
   "metadata": {},
   "outputs": [],
   "source": [
    "\n",
    "# --------------------------\n",
    "# Save Model & Hyperparameters\n",
    "# --------------------------\n",
    "os.makedirs('./saved_models', exist_ok=True)\n",
    "torch.save(model.state_dict(), './saved_models/lstm_brand3.pt')\n",
    "torch.save({\n",
    "    'input_dim': 8,\n",
    "    'hidden_dim': 64,\n",
    "    'num_layers': 2,\n",
    "    'pos_weight': pos_weight.item(),\n",
    "    'lr': 1e-2,\n",
    "    'batch_size': 512,\n",
    "    'epochs': num_epochs,\n",
    "    'optimizer_state_dict': optimizer.state_dict(),\n",
    "    'scheduler_state_dict': scheduler.state_dict(), \n",
    "}, './saved_models/lstm_brand3_hparams.pt')\n"
   ]
  },
  {
   "cell_type": "code",
   "execution_count": 23,
   "id": "d0183d8c",
   "metadata": {},
   "outputs": [
    {
     "data": {
      "image/png": "[encoded data removed]",
      "text/plain": [
       "<Figure size 640x480 with 1 Axes>"
      ]
     },
     "metadata": {},
     "output_type": "display_data"
    }
   ],
   "source": [
    "\n",
    "# --------------------------\n",
    "# Plot Loss History\n",
    "# --------------------------\n",
    "plt.plot(loss_history, marker='o')\n",
    "plt.title(\"Train Loss per Epoch\")\n",
    "plt.xlabel(\"Epoch\")\n",
    "plt.ylabel(\"Loss\")\n",
    "plt.grid(True)\n",
    "plt.tight_layout()\n",
    "plt.show()\n"
   ]
  },
  {
   "cell_type": "code",
   "execution_count": null,
   "id": "4f63528f",
   "metadata": {},
   "outputs": [],
   "source": []
  }
 ],
 "metadata": {
  "kernelspec": {
   "display_name": "base",
   "language": "python",
   "name": "python3"
  },
  "language_info": {
   "codemirror_mode": {
    "name": "ipython",
    "version": 3
   },
   "file_extension": ".py",
   "mimetype": "text/x-python",
   "name": "python",
   "nbconvert_exporter": "python",
   "pygments_lexer": "ipython3",
   "version": "3.10.13"
  }
 },
 "nbformat": 4,
 "nbformat_minor": 5
}
